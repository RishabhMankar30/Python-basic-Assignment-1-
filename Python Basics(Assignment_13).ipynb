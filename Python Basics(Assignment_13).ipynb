{
  "nbformat": 4,
  "nbformat_minor": 0,
  "metadata": {
    "colab": {
      "provenance": []
    },
    "kernelspec": {
      "name": "python3",
      "display_name": "Python 3"
    },
    "language_info": {
      "name": "python"
    }
  },
  "cells": [
    {
      "cell_type": "markdown",
      "source": [
        "**1. What advantages do Excel spreadsheets have over CSV spreadsheets?**"
      ],
      "metadata": {
        "id": "Vl4E-yrlZvi0"
      }
    },
    {
      "cell_type": "markdown",
      "source": [
        "Solution: \n",
        "- CSV stands for Comma Separated Values. It is a plain text format with a series of values separated by commas. where It is a binary file that holds information about all the worksheets in a workbook\n",
        "-  CSV files can be opened or edited by text editors like notepad, where as Files saved in excel cannot be opened or edited by text editors\n",
        "- Any programming language to parse CSV data is trivial, generating it is extremely easy, whereas Excel data is generally larger, slower and complicated\n",
        "-  CSV is safe and can clearly differentiate between the numeric values and text.\n",
        "- \tImporting CSV files can be much faster, and it also consumes less memory, where excel consumes more memory.\n",
        "- As a programmer, it’s easy to programmatically manipulate CSV since, after all, they are simple text files.\n"
      ],
      "metadata": {
        "id": "gF0n9fFEZZsd"
      }
    },
    {
      "cell_type": "markdown",
      "source": [
        "**2.What do you pass to csv.reader() and csv.writer() to create reader and writer objects?**"
      ],
      "metadata": {
        "id": "ENwlu8mcaNVt"
      }
    },
    {
      "cell_type": "markdown",
      "source": [
        "Solution: \n",
        "- csv.reader()  is provided to read the csv file we have in python, it allow us to read the file in iterable mode. after applying csv.reader()  we can apply for loop to iterate each line of the file to read.\n",
        "- csv.writer() is provided to write the file which is going to be a csv file.\n",
        "-  when we need to write we pass the data in a list seperated by comma, for new line write we need to use another list."
      ],
      "metadata": {
        "id": "vV1ksWTgZ-ys"
      }
    },
    {
      "cell_type": "markdown",
      "source": [
        "**3. What modes do File objects for reader and writer objects need to be opened in?**\n",
        "\n",
        "Solution:  \n",
        "- r+ mode, file=open(\"file name\",r+)\n"
      ],
      "metadata": {
        "id": "5-ELGE3VZ_Nl"
      }
    },
    {
      "cell_type": "markdown",
      "source": [
        "**4. What method takes a list argument and writes it to a CSV file?**\n",
        "\n",
        "Solution:\n",
        "-  writerow()"
      ],
      "metadata": {
        "id": "Q0SkHNIbaHL2"
      }
    },
    {
      "cell_type": "markdown",
      "source": [
        "**5. What do the keyword arguments delimiter and line terminator do?**\n",
        "\n",
        "Solution:\n",
        "- The delimiter is nothing but  the character that appears between cells on a row. eg in csv -->, is delimiter\n",
        "The line terminator is the character that comes at the end of a row, by default line terminator is a new line."
      ],
      "metadata": {
        "id": "F84KZ6UEaHSd"
      }
    },
    {
      "cell_type": "markdown",
      "source": [
        "**6. What function takes a string of JSON data and returns a Python data structure?**\n",
        "\n",
        "Solution:\n",
        "-  loads()"
      ],
      "metadata": {
        "id": "liSXsTNEaHVK"
      }
    },
    {
      "cell_type": "markdown",
      "source": [
        "**7. What function takes a Python data structure and returns a string of JSON data?**\n",
        "\n",
        "Solution:\n",
        "- dumps()"
      ],
      "metadata": {
        "id": "qlM0zr8paxlE"
      }
    },
    {
      "cell_type": "code",
      "source": [],
      "metadata": {
        "id": "YsEcLcnUavWk"
      },
      "execution_count": null,
      "outputs": []
    },
    {
      "cell_type": "markdown",
      "source": [],
      "metadata": {
        "id": "Swp8e-tnavxl"
      }
    }
  ]
}