{
 "cells": [
  {
   "cell_type": "raw",
   "id": "cc89048e",
   "metadata": {},
   "source": [
    "# q1. In the below elements which of them are values or an expression? eg:- values can be\n",
    "integer or string and expressions will be mathematical operators.\"\"\"\n",
    "*\n",
    "'hello'\n",
    "-87.8\n",
    "-\n",
    "/\n",
    "+ \n",
    "6"
   ]
  },
  {
   "cell_type": "raw",
   "id": "b8d0165b",
   "metadata": {},
   "source": [
    "# q1 solution:\n",
    "Values are :  hello,-87.8,6\n",
    "expressions are:  *,-,/,+"
   ]
  },
  {
   "cell_type": "raw",
   "id": "9b4fe85e",
   "metadata": {},
   "source": [
    "q2. What is the difference between string and variable?\n",
    "\n",
    "solution: \n",
    "String: 1)strings in python are enclosed with single inverted quotation marks or double \n",
    "                    inverted quotation marks.\n",
    "                   2) Multiline string is enclosed with three inverted quotation marks.\n",
    "                   3) print() function is use to display the string literals or any \"variable\"                         can use to assign string literals, then by calling that variable to display                       the string literals.\n",
    "                   4) whatever the datatype enclosed in single or double inverted commas, it get                       print as it is, just like Text.\n",
    "                   5) \"ineuron\",\"ineuron1234\", etc.\n",
    "Variable: 1)Variable nothing but container to store the data in memory\n",
    "          2) once we creat the variable,means we are giving name(i.e variable) to that memory                 space where data will be stored.\n",
    "          3) After creating a variable , variable reserves the memory space for the data to be                store.\n",
    "          4)Variable name should starts with \" alphabets\" not with \"integer\".\n",
    "          5) No special characters are involve in variable name neither at starting nor at                   ending.\n",
    "          \n",
    "          eg: valid: a= 10, sudh=12, etc.\n",
    "              invalid: 1a=10, _sudh=12, *b=22, b*=\"fsds\" etc.\n",
    "         6) There are 2 types of variable \"local Variable\" and \"global Variable\"\n",
    "          Value of the local variable keeps changing through out the programe, depending on the             programe.\n",
    "          Value of the global variable remain constant through out the program.\n",
    "      \n"
   ]
  },
  {
   "cell_type": "raw",
   "id": "3895d9ab",
   "metadata": {},
   "source": [
    "q3. Describe three different data types.\n",
    "\n",
    "Solution: There are various data type in python, 3 of them are,\n",
    "1) Numeric: Numeric data types include only numbers.\n",
    "            It consist \" Integer(int)\",Complex and Float.  \n",
    "            i) Integer: It is denoted by \"int\", It is whole number, positive, negative number but                              without any decimal of unlimited length.\n",
    "                     It could be single digit to n-numbers of digit.\n",
    "                     eg:1,10,-33,44455,etc.\n",
    "            ii) Float: It is denoted by \"float\", it is positive, negative number with decimal                           point.\n",
    "            eg: 123.9,-1.2,0.5 etc.\n",
    "            \n",
    "            iii) Complex: It is denoted by \"comlex\", it is positive,negative number with real and                  imaginary part. where j represent imaginary part.\n",
    "             eg: 1+3j,-1-56j,etc.\n",
    "             \n",
    "2) Text type: i)It consist String data type.\n",
    "              ii) String data type is denoted by \"str\", it is enclosed with single or double                       inverted commas.\n",
    "              iii) String data type treated as text and print as it is.\n",
    "              eg: \"rishabh\",\"123\", \"ineuron2022\"\n",
    "              \n",
    "3) Sequence Type: It include list, tuple, range.\n",
    "\n",
    "                 i) list: it is denoted by \"list\", list holds multiple data(collection of data)\n",
    "                  > list enclsed in square bracket.\n",
    "                  >data inside list could be of data type string,                                                    int,float,complex,list,tuple,set, dict,boolen etc.\n",
    "                  >we can access data from list using indexing operation.\n",
    "                   >List is mutable entity.\n",
    "                   > it allow duplicate elements\n",
    "                   .\n",
    "                  ii) Tuple: It is denoted by \"tuple\" and holds collections of data\n",
    "                            >tuple encloed in round bracket.\n",
    "                            >data inside list could be of data type string,                                                    int,float,complex,list,tuple,set, dict,boolen etc.\n",
    "                            > we can access the data in tuple by indexing operation.\n",
    "                            >tuple is same as list except data is immutable in tuple\n",
    "                            > it also holds duplicate data.\n",
    "                            \n",
    "                  iii)range: it is denoted by range.\n",
    "                             > range gives series of numbers starting from upper bound to 1-lower                                bound(i.e excluding lower bound)\n",
    "                             > range also include step count(jump count), which helps to skip in                                between values inside range function.  \n",
    "                 \n",
    "             "
   ]
  },
  {
   "cell_type": "raw",
   "id": "0b7bd778",
   "metadata": {},
   "source": [
    "q4. What is an expression made up of? What do all expressions do?\n",
    "\n",
    "solution: >An expression is a combination of \"operators\" and \"operand\" that is interpreted to produce some other value. \n",
    "> expressions are evaluated as per the precedence(priority) of its operators, so that if expression consist more than one operators then operators executed as per precedence(i.e priority). \n",
    "> expression made of numeric values and operator to perform different operation like arithmatic operations, comparison operations,logical oprerations,\n",
    "> there are following types of expressions\n",
    "\n",
    "1) constant expression: These expression have conatant value only.\n",
    "eg. x=10,y=20\n",
    "\n",
    "2)Arithmatic expression: This expression consist numeric values and  arithmatic operators.\n",
    "                         i)the aithmatic operators are addition, subtraction, multiplication,division,quotient,remainders,exponentional.\n",
    "eg: a=10,b=20\n",
    "c=a+b, d=a*b etc\n",
    "\n",
    "3) Comparison expression: it is made up of comparison operatoers sun as <,>,<=,>=<,==,!= etc.\n",
    "eg: a=1,b=10\n",
    "    a>b, a==b etc\n",
    "    \n",
    "4)Logical expression: These kind of expression consist logical operators such as and,or,not etc. output of these expressions are either True or False.\n",
    "P = (10 == 9)\n",
    "Q = (7 > 5)\n",
    "R = P and Q\n",
    "S = P or Q\n",
    "T = not P\n",
    "\n",
    "5) Floating Expression:These are the kind of expressions which produce floating point numbers as result after all computations and type conversions.\n",
    "eg: a = 13\n",
    "b = 5\n",
    "  \n",
    "c = a / b\n",
    "c will be float.\n",
    "\n",
    "6) Integer expression:These are the kind of expressions that produce only integer results after all computations and type conversions.\n",
    "eg: a=10,b=32\n",
    "    c=a*b\n",
    "    c will be integer here."
   ]
  },
  {
   "cell_type": "raw",
   "id": "163bef6c",
   "metadata": {},
   "source": [
    "q5. This assignment statements, like spam = 10. What is the difference between an\n",
    "expression and a statement?\n",
    "\n",
    "solution:- \n",
    "Statements: Statements are nothing but setences which gives some understanding.\n",
    "whereas in programming statements are a piece of code which perform some spefic task.\n",
    "Here in spam=10, is \"assignment statement\", where value is being assigned to variable \"spam\".\n",
    "(i.e small code executed which assign value to variable).\n",
    "\n",
    "Expressions: Expressions is combination of \"operators\" and \"operand\", which perfrom specific operations and helps to execution of program.\n",
    "In other word expression is small pieces of statements(i.e complete program) which include operators to perform some task.\n",
    "spam=10, is the  \"constant expression\" , where =(assignment)operator is used to assign  a constant value 10  to variable spam.\n"
   ]
  },
  {
   "cell_type": "raw",
   "id": "238103b9",
   "metadata": {},
   "source": [
    "6. After running the following code, what does the variable bacon contain?\n",
    "bacon = 22\n",
    "bacon + 1\n",
    "\n",
    "Solution: The value assign bacon is 22, after we have increamented the value of bacon by 1 but did not store this value to bacon. Hence the value of bacon will be 22 itself."
   ]
  },
  {
   "cell_type": "raw",
   "id": "2bd19626",
   "metadata": {},
   "source": [
    " 7. What should the values of the following two terms be?\n",
    "'spam' + 'spamspam'\n",
    "'spam' * 3\n",
    "\n",
    "Solution: 1)'spam' + 'spamspam'= \"spamspamspam\"\n",
    "          2) \"spam\"*3= \"spamspamspam\""
   ]
  },
  {
   "cell_type": "raw",
   "id": "9806e783",
   "metadata": {},
   "source": [
    "8. Why is eggs a valid variable name while 100 is invalid?\n",
    "\n",
    "Solution: >In python and almost all languages variable name can not be statrs with \"alphabets\", \"integer\" and no \"special charcters\" declear a variable name.\n",
    "\n",
    "> In python everything is treated as \"identifire\", identifire are the combinations of the alphanumeric characters, i.e. first begin with a letter of the alphabet, and the remaining are letter of an alphabet, any numeric digit .\n",
    "identifire can be any thing variable name, function name etc.\n",
    "> We can not specify the \"identifier\" which starts with a number because there are seven phases of compiler as follows.\n",
    "\n",
    "Lexical Analysis\n",
    "Syntax Analysis\n",
    "Semantic Analysis\n",
    "Intermediate Code Generation\n",
    "Code Optimization\n",
    "Code Generation\n",
    "Symbol Table\n",
    "\n",
    "> non of the above steps allow to starts identifire with numbers.\n",
    "> so if we will starts variable name(which will treated as identifire) with number, then compiler get  confuse that it should treated as number or identifires untill it reaches to alphabets after numbers. so compiler have to return back to \"lexical analysis\" step which is not allow.\n",
    "> Hence eggs a valid variable name while 100 is invalid."
   ]
  },
  {
   "cell_type": "raw",
   "id": "30b4286f",
   "metadata": {},
   "source": [
    "9. What three functions can be used to get the integer, floating-point number, or string\n",
    " version of a value?\n",
    " \n",
    " solution: for 1)Integer: int()\n",
    "               2) Floating-point: float()\n",
    "               3) string: str()"
   ]
  },
  {
   "cell_type": "raw",
   "id": "cb6e5537",
   "metadata": {},
   "source": [
    "10. Why does this expression cause an error? How can you fix it?\n",
    "'I have eaten ' + 99 + ' burritos.'\n",
    "\n",
    "Solution: >'I have eaten '  and ' burritos.' are a string data type and 99 is a integer data type.\n",
    "we are concatenating string with integer, which is not possible in python.\n",
    ">Only string can concatenate with string.(i.e data of similar data type can only concatenate)\n",
    "> so in order to concatenate all the data type we need to typecast the 99 in string format.\n",
    "> 'I have eaten ' + '99' + ' burritos.'"
   ]
  },
  {
   "cell_type": "code",
   "execution_count": 21,
   "id": "d1efda82",
   "metadata": {},
   "outputs": [
    {
     "data": {
      "text/plain": [
       "'I have eaten 99 burritos.'"
      ]
     },
     "execution_count": 21,
     "metadata": {},
     "output_type": "execute_result"
    }
   ],
   "source": [
    "'I have eaten ' + '99' + ' burritos.'"
   ]
  },
  {
   "cell_type": "code",
   "execution_count": null,
   "id": "2fffa81d",
   "metadata": {},
   "outputs": [],
   "source": []
  }
 ],
 "metadata": {
  "kernelspec": {
   "display_name": "Python 3 (ipykernel)",
   "language": "python",
   "name": "python3"
  },
  "language_info": {
   "codemirror_mode": {
    "name": "ipython",
    "version": 3
   },
   "file_extension": ".py",
   "mimetype": "text/x-python",
   "name": "python",
   "nbconvert_exporter": "python",
   "pygments_lexer": "ipython3",
   "version": "3.9.7"
  }
 },
 "nbformat": 4,
 "nbformat_minor": 5
}
