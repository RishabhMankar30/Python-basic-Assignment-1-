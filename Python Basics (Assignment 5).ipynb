{
 "cells": [
  {
   "cell_type": "markdown",
   "id": "efd1d426",
   "metadata": {},
   "source": [
    "1. What does an empty dictionary's code look like?\n",
    "\n",
    "Solution Q1: {}\n",
    "\n",
    "-------------------------------------------------------------------------------------------------"
   ]
  },
  {
   "cell_type": "markdown",
   "id": "bf72dd6c",
   "metadata": {},
   "source": [
    "Q2. What is the value of a dictionary value with the key 'foo' and the value 42?\n",
    "\n",
    "Solution Q2: a={\"foo\":42}\n",
    "             dictionary value is 42.\n",
    "             \n",
    "-------------------------------------------------------------------------------------------------             "
   ]
  },
  {
   "cell_type": "markdown",
   "id": "927d1119",
   "metadata": {},
   "source": [
    "Q3. What is the most significant distinction between a dictionary and a list?\n",
    "\n",
    "SolutionQ3:\n",
    "The data in the list is arrange in organised and ordered way, while in the dictionary it is unorganised and not in ordered way.\n",
    "\n",
    "-------------------------------------------------------------------------------------------------"
   ]
  },
  {
   "cell_type": "markdown",
   "id": "d1c24772",
   "metadata": {},
   "source": [
    "Q4. What happens if you try to access spam['foo'] if spam is {'bar': 100}?\n",
    "\n",
    "Solution Q4: It will give \"KeyError\", because \"foo\" key is not present in dictionary.\n",
    "\n",
    "-------------------------------------------------------------------------------------------------"
   ]
  },
  {
   "cell_type": "markdown",
   "id": "3637a569",
   "metadata": {},
   "source": [
    "Q5. If a dictionary is stored in spam, what is the difference between the expressions 'cat' in spam and\n",
    "'cat' in spam.keys()?\n",
    "\n",
    "Solution Q5: \n",
    "- There is no difference in both of these operations.\n",
    "- \"cat\" in spam : This expression by default check the given string is present at key location of dictionary or not and gives boolen return True or False.\n",
    "- \"cat\" in spam.keys(): This operation also checks given string is present at key location of dictionary or not and gives boolen return True or False.\n",
    " - So both operation gives False.\n",
    " \n",
    "------------------------------------------------------------------------------------------------- \n"
   ]
  },
  {
   "cell_type": "markdown",
   "id": "370fd4ad",
   "metadata": {},
   "source": [
    "7. What is a shortcut for the following code?\n",
    "if 'color' not in spam:\n",
    "spam['color'] = 'black'\n",
    "\n",
    " Solution Q7:\n",
    "  \n",
    "spam.setdefault(\"colour\",\"black\")\n",
    "\n",
    "-------------------------------------------------------------------------------------------------"
   ]
  },
  {
   "cell_type": "markdown",
   "id": "64507caa",
   "metadata": {},
   "source": [
    "Q8. How do you \"pretty print\" dictionary values using which module and function?\n",
    "\n",
    "Solution Q8:\n",
    "\n",
    "pprint.pprint()\n",
    "\n",
    "\n",
    "\n"
   ]
  },
  {
   "cell_type": "code",
   "execution_count": 18,
   "id": "34144121",
   "metadata": {},
   "outputs": [
    {
     "name": "stdout",
     "output_type": "stream",
     "text": [
      "dict_values([100, 'eggs'])\n"
     ]
    }
   ],
   "source": [
    "# Solution Q8\n",
    "\n",
    "import pprint\n",
    "spam={\"bar\":100,\"foo\":\"eggs\"}\n",
    "pprint.pprint(spam.values())"
   ]
  },
  {
   "cell_type": "code",
   "execution_count": null,
   "id": "652ac6d4",
   "metadata": {},
   "outputs": [],
   "source": []
  }
 ],
 "metadata": {
  "kernelspec": {
   "display_name": "Python 3 (ipykernel)",
   "language": "python",
   "name": "python3"
  },
  "language_info": {
   "codemirror_mode": {
    "name": "ipython",
    "version": 3
   },
   "file_extension": ".py",
   "mimetype": "text/x-python",
   "name": "python",
   "nbconvert_exporter": "python",
   "pygments_lexer": "ipython3",
   "version": "3.9.7"
  }
 },
 "nbformat": 4,
 "nbformat_minor": 5
}
