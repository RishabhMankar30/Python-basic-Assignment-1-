{
 "cells": [
  {
   "cell_type": "markdown",
   "id": "665ba5e0",
   "metadata": {},
   "source": [
    "Q1 What are escape characters, and how do you use them?\n",
    "\n",
    "Solution q1:\n",
    "\n",
    "- To insert the illegal charecter in a string, which is not allowed in string we use a escape character in a string.\n",
    "- escape character is backslash \\ followed by character that we want to insert.\n"
   ]
  },
  {
   "cell_type": "code",
   "execution_count": 7,
   "id": "40e27ed0",
   "metadata": {},
   "outputs": [
    {
     "ename": "SyntaxError",
     "evalue": "invalid syntax (Temp/ipykernel_9416/1177363124.py, line 2)",
     "output_type": "error",
     "traceback": [
      "\u001b[1;36m  File \u001b[1;32m\"C:\\Users\\Dell\\AppData\\Local\\Temp/ipykernel_9416/1177363124.py\"\u001b[1;36m, line \u001b[1;32m2\u001b[0m\n\u001b[1;33m    String1=\"ineuton is the \"best\" amongs all other\"\u001b[0m\n\u001b[1;37m                             ^\u001b[0m\n\u001b[1;31mSyntaxError\u001b[0m\u001b[1;31m:\u001b[0m invalid syntax\n"
     ]
    }
   ],
   "source": [
    "#Eg Q1: \n",
    "String1=\"ineuton is the \"best\" amongs all other\"\n",
    "print(string1)\n",
    "#here whole string enclosed in duble invertd commaa.\n",
    "#And best inside string is also enclosed in double inverted commas which is not allowed."
   ]
  },
  {
   "cell_type": "code",
   "execution_count": 77,
   "id": "40ff229f",
   "metadata": {},
   "outputs": [
    {
     "name": "stdout",
     "output_type": "stream",
     "text": [
      "ineuron is the \"best\" amongs all other\n",
      "-----------------------------------------------------------------------------------------\n"
     ]
    }
   ],
   "source": [
    "#eg Q1:\n",
    "string2=\"ineuron is the \\\"best\\\" amongs all other\"\n",
    "print(string2)\n",
    "\n",
    "print(\"-----------------------------------------------------------------------------------------\")"
   ]
  },
  {
   "cell_type": "markdown",
   "id": "4360252d",
   "metadata": {},
   "source": [
    "Q2. What do the escape characters n and t stand for?\n",
    "\n",
    "Solution Q2: \n",
    "\n",
    "- escape n: denoted by \\n, it means new line. It insert a new line for the expression before which it is placed.\n",
    "- escape t: denoted by \\t, it means tab. It  insert a tab for the expression before which it is placed."
   ]
  },
  {
   "cell_type": "code",
   "execution_count": 86,
   "id": "a9334a40",
   "metadata": {},
   "outputs": [
    {
     "name": "stdout",
     "output_type": "stream",
     "text": [
      "Hello\n",
      "world\n",
      "Hello\tworld\n",
      "-----------------------------------------------------------------------------------------\n"
     ]
    }
   ],
   "source": [
    "#eg Q2: \\n\n",
    "s=\"Hello\\nworld\"\n",
    "print(s)\n",
    "#eg: \\t\n",
    "s1=\"Hello\\tworld\"\n",
    "print(s1)\n",
    "\n",
    "print(\"-----------------------------------------------------------------------------------------\")"
   ]
  },
  {
   "cell_type": "markdown",
   "id": "040f813c",
   "metadata": {},
   "source": [
    "Q3. What is the way to include backslash characters in a string?\n",
    "\n",
    "SolutionQ3: \n",
    "- To insert the backslash in a string just insert the \\ anywhere inside the string enclosed between commas.\n",
    "- double\\\\ also represent a single backslash \\ character.\n",
    "\n",
    "\n"
   ]
  },
  {
   "cell_type": "code",
   "execution_count": 79,
   "id": "2e42c407",
   "metadata": {},
   "outputs": [
    {
     "name": "stdout",
     "output_type": "stream",
     "text": [
      "ineuron is my/ dream company\n",
      "-----------------------------------------------------------------------------------------\n"
     ]
    }
   ],
   "source": [
    "#eg Q3: \n",
    "S=\"ineuron is my/ dream company\"\n",
    "print(S)\n",
    "print(\"-----------------------------------------------------------------------------------------\")"
   ]
  },
  {
   "cell_type": "markdown",
   "id": "5c2b6e5d",
   "metadata": {},
   "source": [
    "Q4:The string \"Howl's Moving Castle\" is a correct value. Why isn't the single quote character in the\n",
    "word Howl's not escaped a problem?\n",
    "\n",
    "Solution Q4:\n",
    "\n",
    "- The above string is a correct one, because the whole string enclosed in double inverted commas and  Howl's is in single quote which is allowed in python. \n",
    "\n",
    "-------------------------------------------------------------------------------------------------"
   ]
  },
  {
   "cell_type": "markdown",
   "id": "d7a9d879",
   "metadata": {},
   "source": [
    "Q5. How do you write a string of newlines if you don't want to use the n character?\n",
    "\n",
    "Solution Q5:\n",
    "\n",
    "- If we want to write a string of newlines without \\n, then we will have to write a string in a multilines."
   ]
  },
  {
   "cell_type": "code",
   "execution_count": 81,
   "id": "d7f63047",
   "metadata": {},
   "outputs": [
    {
     "name": "stdout",
     "output_type": "stream",
     "text": [
      "ineuron\n",
      "is the\n",
      "best\n",
      "_______________________________________________________________________________________ \n"
     ]
    }
   ],
   "source": [
    "#eg Q5:\n",
    "s=\"ineuron\"\n",
    "print(s)\n",
    "s1=\"is the\"\n",
    "print(s1)\n",
    "s3=\"best\"\n",
    "print(s3)\n",
    "\n",
    "print(\"_______________________________________________________________________________________ \")"
   ]
  },
  {
   "cell_type": "markdown",
   "id": "fb905bf4",
   "metadata": {},
   "source": [
    "Q6. What are the values of the given expressions?\n",
    "'Hello, world!'[1]\n",
    "'Hello, world!'[0:5]\n",
    "'Hello, world!'[:5]\n",
    "'Hello, world!'[3:]\n",
    "\n",
    "Solution Q6:\n",
    "\n",
    "'Hello, world!'[1]: gives 'e'\n",
    "\n",
    "'Hello, world!'[0:5]: gives 'Hello'\n",
    "\n",
    "'Hello, world!'[:5]: gives 'Hello'\n",
    "\n",
    "'Hello, world!'[3:]: gives 'lo, world!'\n",
    "\n",
    "_________________________________________________________________________________________________"
   ]
  },
  {
   "cell_type": "markdown",
   "id": "eaa03f15",
   "metadata": {},
   "source": [
    "Q7. What are the values of the following expressions?\n",
    "'Hello'.upper()\n",
    "'Hello'.upper().isupper()\n",
    "'Hello'.upper().lower()\n",
    "\n",
    "Solution Q7:\n",
    "\n",
    "'Hello'.upper(): 'HELLO'\n",
    "\n",
    "'Hello'.upper().isupper(): True\n",
    "\n",
    "'Hello'.upper().lower(): 'hello'\n",
    "_________________________________________________________________________________________________"
   ]
  },
  {
   "cell_type": "markdown",
   "id": "fabecfd4",
   "metadata": {},
   "source": [
    "Q8. What are the values of the following expressions?\n",
    "'Remember, remember, the fifth of July.'.split()\n",
    "'-'.join('There can only one.'.split())\n",
    "\n",
    "Solution Q8: 1)'Remember, remember, the fifth of July.'.split()\n",
    "\n",
    "         result 1): ['Remember,', 'remember,', 'the', 'fifth', 'of', 'July.']\n",
    "         \n",
    "        2) '-'.join('There can only one.'.split())\n",
    "       result 2): 'There-can-only-one.'\n",
    "       \n",
    " ________________________________________________________________________________________________"
   ]
  },
  {
   "cell_type": "markdown",
   "id": "141aa042",
   "metadata": {},
   "source": [
    "Q9. What are the methods for right-justifying, left-justifying, and centering a string?\n",
    "\n",
    "Solution Q9:\n",
    "\n",
    "- 1)right-justifying: rjust(), this is is string function which place a string to the right side and fill remaining space of total width provided, by character which is inserted(by default space is character).\n",
    "- 2) left-justifying: ljust(), this is is string function which place a string to the left side and fill remaining space of total width provided, by character which is inserted(by default space is character).\n",
    "- 3) centering a string: center(), this is is string function which place a string at the center  and fill remaining space of total width provided, by character which is inserted(by default space is character).\n",
    "\n"
   ]
  },
  {
   "cell_type": "code",
   "execution_count": 84,
   "id": "adf725f7",
   "metadata": {},
   "outputs": [
    {
     "name": "stdout",
     "output_type": "stream",
     "text": [
      "-------------------------------------------ineuron\n",
      "ineuron-------------------------------------------\n",
      "---------------------ineuron----------------------\n",
      "________________________________________________________________________________________\n"
     ]
    }
   ],
   "source": [
    "#eg Q9:\n",
    "s=\"ineuron\"\n",
    "print(s.rjust(50,\"-\"))\n",
    "print(s.ljust(50,\"-\"))\n",
    "print(s.center(50,\"-\"))\n",
    "\n",
    "print(\"________________________________________________________________________________________\")"
   ]
  },
  {
   "cell_type": "markdown",
   "id": "5ec8fa9a",
   "metadata": {},
   "source": [
    "Q10. What is the best way to remove whitespace characters from the start or end?\n",
    "\n",
    "Solution: \n",
    "- strip(): this function helps to remove the whitespace present at starting and ending of string, but does not remome the whitespace prsent in between the string.\n",
    "\n",
    "- lstrip(): this function helps to remove the whitespace present at left side of string.\n",
    "\n",
    "- rstrip(): this function helps to remove the whitespace present at right side of string."
   ]
  },
  {
   "cell_type": "code",
   "execution_count": 85,
   "id": "082cd1fc",
   "metadata": {},
   "outputs": [
    {
     "name": "stdout",
     "output_type": "stream",
     "text": [
      "ine  uron\n",
      "ine  uron      \n",
      "     ine  uron\n"
     ]
    }
   ],
   "source": [
    "#eg:Q10\n",
    "s=\"     ine  uron      \"\n",
    "print(s.strip())\n",
    "s1=\"     ine  uron      \"\n",
    "print(s.lstrip())\n",
    "s2=\"     ine  uron      \"\n",
    "print(s.rstrip())"
   ]
  },
  {
   "cell_type": "code",
   "execution_count": null,
   "id": "520ffc81",
   "metadata": {},
   "outputs": [],
   "source": []
  }
 ],
 "metadata": {
  "kernelspec": {
   "display_name": "Python 3 (ipykernel)",
   "language": "python",
   "name": "python3"
  },
  "language_info": {
   "codemirror_mode": {
    "name": "ipython",
    "version": 3
   },
   "file_extension": ".py",
   "mimetype": "text/x-python",
   "name": "python",
   "nbconvert_exporter": "python",
   "pygments_lexer": "ipython3",
   "version": "3.9.7"
  }
 },
 "nbformat": 4,
 "nbformat_minor": 5
}
