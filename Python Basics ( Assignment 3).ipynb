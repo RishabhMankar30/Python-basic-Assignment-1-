{
 "cells": [
  {
   "cell_type": "markdown",
   "id": "0241d84c",
   "metadata": {},
   "source": [
    "    Q1. Why are functions advantageous to have in your programs?\n",
    "\n",
    "    Solution Q1: Functions are nothing but a block of code, which performs a certain task.\n",
    "    -Advantages of having Function in program:\n",
    "    1)It allow the code reuseability.\n",
    "    2)By call same function again with different inputs we can save our time of writting code multiple times.\n",
    "    3)It makes the program look simpler\n",
    "    4) Program get easy to debug.\n",
    "    5)Modifying a program becomes easier due to function\n",
    "-----------------------------------------------------------------------------------------------\n",
    "\n",
    "    \n"
   ]
  },
  {
   "cell_type": "markdown",
   "id": "d72da724",
   "metadata": {},
   "source": [
    "    Q2. When does the code in a function run: when it's specified or when it's called?\n",
    "    Solution Q2:\n",
    "    -Function runs only when it is called. because during specifying the program we are just creating the funtion.\n",
    "    -But after creation(i.e defining) we need to call it to run a code inside function.\n",
    "    \n",
    "    \n",
    "-------------------------------------------------------------------------------------------------    "
   ]
  },
  {
   "cell_type": "markdown",
   "id": "014113ea",
   "metadata": {},
   "source": [
    "    Q3. What statement creates a function?\n",
    "    Solution Q3:\n",
    "    - \"def\" statement defines the function, which means define a function.\n",
    "    \n",
    "-------------------------------------------------------------------------------------------------"
   ]
  },
  {
   "cell_type": "markdown",
   "id": "0c30d8e8",
   "metadata": {},
   "source": [
    "Q4. What is the difference between a function and a function call?\n",
    "\n",
    "Solution Q4: \n",
    "-Function: Function is block of code which perform some specific task. But to creat a function we need to define a function which is done by \"def\" keyword and have to write a code  inside it, which will perform some task. But to execute a code inside function we need to call it after defining.\n",
    "     eg: def task(a):\n",
    "               print(a)\n",
    " \n",
    "-Function call: After defining a function, we need to call it to excecute a code inside the function.    eg: task(4)\n",
    "              result:  4\n",
    "    \n",
    "-------------------------------------------------------------------------------------------------    "
   ]
  },
  {
   "cell_type": "markdown",
   "id": "271feaa6",
   "metadata": {},
   "source": [
    "    Q5. How many global scopes are there in a Python program? How many local scopes?\n",
    "    Solution Q5:\n",
    "    -In python scope of names (names:variable,object,class,function etc.) defines the region of   program in which we can easily access the names.\n",
    "    -there is only one global and one local scope in python.\n",
    "    1) Local scope: \n",
    "    This scope of a python contains names that we define inside the function.\n",
    "    These names will be accessible only inside the code of the function.\n",
    "    It is created at function call, not at function definition, so we will have as many different     local scopes as function calls.\n",
    "    Value of the name created inside the local scope can not access anywhere bcz its value keep       changing, it can access only inside that local scope only.\n",
    "    This is true even if you call the same function multiple times, or recursively. \n",
    "    Each call will result in a new local scope being created.\n",
    "    \n",
    "    2) Global scope:\n",
    "    Global scope is a top most scope in python programing\n",
    "    all the names which is created outside of the program or top of the program comes under Global scope. Names that define under the global scope can access anywhere inside the program bcz it value remain constant thoughout the program.\n",
    "\n",
    "-------------------------------------------------------------------------------------------------"
   ]
  },
  {
   "cell_type": "markdown",
   "id": "2b3979e3",
   "metadata": {},
   "source": [
    "Q6. What happens to variables in a local scope when the function call returns?(i.e function call finished)?\n",
    "SolutionQ6:\n",
    "\n",
    "1)Once the function call returns(i.e function call finished), the local variable retains its value until next time function is called.\n",
    "2)Now the local variable becomes undefine after function call completes\n",
    "\n",
    "3)This local variable can be outside of the function in global scope as well at any time    until next time function is called.\n",
    "    \n",
    "    "
   ]
  },
  {
   "cell_type": "markdown",
   "id": "3852530b",
   "metadata": {},
   "source": [
    "Q7. What is the concept of a return value? Is it possible to have a return value in an expression?\n",
    "\n",
    "Solution Q7:\n",
    "* A \"return\" is a keyword in python which is written at end of the execution of function.\n",
    "* It returns a result of the function when function is called.\n",
    "* The code after return statement will not executed.\n",
    "* yes it is possible to have return value in expression, which will returns the result of expression. but importtant point is that this expression must be inside the function.\n",
    "* return statement can not use without function, it is written inside function only.\n",
    "   \n",
    " \n",
    " \n",
    " "
   ]
  },
  {
   "cell_type": "markdown",
   "id": "f4f9a9ce",
   "metadata": {},
   "source": [
    "Q8. If a function does not have a return statement, what is the return value of a call to that function?\n",
    "\n",
    "Solution:\n",
    "\n",
    "*Function can exist without return statement, but it give none once the function is called.\n",
    "\n",
    "-------------------------------------------------------------------------------------------------"
   ]
  },
  {
   "cell_type": "markdown",
   "id": "c810c0ee",
   "metadata": {},
   "source": [
    "Q9. How do you make a function variable refer to the global variable?\n",
    "\n",
    "Solution Q9: To refer a function variaable as global variable we can use \"global\" keyword.\n",
    "\n",
    "-------------------------------------------------------------------------------------------------\n"
   ]
  },
  {
   "cell_type": "markdown",
   "id": "e33fba5f",
   "metadata": {},
   "source": [
    "Q10. What is the data type of None\n",
    "\n",
    "solution q10: None type is the data type of None\n",
    "\n",
    "-------------------------------------------------------------------------------------------------"
   ]
  },
  {
   "cell_type": "markdown",
   "id": "032b862f",
   "metadata": {},
   "source": [
    "Q11. What does the sentence import areallyourpetsnamederic do?\n",
    "\n",
    "Solution Q11:\n",
    "It import nothing because no module has created by this name in python.\n",
    "\n",
    "-------------------------------------------------------------------------------------------------"
   ]
  },
  {
   "cell_type": "markdown",
   "id": "10c25bd1",
   "metadata": {},
   "source": [
    "Q12.If you had a bacon() feature in a spam module, what would you call it after importing spam?\n",
    "\n",
    "Solution Q12: bacon() is a spam module function which will perform some task after importing spam module.\n",
    "\n",
    "     import spam\n",
    "     spam.bacon()\n",
    " -----------------------------------------------------------------------------------------------"
   ]
  },
  {
   "cell_type": "markdown",
   "id": "b4780188",
   "metadata": {},
   "source": [
    "Q13. What can you do to save a programme from crashing if it encounters an error?\n",
    "\n",
    "Soluion Q13:\n",
    "* In python we uses try and except block to handle the error.\n",
    "* In case error occur in python control will transffer to except, by skipping the further program execution and print error instead of crashing the program.\n",
    "------------------------------------------------------------------------------------------------"
   ]
  },
  {
   "cell_type": "markdown",
   "id": "540ac3ee",
   "metadata": {},
   "source": [
    "Q14. What is the purpose of the try clause? What is the purpose of the except clause?\n",
    "\n",
    "Solution Q14:\n",
    "* try and except both use in python to handle the exception error.\n",
    "* try: In the try block we write the code which can generate the error, it allow us to test the code which can generate the errors.\n",
    "* except: except allow us to handle the errors with user define response if any error occur in try block code.\n",
    "------------------------------------------------------------------------------------------------"
   ]
  },
  {
   "cell_type": "code",
   "execution_count": null,
   "id": "0e1ba490",
   "metadata": {},
   "outputs": [],
   "source": []
  }
 ],
 "metadata": {
  "kernelspec": {
   "display_name": "Python 3 (ipykernel)",
   "language": "python",
   "name": "python3"
  },
  "language_info": {
   "codemirror_mode": {
    "name": "ipython",
    "version": 3
   },
   "file_extension": ".py",
   "mimetype": "text/x-python",
   "name": "python",
   "nbconvert_exporter": "python",
   "pygments_lexer": "ipython3",
   "version": "3.9.7"
  }
 },
 "nbformat": 4,
 "nbformat_minor": 5
}
