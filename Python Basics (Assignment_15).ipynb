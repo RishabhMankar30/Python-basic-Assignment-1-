{
 "cells": [
  {
   "cell_type": "markdown",
   "id": "183703e2",
   "metadata": {},
   "source": [
    "Q1.How many seconds are in an hour? Use the interactive interpreter as a calculator and multiply the\n",
    "number of seconds in a minute (60) by the number of minutes in an hour (also 60)."
   ]
  },
  {
   "cell_type": "code",
   "execution_count": 1,
   "id": "f0b2a107",
   "metadata": {},
   "outputs": [
    {
     "data": {
      "text/plain": [
       "3600"
      ]
     },
     "execution_count": 1,
     "metadata": {},
     "output_type": "execute_result"
    }
   ],
   "source": [
    "#Solution:\n",
    "\n",
    "60*60"
   ]
  },
  {
   "cell_type": "markdown",
   "id": "fdf9b0cb",
   "metadata": {},
   "source": [
    "Q2. Assign the result from the previous task (seconds in an hour) to a variable called\n",
    "seconds_per_hour."
   ]
  },
  {
   "cell_type": "code",
   "execution_count": 2,
   "id": "dd06f1e0",
   "metadata": {},
   "outputs": [],
   "source": [
    "#Solution:\n",
    "seconds_per_hour=3600\n"
   ]
  },
  {
   "cell_type": "markdown",
   "id": "4cc6aa30",
   "metadata": {},
   "source": [
    "Q3. How many seconds do you think there are in a day? Make use of the variables seconds per hour\n",
    "and minutes per hour."
   ]
  },
  {
   "cell_type": "code",
   "execution_count": 6,
   "id": "579d30f3",
   "metadata": {},
   "outputs": [
    {
     "data": {
      "text/plain": [
       "86400"
      ]
     },
     "execution_count": 6,
     "metadata": {},
     "output_type": "execute_result"
    }
   ],
   "source": [
    "minutes_per_hour=60\n",
    "seconds_per_hour=3600\n",
    "#total second in a day\n",
    "24*seconds_per_hour\n"
   ]
  },
  {
   "cell_type": "markdown",
   "id": "f5e4e2e1",
   "metadata": {},
   "source": [
    "Q4. Calculate seconds per day again, but this time save the result in a variable called seconds_per_day"
   ]
  },
  {
   "cell_type": "code",
   "execution_count": 8,
   "id": "29961191",
   "metadata": {},
   "outputs": [
    {
     "name": "stdout",
     "output_type": "stream",
     "text": [
      "86400\n"
     ]
    }
   ],
   "source": [
    "seconds_per_hour=3600\n",
    "seconds_per_day=seconds_per_hour*24\n",
    "print(seconds_per_day)"
   ]
  },
  {
   "cell_type": "markdown",
   "id": "a720d7e6",
   "metadata": {},
   "source": [
    "Q5. Divide seconds_per_day by seconds_per_hour. Use floating-point (/) division."
   ]
  },
  {
   "cell_type": "code",
   "execution_count": 9,
   "id": "416a3702",
   "metadata": {},
   "outputs": [
    {
     "data": {
      "text/plain": [
       "24.0"
      ]
     },
     "execution_count": 9,
     "metadata": {},
     "output_type": "execute_result"
    }
   ],
   "source": [
    "seconds_per_day/seconds_per_hour"
   ]
  },
  {
   "cell_type": "markdown",
   "id": "39718219",
   "metadata": {},
   "source": [
    "Q6. Divide seconds_per_day by seconds_per_hour, using integer (//) division. Did this number agree\n",
    "with the floating-point value from the previous question, aside from the final .0?"
   ]
  },
  {
   "cell_type": "code",
   "execution_count": 11,
   "id": "ae0e9864",
   "metadata": {},
   "outputs": [
    {
     "data": {
      "text/plain": [
       "24"
      ]
     },
     "execution_count": 11,
     "metadata": {},
     "output_type": "execute_result"
    }
   ],
   "source": [
    "seconds_per_day//seconds_per_hour"
   ]
  },
  {
   "cell_type": "markdown",
   "id": "8a469a3b",
   "metadata": {},
   "source": [
    "-No this number is pure integer and does not same as previous value with floating point.\n",
    "\n",
    "-because in Q5 we performing a division operation, which returns the result in floating type\n",
    "\n",
    "-In Q6 we are performing floor division, which round the result down to the nearest whole number."
   ]
  },
  {
   "cell_type": "markdown",
   "id": "a4d65bfc",
   "metadata": {},
   "source": [
    "Q7. Write a generator, genPrimes, that returns the sequence of prime numbers on successive calls to\n",
    "its next() method: 2, 3, 5, 7, 11, ..."
   ]
  },
  {
   "cell_type": "code",
   "execution_count": 33,
   "id": "543b3527",
   "metadata": {},
   "outputs": [],
   "source": [
    "def prime():\n",
    "    lp=[]\n",
    "    for i in range(2,100):\n",
    "        for j in range(2,i):\n",
    "            if i%j==0:\n",
    "                break\n",
    "        else:\n",
    "            lp.append(i)\n",
    "    yield lp\n",
    "                "
   ]
  },
  {
   "cell_type": "code",
   "execution_count": 34,
   "id": "d8ce43d1",
   "metadata": {},
   "outputs": [
    {
     "name": "stdout",
     "output_type": "stream",
     "text": [
      "<generator object prime at 0x0000021E5BE46890>\n"
     ]
    }
   ],
   "source": [
    "print(prime())"
   ]
  },
  {
   "cell_type": "code",
   "execution_count": 35,
   "id": "a472b11d",
   "metadata": {},
   "outputs": [
    {
     "data": {
      "text/plain": [
       "[2,\n",
       " 3,\n",
       " 5,\n",
       " 7,\n",
       " 11,\n",
       " 13,\n",
       " 17,\n",
       " 19,\n",
       " 23,\n",
       " 29,\n",
       " 31,\n",
       " 37,\n",
       " 41,\n",
       " 43,\n",
       " 47,\n",
       " 53,\n",
       " 59,\n",
       " 61,\n",
       " 67,\n",
       " 71,\n",
       " 73,\n",
       " 79,\n",
       " 83,\n",
       " 89,\n",
       " 97]"
      ]
     },
     "execution_count": 35,
     "metadata": {},
     "output_type": "execute_result"
    }
   ],
   "source": [
    "next(prime())"
   ]
  },
  {
   "cell_type": "code",
   "execution_count": null,
   "id": "189a958d",
   "metadata": {},
   "outputs": [],
   "source": []
  }
 ],
 "metadata": {
  "kernelspec": {
   "display_name": "Python 3 (ipykernel)",
   "language": "python",
   "name": "python3"
  },
  "language_info": {
   "codemirror_mode": {
    "name": "ipython",
    "version": 3
   },
   "file_extension": ".py",
   "mimetype": "text/x-python",
   "name": "python",
   "nbconvert_exporter": "python",
   "pygments_lexer": "ipython3",
   "version": "3.9.7"
  }
 },
 "nbformat": 4,
 "nbformat_minor": 5
}
