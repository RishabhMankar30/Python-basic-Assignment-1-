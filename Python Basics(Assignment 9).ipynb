{
 "cells": [
  {
   "cell_type": "markdown",
   "id": "79a49a6c",
   "metadata": {},
   "source": [
    "    Q1. To what does a relative path refer?\n",
    "\n",
    "    solution:\n",
    "\n",
    "- A path is the unique location of the file or folder where it exist.\n",
    "- Relative path refers to the path related to the present working directory.\n",
    "- Relative path never starts with \"/\" or \"c:\\\"\n",
    "- Eg: if there is folder \"Dell\"----> inside this \"workbook.py\" is present\n",
    "- relative path simply written as --> workbook.py"
   ]
  },
  {
   "cell_type": "markdown",
   "id": "090d025f",
   "metadata": {},
   "source": [
    "    Q2. What does an absolute path start with your operating system?\n",
    "    \n",
    "    Solution:\n",
    "   \n",
    "\n",
    "- Absolute path refer to the full path or the complete details of the file or folder.\n",
    "- Absolute path start with a root directory\n",
    "- In absolute path before every directory we use \\   (Backslash)\n",
    "- Absolute path starts with \\ or \"c:\\\\\"\n",
    "- Absolute path can bewritten as c:\\users\\pycharm projects\\python_assingment.py\n"
   ]
  },
  {
   "cell_type": "markdown",
   "id": "c2fe45b0",
   "metadata": {},
   "source": [
    "    Q3. What do the functions os.getcwd() and os.chdir() do?\n",
    "    \n",
    "    Solution:\n",
    "    \n",
    "- os.getcwd()\n",
    "1) In order to use this function we need to import os library.\n",
    "2) This function is use to know the current working directory of the file, we are working in.\n",
    "\n",
    "- os.chdir()\n",
    "1) This function is use to change the file location.\n",
    "2) C:\\\\Users\\\\Dell Suppose here our file exist. and we want to change it to desktop then\n",
    "3) we will use os.chdir(\"C:\\\\Users\\\\Dell\\\\desktop\")\n",
    "4) Now the path of the file will change to desktop."
   ]
  },
  {
   "cell_type": "code",
   "execution_count": 7,
   "id": "7918ecb7",
   "metadata": {},
   "outputs": [],
   "source": [
    "import os"
   ]
  },
  {
   "cell_type": "code",
   "execution_count": 8,
   "id": "bc295627",
   "metadata": {},
   "outputs": [
    {
     "data": {
      "text/plain": [
       "'C:\\\\Users\\\\Dell'"
      ]
     },
     "execution_count": 8,
     "metadata": {},
     "output_type": "execute_result"
    }
   ],
   "source": [
    "os.getcwd()"
   ]
  },
  {
   "cell_type": "markdown",
   "id": "18e25b42",
   "metadata": {},
   "source": [
    "    Q4. What are the . and .. folders?\n",
    "    \n",
    "    Solution:\n",
    "- These are the symbols\n",
    "\n",
    "1) . represent the current directory.\n",
    "\n",
    "2) .. represents the parent directory.\n",
    "    \n",
    "\n"
   ]
  },
  {
   "cell_type": "markdown",
   "id": "eb525174",
   "metadata": {},
   "source": [
    "    Q5. In C:\\bacon\\eggs\\spam.txt, which part is the dir name, and which part is the base name?\n",
    "    \n",
    "    Solution:\n",
    "    \n",
    "- C:\\bacon\\eggs  represents dir name.\n",
    "- spam.txt   represent base name."
   ]
  },
  {
   "cell_type": "markdown",
   "id": "dfd28f73",
   "metadata": {},
   "source": [
    "    Q6. What are the three “mode” arguments that can be passed to the open() function?\n",
    "    \n",
    "    Solution:\n",
    "    \n",
    "- The 3 modes are in string format:\n",
    "\n",
    "1) \"r\"--> read mode\n",
    "\n",
    "2) \"w\"--> write mode\n",
    "\n",
    "3) \"a\"--> append mode"
   ]
  },
  {
   "cell_type": "markdown",
   "id": "21653986",
   "metadata": {},
   "source": [
    "    Q7. What happens if an existing file is opened in write mode?\n",
    "    \n",
    "    Solution:\n",
    "    \n",
    "- if the existing file written in a write format, the data in the file will be overwritten by new data."
   ]
  },
  {
   "cell_type": "markdown",
   "id": "dd33ea5a",
   "metadata": {},
   "source": [
    "    Q8. How do you tell the difference between read() and readlines()?\n",
    "    \n",
    "    Solution:\n",
    "    \n",
    "- read() function reads the complete information from the file\n",
    "\n",
    "- readlines() function returns the list of every string, this will treat the each string as a line from the file. \n"
   ]
  },
  {
   "cell_type": "markdown",
   "id": "a19e3822",
   "metadata": {},
   "source": [
    "    Q9. What data structure does a shelf value resemble?\n",
    "    \n",
    "    Solution:\n",
    "    \n",
    "- A shelf value same as  a dictionary value; it has keys and values, along with keys() and values() methods that work exactly similar to the dictionary methods."
   ]
  },
  {
   "cell_type": "code",
   "execution_count": null,
   "id": "12e675b2",
   "metadata": {},
   "outputs": [],
   "source": []
  }
 ],
 "metadata": {
  "kernelspec": {
   "display_name": "Python 3 (ipykernel)",
   "language": "python",
   "name": "python3"
  },
  "language_info": {
   "codemirror_mode": {
    "name": "ipython",
    "version": 3
   },
   "file_extension": ".py",
   "mimetype": "text/x-python",
   "name": "python",
   "nbconvert_exporter": "python",
   "pygments_lexer": "ipython3",
   "version": "3.9.7"
  }
 },
 "nbformat": 4,
 "nbformat_minor": 5
}
