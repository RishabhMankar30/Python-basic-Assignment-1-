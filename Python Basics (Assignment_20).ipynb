{
 "cells": [
  {
   "cell_type": "markdown",
   "id": "102889d7",
   "metadata": {},
   "source": [
    "1. Set the variable test1 to the string 'This is a test of the emergency text system,' and save test1 to a\n",
    "file named test.txt.\n"
   ]
  },
  {
   "cell_type": "code",
   "execution_count": 13,
   "id": "5e3589a2",
   "metadata": {},
   "outputs": [],
   "source": [
    "#Solution:\n",
    "\n",
    "test1=\"This is a test of the emergency text system\"\n",
    "file=open(\"test.txt\",\"w\")\n",
    "file.write(test1)\n",
    "file.close()"
   ]
  },
  {
   "cell_type": "markdown",
   "id": "105c2ab8",
   "metadata": {},
   "source": [
    "2. Read the contents of the file test.txt into the variable test2. Is there a difference between test 1\n",
    "and test 2?\n"
   ]
  },
  {
   "cell_type": "code",
   "execution_count": 20,
   "id": "2b3ef8b9",
   "metadata": {},
   "outputs": [],
   "source": [
    "#Solution:\n",
    "\n",
    "file1=open(\"test.txt\",\"r\")\n",
    "test2=file1.read()\n",
    "file1.close()"
   ]
  },
  {
   "cell_type": "code",
   "execution_count": 21,
   "id": "fb208bdc",
   "metadata": {},
   "outputs": [
    {
     "data": {
      "text/plain": [
       "'This is a test of the emergency text system'"
      ]
     },
     "execution_count": 21,
     "metadata": {},
     "output_type": "execute_result"
    }
   ],
   "source": [
    "test1"
   ]
  },
  {
   "cell_type": "code",
   "execution_count": 22,
   "id": "fa44ba00",
   "metadata": {},
   "outputs": [
    {
     "data": {
      "text/plain": [
       "'This is a test of the emergency text system'"
      ]
     },
     "execution_count": 22,
     "metadata": {},
     "output_type": "execute_result"
    }
   ],
   "source": [
    "test2"
   ]
  },
  {
   "cell_type": "markdown",
   "id": "91d4d56b",
   "metadata": {},
   "source": [
    "here test1 and test2 both are same"
   ]
  },
  {
   "cell_type": "markdown",
   "id": "0c6f999d",
   "metadata": {},
   "source": [
    "3. Create a CSV file called books.csv by using these lines:"
   ]
  },
  {
   "cell_type": "code",
   "execution_count": 35,
   "id": "c1c0c69d",
   "metadata": {},
   "outputs": [],
   "source": [
    "#Solution:\n",
    "import csv\n",
    "with open(\"books.csv\",\"w\",newline=\"\") as file:\n",
    "    writer=csv.writer(file)\n",
    "    writer.writerows([[\"title\",\"author\",\"year\"],\n",
    "                 [\"The Weirdstone of Brisingamen\",\"Alan Garner\",1960],\n",
    "                [\"Perdido Street Station\",\"China Miéville\",2000],\n",
    "                [\"Thud!\",\"Terry Pratchett\",2005],\n",
    "                [\"The Spellman Files\",\"Lisa Lutz\",2007],\n",
    "                [\"Small Gods\",\"Terry Pratchett\",1992]])\n",
    "\n",
    "\n"
   ]
  },
  {
   "cell_type": "markdown",
   "id": "dae33455",
   "metadata": {},
   "source": [
    "4. Use the sqlite3 module to create a SQLite database called books.db, and a table called books with\n",
    "these fields: title (text), author (text), and year (integer)."
   ]
  },
  {
   "cell_type": "code",
   "execution_count": null,
   "id": "bf3e86b0",
   "metadata": {},
   "outputs": [],
   "source": [
    "#Solution:\n",
    "import sqlite3\n",
    "connection= sqlite3.connect('books.db')\n",
    "cursor = connection.cursor()\n",
    "cursor.execute('create table books_new(title varchar(20),author varchar(20), year int)')\n",
    "connection.commit()"
   ]
  },
  {
   "cell_type": "markdown",
   "id": "fde72c79",
   "metadata": {},
   "source": [
    "5. Read books.csv and insert its data into the book table."
   ]
  },
  {
   "cell_type": "code",
   "execution_count": null,
   "id": "dae41828",
   "metadata": {},
   "outputs": [],
   "source": [
    "#Solution:\n",
    "import pandas as pd\n",
    "\n",
    "df = pd.read_csv(r'‪E:\\books.csv',encoding='unicode_escape')\n",
    "df.to_sql('books', conn, if_exists='append', index = False)"
   ]
  },
  {
   "cell_type": "markdown",
   "id": "9b43d955",
   "metadata": {},
   "source": [
    "6. Select and print the title column from the book table in alphabetical order"
   ]
  },
  {
   "cell_type": "code",
   "execution_count": null,
   "id": "8afc86e1",
   "metadata": {},
   "outputs": [],
   "source": [
    "#Solution:\n",
    "\n",
    "cursor.execute('select title from books order by title asc')\n",
    "print(cursor.fetchall())"
   ]
  },
  {
   "cell_type": "markdown",
   "id": "53ad1a8d",
   "metadata": {},
   "source": [
    "7. From the book table, select and print all columns in the order of publication.\n"
   ]
  },
  {
   "cell_type": "code",
   "execution_count": null,
   "id": "c8ddda39",
   "metadata": {},
   "outputs": [],
   "source": [
    "#Solution:\n",
    "\n",
    "cursor.execute('select title, author,year from books order by year')\n",
    "\n",
    "\n",
    "df1 = pd.DataFrame(c.fetchall(), columns=['title','author','year'])\n"
   ]
  },
  {
   "cell_type": "markdown",
   "id": "02201fa8",
   "metadata": {},
   "source": [
    "8. Use the sqlalchemy module to connect to the sqlite3 database books.db that you just made in\n",
    "exercise 6."
   ]
  },
  {
   "cell_type": "code",
   "execution_count": 52,
   "id": "05410b42",
   "metadata": {},
   "outputs": [],
   "source": [
    "#Solution:\n",
    "\n",
    "import sqlalchemy\n",
    "engine = sqlalchemy.create_engine(\"sqlite:///books.db\")\n",
    "rows = engine.execute('select * from books')\n"
   ]
  },
  {
   "cell_type": "markdown",
   "id": "00d3bd84",
   "metadata": {},
   "source": [
    "9. Install the Redis server and the Python redis library (pip install redis) on your computer. Create a\n",
    "Redis hash called test with the fields count (1) and name ('Fester Bestertester'). Print all the fields for\n",
    "test.\n"
   ]
  },
  {
   "cell_type": "code",
   "execution_count": 53,
   "id": "f84bef27",
   "metadata": {},
   "outputs": [
    {
     "name": "stdout",
     "output_type": "stream",
     "text": [
      "Collecting redis\n",
      "  Downloading redis-4.3.4-py3-none-any.whl (246 kB)\n",
      "Collecting deprecated>=1.2.3\n",
      "  Downloading Deprecated-1.2.13-py2.py3-none-any.whl (9.6 kB)\n",
      "Requirement already satisfied: packaging>=20.4 in c:\\programdata\\anaconda3\\lib\\site-packages (from redis) (21.0)\n",
      "Collecting async-timeout>=4.0.2\n",
      "  Downloading async_timeout-4.0.2-py3-none-any.whl (5.8 kB)\n",
      "Requirement already satisfied: wrapt<2,>=1.10 in c:\\programdata\\anaconda3\\lib\\site-packages (from deprecated>=1.2.3->redis) (1.12.1)\n",
      "Requirement already satisfied: pyparsing>=2.0.2 in c:\\programdata\\anaconda3\\lib\\site-packages (from packaging>=20.4->redis) (3.0.4)\n",
      "Installing collected packages: deprecated, async-timeout, redis\n",
      "Successfully installed async-timeout-4.0.2 deprecated-1.2.13 redis-4.3.4\n"
     ]
    }
   ],
   "source": [
    "#Solution:\n",
    "!pip install redis"
   ]
  },
  {
   "cell_type": "code",
   "execution_count": null,
   "id": "485c4a4e",
   "metadata": {},
   "outputs": [],
   "source": [
    "#solution:\n",
    "import redis\n",
    "conn = redis.Redis()\n",
    "conn.delete('test')\n",
    "conn.hmset('test', {'count': 1, 'name': 'Fester Bestertester'})\n",
    "conn.hgetall('test')"
   ]
  },
  {
   "cell_type": "markdown",
   "id": "0d297a99",
   "metadata": {},
   "source": [
    "10. Increment the count field of test and print it"
   ]
  },
  {
   "cell_type": "code",
   "execution_count": null,
   "id": "3c6f580a",
   "metadata": {},
   "outputs": [],
   "source": [
    "conn.hincrby('test','count', 3)"
   ]
  }
 ],
 "metadata": {
  "kernelspec": {
   "display_name": "Python 3 (ipykernel)",
   "language": "python",
   "name": "python3"
  },
  "language_info": {
   "codemirror_mode": {
    "name": "ipython",
    "version": 3
   },
   "file_extension": ".py",
   "mimetype": "text/x-python",
   "name": "python",
   "nbconvert_exporter": "python",
   "pygments_lexer": "ipython3",
   "version": "3.9.7"
  }
 },
 "nbformat": 4,
 "nbformat_minor": 5
}
