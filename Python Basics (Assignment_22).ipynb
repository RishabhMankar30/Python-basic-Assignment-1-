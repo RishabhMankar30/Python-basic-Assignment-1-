{
 "cells": [
  {
   "cell_type": "markdown",
   "id": "72a4b314",
   "metadata": {},
   "source": [
    "# 1. What is the result of the code, and explain?"
   ]
  },
  {
   "cell_type": "code",
   "execution_count": 22,
   "id": "1dc31c5e",
   "metadata": {},
   "outputs": [],
   "source": [
    "#Solution:\n",
    "\n",
    "X=\"ineuron\"\n",
    "def func():\n",
    "    print(X)\n",
    "    \n",
    "    "
   ]
  },
  {
   "cell_type": "code",
   "execution_count": 23,
   "id": "21dd7c03",
   "metadata": {},
   "outputs": [
    {
     "name": "stdout",
     "output_type": "stream",
     "text": [
      "ineuron\n"
     ]
    }
   ],
   "source": [
    "func()"
   ]
  },
  {
   "cell_type": "markdown",
   "id": "372caa8d",
   "metadata": {},
   "source": [
    "# 2. What is the result of the code, and explain?"
   ]
  },
  {
   "cell_type": "code",
   "execution_count": 24,
   "id": "2283a1a8",
   "metadata": {},
   "outputs": [
    {
     "name": "stdout",
     "output_type": "stream",
     "text": [
      "ineuron\n"
     ]
    }
   ],
   "source": [
    "X=\"ineuron\"\n",
    "def func():\n",
    "    X=\"NI!\"\n",
    "    \n",
    "func()\n",
    "\n",
    "print(X)"
   ]
  },
  {
   "cell_type": "markdown",
   "id": "3146b34a",
   "metadata": {},
   "source": [
    "- There is a concept of local and global variable.\n",
    "\n",
    "\n",
    "- Global Variable: \n",
    "1) Global Variable are the variable that are written outside of the function and global variable can accessible in the global space(i.e outside of the function)\n",
    "\n",
    "- Local Variable: \n",
    "1) Local Variable are the variable that are written inside of the function and accessible only in local space(i.e inside the function only)"
   ]
  },
  {
   "cell_type": "markdown",
   "id": "fbbe4de2",
   "metadata": {},
   "source": [
    "- Here we assign \"ineuron\" to varible X.it is global variable.\n",
    "\n",
    "- Inside the function we assign X=\"NI!\", it is local variable.\n",
    "\n",
    "- But value of X=\"ineuron\" is the constant its value will be \"ineuron\" whenever we will call X. Because X=\"ineuron\" is the global variable.\n",
    "\n",
    "- It will never print X=\"NI!\", because we assign X=\"NI!\" inside the function only, it is a local varible \n",
    "\n",
    "- X=\"NI!\" will be accessible only in the local space.\n"
   ]
  },
  {
   "cell_type": "markdown",
   "id": "5019d126",
   "metadata": {},
   "source": [
    "# 3. What does this code print, and why?\n"
   ]
  },
  {
   "cell_type": "code",
   "execution_count": 25,
   "id": "1fa07dc7",
   "metadata": {},
   "outputs": [
    {
     "name": "stdout",
     "output_type": "stream",
     "text": [
      "NI\n",
      "ineuron\n"
     ]
    }
   ],
   "source": [
    "X=\"ineuron\"\n",
    "def func():\n",
    "    X=\"NI\"\n",
    "    print(X)\n",
    "    \n",
    "func()\n",
    "print(X)"
   ]
  },
  {
   "cell_type": "markdown",
   "id": "f7b6fc60",
   "metadata": {},
   "source": [
    "- There is the 2 concept related to variable 1) Global variable 2) Local Variable\n",
    "\n",
    "- Here when we call the function fun(), it will print \"NI\" because we have replace the value X to X=\"NI!\" and this value only be available in the local space.\n",
    "- So we are printing the value of the X=\"NI!\" in the local space, hence it is giving us \"NI!\"\n",
    "\n",
    "- When we print(X) it will print \"ineuron\", because X=\"ineuron\" is the global variable and its value will be availabe in the global space.\n",
    "- So we are printing value of X=\"ineuron\" in the global space, hence it is giving output \"ineuron\"."
   ]
  },
  {
   "cell_type": "markdown",
   "id": "b780ce55",
   "metadata": {},
   "source": [
    "# 4. What output does this code produce? Why?\n"
   ]
  },
  {
   "cell_type": "code",
   "execution_count": 26,
   "id": "f55b74a9",
   "metadata": {},
   "outputs": [
    {
     "name": "stdout",
     "output_type": "stream",
     "text": [
      "NI\n"
     ]
    }
   ],
   "source": [
    "X = 'iNeuron'\n",
    "def func():\n",
    "    global X\n",
    "    X=\"NI\"\n",
    "func()\n",
    "print(X)"
   ]
  },
  {
   "cell_type": "markdown",
   "id": "1191ee42",
   "metadata": {},
   "source": [
    "- x=\"ineuron\" is the global variable.\n",
    "- In this program we have define x inside the function as a global variable using keyword-global.\n",
    "- Then we change its value x=\"NI\"\n",
    "- Now as we have >>1st we define x as a global variable inside a function\n",
    "                 >> 2ndly we replace its value to X=\"\"NI\n",
    "- As the x inside the function became a global varible so it became accessible outside the function also\n",
    "\n",
    "- Hence we get output \"NI\" because we print global variable.(which is printed outside of the function)"
   ]
  },
  {
   "cell_type": "markdown",
   "id": "12800acf",
   "metadata": {},
   "source": [
    "# 5. What about this code—what’s the output, and why?"
   ]
  },
  {
   "cell_type": "code",
   "execution_count": 27,
   "id": "02270ab2",
   "metadata": {},
   "outputs": [
    {
     "name": "stdout",
     "output_type": "stream",
     "text": [
      "iNeuron\n"
     ]
    }
   ],
   "source": [
    "X = 'iNeuron'\n",
    "def func():\n",
    "    X=\"NI\"\n",
    "    def nested():\n",
    "        print(X)\n",
    "    \n",
    "    \n",
    "func()\n",
    "print(X)\n",
    "    "
   ]
  },
  {
   "cell_type": "markdown",
   "id": "02bfed66",
   "metadata": {},
   "source": [
    "- Here X=\"ineuron\" is the global variable and we are printing the X in the global space\n",
    "- Hene we got the output = \"ineuron\"\n",
    "- we have also called the func() but there is no output for this because it is just reassiging the value to the variable X."
   ]
  },
  {
   "cell_type": "markdown",
   "id": "a43d9f9d",
   "metadata": {},
   "source": [
    "# 6. How about this code: what is its output in Python 3, and explain?"
   ]
  },
  {
   "cell_type": "code",
   "execution_count": 34,
   "id": "ad47310b",
   "metadata": {},
   "outputs": [
    {
     "ename": "NameError",
     "evalue": "name 'nested' is not defined",
     "output_type": "error",
     "traceback": [
      "\u001b[1;31m---------------------------------------------------------------------------\u001b[0m",
      "\u001b[1;31mNameError\u001b[0m                                 Traceback (most recent call last)",
      "\u001b[1;32m~\\AppData\\Local\\Temp/ipykernel_6136/1288439628.py\u001b[0m in \u001b[0;36m<module>\u001b[1;34m\u001b[0m\n\u001b[0;32m      6\u001b[0m \u001b[1;33m\u001b[0m\u001b[0m\n\u001b[0;32m      7\u001b[0m \u001b[1;33m\u001b[0m\u001b[0m\n\u001b[1;32m----> 8\u001b[1;33m \u001b[0mnested\u001b[0m\u001b[1;33m(\u001b[0m\u001b[1;33m)\u001b[0m\u001b[1;33m\u001b[0m\u001b[1;33m\u001b[0m\u001b[0m\n\u001b[0m\u001b[0;32m      9\u001b[0m \u001b[0mprint\u001b[0m\u001b[1;33m(\u001b[0m\u001b[0mX\u001b[0m\u001b[1;33m)\u001b[0m\u001b[1;33m\u001b[0m\u001b[1;33m\u001b[0m\u001b[0m\n\u001b[0;32m     10\u001b[0m \u001b[0mfunc\u001b[0m\u001b[1;33m(\u001b[0m\u001b[1;33m)\u001b[0m\u001b[1;33m\u001b[0m\u001b[1;33m\u001b[0m\u001b[0m\n",
      "\u001b[1;31mNameError\u001b[0m: name 'nested' is not defined"
     ]
    }
   ],
   "source": [
    "def func():\n",
    "    X = \"NI\"\n",
    "    def nested():\n",
    "        nonlocal X\n",
    "        X = 'Spam'\n",
    "    \n",
    "\n",
    "nested()\n",
    "print(X)\n",
    "func()"
   ]
  },
  {
   "cell_type": "markdown",
   "id": "7013523d",
   "metadata": {},
   "source": [
    "- Here we are getting NameError: name 'nested' is not defined\n",
    "- This is because nested()  is the nested function, which is inside the function func().\n",
    "- So we can not call it directly, Hence it is giving the error.\n",
    "- In order to call it we need to call the main function first i.e func()\n",
    "- This can be done be shown below.\n",
    "\n"
   ]
  },
  {
   "cell_type": "code",
   "execution_count": 33,
   "id": "a272d188",
   "metadata": {},
   "outputs": [
    {
     "name": "stdout",
     "output_type": "stream",
     "text": [
      "iNeuron\n"
     ]
    }
   ],
   "source": [
    "def func():\n",
    "    X = \"NI\"\n",
    "    def nested():\n",
    "        nonlocal X\n",
    "        X = 'Spam'\n",
    "        \n",
    "if  __name__ == '__main__':  \n",
    "    func()\n",
    "\n",
    "\n",
    "print(X)    \n",
    "\n"
   ]
  },
  {
   "cell_type": "code",
   "execution_count": null,
   "id": "9625f740",
   "metadata": {},
   "outputs": [],
   "source": []
  }
 ],
 "metadata": {
  "kernelspec": {
   "display_name": "Python 3 (ipykernel)",
   "language": "python",
   "name": "python3"
  },
  "language_info": {
   "codemirror_mode": {
    "name": "ipython",
    "version": 3
   },
   "file_extension": ".py",
   "mimetype": "text/x-python",
   "name": "python",
   "nbconvert_exporter": "python",
   "pygments_lexer": "ipython3",
   "version": "3.9.7"
  }
 },
 "nbformat": 4,
 "nbformat_minor": 5
}
