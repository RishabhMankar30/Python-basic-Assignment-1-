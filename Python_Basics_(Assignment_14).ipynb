{
  "nbformat": 4,
  "nbformat_minor": 0,
  "metadata": {
    "colab": {
      "provenance": []
    },
    "kernelspec": {
      "name": "python3",
      "display_name": "Python 3"
    },
    "language_info": {
      "name": "python"
    }
  },
  "cells": [
    {
      "cell_type": "markdown",
      "source": [
        "**1. What does RGBA stand for?**\n",
        "- RGBA(Red-Green-Blue-Alpha)"
      ],
      "metadata": {
        "id": "K8FVwvXYc_TX"
      }
    },
    {
      "cell_type": "markdown",
      "source": [
        "**2. From the Pillow module, how do you get the RGBA value of any images?**\n",
        "\n",
        "Solution: \n",
        "\n",
        "pip install Pillow\n",
        "from PIL import Image\n",
        "img = Image.open(‘image.png’)\n",
        "\n",
        "rgba = img.convert(“RGBA”)\n",
        "\n",
        "datas = rgba.getdata()\n",
        "\n",
        "This will give the rgba values in a tuple format."
      ],
      "metadata": {
        "id": "ic0NXeM0c_WE"
      }
    },
    {
      "cell_type": "markdown",
      "source": [
        "3. **What is box tuple?**\n",
        "\n",
        "Solution:\n",
        "\n",
        "- Box Tuple provides read-only access for the tuple userdata type. It allows, for a single tuple\n",
        "\n",
        "\n"
      ],
      "metadata": {
        "id": "ku-nBlO2c_ZX"
      }
    },
    {
      "cell_type": "markdown",
      "source": [
        "**4. Use your image and load in notebook then, How can you find out the width and height of an\n",
        "Image object?**\n",
        "\n",
        "Solution:\n",
        "\n",
        "pip install pillow\n",
        "\n",
        "`# import required module`\n",
        "\n",
        "from PIL import Image\n",
        "  \n",
        "`# get image`\n",
        "\n",
        "filepath = \"inerishabhuron.png\"\n",
        "\n",
        "img = Image.open(filepath)\n",
        "  \n",
        "`# get width and height`\n",
        "\n",
        "width = img.width\n",
        "\n",
        "height = img.height\n",
        "  \n",
        "`# display width and height`\n",
        "\n",
        "print(\"The height of the image is: \", height)\n",
        "\n",
        "print(\"The width of the image is: \", width)\n"
      ],
      "metadata": {
        "id": "s93xCwnOc_bp"
      }
    },
    {
      "cell_type": "markdown",
      "source": [
        "**5. What method would you call to get Image object for a 100×100 image, excluding the lower-left\n",
        "quarter of it?**\n",
        "\n",
        "Solution:\n",
        "\n",
        "- image.resize(100,100)"
      ],
      "metadata": {
        "id": "HmeircmHc_eB"
      }
    },
    {
      "cell_type": "markdown",
      "source": [
        "**6. After making changes to an Image object, how could you save it as an image file?**\n",
        "\n",
        "Solution:\n",
        "\n",
        "- The PIL module is used for storing, processing, and displaying images in Python. To save images, we can use the PIL. save() function"
      ],
      "metadata": {
        "id": "tyAqrVggc_gg"
      }
    },
    {
      "cell_type": "markdown",
      "source": [
        "**7. What module contains Pillow’s shape-drawing code?**\n",
        "\n",
        "Solution: \n",
        "\n",
        "- ImageDraw module"
      ],
      "metadata": {
        "id": "GaWjSm5hfGGO"
      }
    },
    {
      "cell_type": "markdown",
      "source": [
        "**8. Image objects do not have drawing methods. What kind of object does it? How do you get this kind\n",
        "of object?**\n",
        "\n",
        "Solution: \n",
        "\n",
        "- Drawing objects are created exclusively by the window method begindrawing(). Only one drawing object can exist at any given time; the drawing object must be deleted to finish drawing."
      ],
      "metadata": {
        "id": "-uxKSe_ofGJB"
      }
    },
    {
      "cell_type": "code",
      "source": [],
      "metadata": {
        "id": "-eMtjr97fW5y"
      },
      "execution_count": null,
      "outputs": []
    }
  ]
}