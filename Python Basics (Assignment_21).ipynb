{
 "cells": [
  {
   "cell_type": "markdown",
   "id": "85639520",
   "metadata": {},
   "source": [
    "1. Add the current date to the text file today.txt as a string."
   ]
  },
  {
   "cell_type": "code",
   "execution_count": 25,
   "id": "b275c185",
   "metadata": {},
   "outputs": [],
   "source": [
    "#Solution:\n",
    "file=open(\"today.txt\",\"w\")\n",
    "file.write(\"Aug 27 2022\")\n",
    "file.close()"
   ]
  },
  {
   "cell_type": "code",
   "execution_count": 26,
   "id": "45f5f437",
   "metadata": {},
   "outputs": [],
   "source": [
    "file=open(\"today.txt\",\"r\")"
   ]
  },
  {
   "cell_type": "code",
   "execution_count": 27,
   "id": "2ecd81a5",
   "metadata": {},
   "outputs": [
    {
     "data": {
      "text/plain": [
       "'Aug 27 2022'"
      ]
     },
     "execution_count": 27,
     "metadata": {},
     "output_type": "execute_result"
    }
   ],
   "source": [
    "file.read()\n"
   ]
  },
  {
   "cell_type": "code",
   "execution_count": 28,
   "id": "6f5539ba",
   "metadata": {},
   "outputs": [],
   "source": [
    "file.close()"
   ]
  },
  {
   "cell_type": "markdown",
   "id": "6efb0830",
   "metadata": {},
   "source": [
    "2. Read the text file today.txt into the string today_string"
   ]
  },
  {
   "cell_type": "code",
   "execution_count": 29,
   "id": "fa5460cc",
   "metadata": {},
   "outputs": [
    {
     "data": {
      "text/plain": [
       "'Aug 27 2022'"
      ]
     },
     "execution_count": 29,
     "metadata": {},
     "output_type": "execute_result"
    }
   ],
   "source": [
    "#Solution:\n",
    "file=open(\"today.txt\",\"r\")\n",
    "today_string=file.read()\n",
    "today_string\n"
   ]
  },
  {
   "cell_type": "markdown",
   "id": "b86c1aa9",
   "metadata": {},
   "source": [
    "3. Parse the date from today_string."
   ]
  },
  {
   "cell_type": "code",
   "execution_count": 38,
   "id": "bcd7885d",
   "metadata": {},
   "outputs": [
    {
     "data": {
      "text/plain": [
       "datetime.datetime(2022, 8, 27, 0, 0)"
      ]
     },
     "execution_count": 38,
     "metadata": {},
     "output_type": "execute_result"
    }
   ],
   "source": [
    "from datetime import datetime\n",
    "\n",
    "datetime.strptime(today_string, \"%b %d %Y\")"
   ]
  },
  {
   "cell_type": "markdown",
   "id": "05c95c66",
   "metadata": {},
   "source": [
    "4. List the files in your current directory"
   ]
  },
  {
   "cell_type": "code",
   "execution_count": 15,
   "id": "b90f39f1",
   "metadata": {},
   "outputs": [
    {
     "data": {
      "text/plain": [
       "['.conda',\n",
       " '.condarc',\n",
       " '.continuum',\n",
       " '.cufflinks',\n",
       " '.gitconfig',\n",
       " '.ipynb_checkpoints',\n",
       " '.ipython',\n",
       " '.jupyter',\n",
       " '.matplotlib',\n",
       " '.python_history',\n",
       " '3D Objects',\n",
       " 'AppData',\n",
       " 'Application Data',\n",
       " 'Assignment 1 (lecture3 string ).ipynb',\n",
       " 'Assignment 2 for submission.ipynb',\n",
       " 'Assignment 20.ipynb',\n",
       " 'Assignment 21.ipynb',\n",
       " 'assignment 7.ipynb',\n",
       " 'Assignment_11.ipynb',\n",
       " 'Assignment_12.ipynb',\n",
       " 'Assignment_15.ipynb',\n",
       " 'Assignment_16.ipynb',\n",
       " 'Assignment_17.ipynb',\n",
       " 'Assignment_19.ipynb',\n",
       " 'Attribute DataSet.xlsx',\n",
       " 'books.csv',\n",
       " 'books.db',\n",
       " 'class Assignment on Function.ipynb',\n",
       " 'code solve for file operation que given by sir in (function and file 2) lecture.ipynb',\n",
       " 'Contacts',\n",
       " 'Cookies',\n",
       " 'Desktop',\n",
       " 'Documents',\n",
       " 'Downloads',\n",
       " 'dress sales.csv',\n",
       " 'Exceptional handling by Sudhanshu Sir..ipynb',\n",
       " 'Favorites',\n",
       " 'file operation code solve.ipynb',\n",
       " 'for loop practice .ipynb',\n",
       " 'Function Assignment..ipynb',\n",
       " 'FUNCTION PRACTICE.ipynb',\n",
       " 'functions practice.ipynb',\n",
       " 'haberman.csv',\n",
       " 'Ineuron Agent chat support data.ipynb',\n",
       " 'IntelGraphicsProfiles',\n",
       " 'iterator , generator , map , reduce , filter , basic file operation  (1).ipynb',\n",
       " 'json file.json',\n",
       " 'Links',\n",
       " 'Live Class Graph.ipynb',\n",
       " 'Local Settings',\n",
       " 'logging_file',\n",
       " 'MicrosoftEdgeBackups',\n",
       " 'Music',\n",
       " 'My Documents',\n",
       " 'my fav. file',\n",
       " 'NetHood',\n",
       " 'New csv  file.csv',\n",
       " 'New csv 2.csv',\n",
       " 'New csv file-1.csv',\n",
       " 'New json file.json',\n",
       " 'New_file.csv',\n",
       " 'NTUSER.DAT',\n",
       " 'ntuser.dat.LOG1',\n",
       " 'ntuser.dat.LOG2',\n",
       " 'NTUSER.DAT{fd9a35db-49fe-11e9-aa2c-248a07783950}.TM.blf',\n",
       " 'NTUSER.DAT{fd9a35db-49fe-11e9-aa2c-248a07783950}.TMContainer00000000000000000001.regtrans-ms',\n",
       " 'NTUSER.DAT{fd9a35db-49fe-11e9-aa2c-248a07783950}.TMContainer00000000000000000002.regtrans-ms',\n",
       " 'ntuser.ini',\n",
       " 'Numpy and Basics of graph live class.ipynb',\n",
       " 'numpy and graph practice..ipynb',\n",
       " 'OneDrive',\n",
       " 'Online Retail (1).xlsx',\n",
       " 'Online Retail.xlsx',\n",
       " 'online_retail_II (1).xlsx',\n",
       " 'pandas basic.ipynb',\n",
       " 'Pandas class 1.ipynb',\n",
       " 'pandas class 2.ipynb',\n",
       " 'pandas class 3 - with task .ipynb',\n",
       " 'pandas class assignment.ipynb',\n",
       " 'Pandas class Fitbit dataset.ipynb',\n",
       " 'Pandas practice (w3).ipynb',\n",
       " 'Pandas Practice 2(  w3 school).ipynb',\n",
       " 'Pandas Questions Practice (W3 School).ipynb',\n",
       " 'Pandas USA Superstore dataset.ipynb',\n",
       " 'Patterns printing questions..ipynb',\n",
       " 'Pictures',\n",
       " 'pollution.csv',\n",
       " 'Postman',\n",
       " 'Practice que 2 for loop.ipynb',\n",
       " 'practice.ipynb',\n",
       " 'PrintHood',\n",
       " 'PycharmProjects',\n",
       " 'Python Basic (Assignment 3).ipynb',\n",
       " 'Python Basic (Assignment 4).ipynb',\n",
       " 'Python Basics (Assignment 2).ipynb',\n",
       " 'Python Basics (Assignment 5).ipynb',\n",
       " 'Python Basics (Assignment 6).ipynb',\n",
       " 'Python Basics (Assignment_8).ipynb',\n",
       " 'Python Basics Programming Assignment_1.ipynb',\n",
       " 'Python Basics Programming Assignment_2.ipynb',\n",
       " 'Python Basics Programming Assignment_8.ipynb',\n",
       " 'Python Basics Programming Assignment_9.ipynb',\n",
       " 'Python Basics(Assignment 1 ).ipynb',\n",
       " 'Python Basics(Assignment 9).ipynb',\n",
       " 'Recent',\n",
       " 'Saved Games',\n",
       " 'seaborn-data',\n",
       " 'Searches',\n",
       " 'SendTo',\n",
       " 'SQL and pandas assignment.ipynb',\n",
       " 'SQL task solve 1.ipynb',\n",
       " 'Start Menu',\n",
       " 'Templates',\n",
       " 'test.sudh',\n",
       " 'test.txt',\n",
       " 'today.txt',\n",
       " 'Tracing',\n",
       " 'try and exception handling.ipynb',\n",
       " 'Untitled.ipynb',\n",
       " 'Untitled1.ipynb',\n",
       " 'Untitled10.ipynb',\n",
       " 'Untitled11.ipynb',\n",
       " 'Untitled2.ipynb',\n",
       " 'Untitled3.ipynb',\n",
       " 'Untitled4.ipynb',\n",
       " 'Untitled5.ipynb',\n",
       " 'Untitled6.ipynb',\n",
       " 'Untitled7.ipynb',\n",
       " 'Untitled8.ipynb',\n",
       " 'Untitled9.ipynb',\n",
       " 'Videos',\n",
       " '__pycache__']"
      ]
     },
     "execution_count": 15,
     "metadata": {},
     "output_type": "execute_result"
    }
   ],
   "source": [
    "#Solution:\n",
    "\n",
    "import os\n",
    "\n",
    "os.listdir()\n",
    "    \n",
    "    "
   ]
  },
  {
   "cell_type": "markdown",
   "id": "f908894b",
   "metadata": {},
   "source": [
    "5. Create a list of all of the files in your parent directory (minimum five files should be available)."
   ]
  },
  {
   "cell_type": "code",
   "execution_count": 51,
   "id": "afa9d3d9",
   "metadata": {},
   "outputs": [
    {
     "data": {
      "text/plain": [
       "['$Recycle.Bin',\n",
       " 'Documents and Settings',\n",
       " 'hiberfil.sys',\n",
       " 'Intel',\n",
       " 'MSOCache',\n",
       " 'pagefile.sys',\n",
       " 'PerfLogs',\n",
       " 'Program Files',\n",
       " 'Program Files (x86)',\n",
       " 'ProgramData',\n",
       " 'Ratiborus KMS Tools December (01.12.2019) (Office And Windows Activators) {B4tman} - Copy.zip',\n",
       " 'Recovery',\n",
       " 'swapfile.sys',\n",
       " 'System Volume Information',\n",
       " 'test.csv',\n",
       " 'test121.csv',\n",
       " 'test123.csv',\n",
       " 'Users',\n",
       " 'Windows']"
      ]
     },
     "execution_count": 51,
     "metadata": {},
     "output_type": "execute_result"
    }
   ],
   "source": [
    "import os\n",
    "os.listdir(\"c:\\\\\")  \n",
    "#By default this method gives the files from current directory\n",
    "# To know the files from parent directory(which is c drive in my case), we need to pass its path.)"
   ]
  },
  {
   "cell_type": "markdown",
   "id": "503e8269",
   "metadata": {},
   "source": [
    "6. Use multiprocessing to create three separate processes. Make each one wait a random number of\n",
    "seconds between one and five, print the current time, and then exit."
   ]
  },
  {
   "cell_type": "code",
   "execution_count": 63,
   "id": "a7a3e329",
   "metadata": {},
   "outputs": [],
   "source": [
    "import multiprocessing\n",
    "import time"
   ]
  },
  {
   "cell_type": "code",
   "execution_count": 67,
   "id": "219e704b",
   "metadata": {},
   "outputs": [
    {
     "name": "stdout",
     "output_type": "stream",
     "text": [
      "Result(in main program): [0, 0, 0, 0]\n",
      "Sum of squares(in main program): 0\n"
     ]
    }
   ],
   "source": [
    "import multiprocessing\n",
    "  \n",
    "def square_list(mylist, result, square_sum):\n",
    "    \"\"\"\n",
    "    function to square a given list\n",
    "    \"\"\"\n",
    "    # append squares of mylist to result array\n",
    "    for idx, num in enumerate(mylist):\n",
    "        result[idx] = num * num\n",
    "  \n",
    "    # square_sum value\n",
    "    square_sum.value = sum(result)\n",
    "  \n",
    "    # print result Array\n",
    "    print(\"Result(in process p1): {}\".format(result[:]))\n",
    "  \n",
    "    # print square_sum Value\n",
    "    print(\"Sum of squares(in process p1): {}\".format(square_sum.value))\n",
    "  \n",
    "if __name__ == \"__main__\":\n",
    "    # input list\n",
    "    mylist = [1,2,3,4]\n",
    "  \n",
    "    # creating Array of int data type with space for 4 integers\n",
    "    result = multiprocessing.Array('i', 4)\n",
    "  \n",
    "    # creating Value of int data type\n",
    "    square_sum = multiprocessing.Value('i')\n",
    "  \n",
    "    # creating new process\n",
    "    p1 = multiprocessing.Process(target=square_list, args=(mylist, result, square_sum))\n",
    "  \n",
    "    # starting process\n",
    "    p1.start()\n",
    "  \n",
    "    # wait until the process is finished\n",
    "    p1.join()\n",
    "  \n",
    "    # print result array\n",
    "    print(\"Result(in main program): {}\".format(result[:]))\n",
    "  \n",
    "    # print square_sum Value\n",
    "    print(\"Sum of squares(in main program): {}\".format(square_sum.value))"
   ]
  },
  {
   "cell_type": "markdown",
   "id": "8cefcc7e",
   "metadata": {},
   "source": [
    "7. Create a date object of your day of birth."
   ]
  },
  {
   "cell_type": "code",
   "execution_count": 70,
   "id": "ad085da6",
   "metadata": {},
   "outputs": [
    {
     "name": "stdout",
     "output_type": "stream",
     "text": [
      "1996-10-30 00:00:00\n"
     ]
    }
   ],
   "source": [
    "#Solution:\n",
    "\n",
    "import datetime\n",
    "date=datetime.datetime(1996,10,30)\n",
    "print(date)"
   ]
  },
  {
   "cell_type": "markdown",
   "id": "b50c7d10",
   "metadata": {},
   "source": [
    "8. What day of the week was your day of birth?"
   ]
  },
  {
   "cell_type": "code",
   "execution_count": 85,
   "id": "3befb4f6",
   "metadata": {},
   "outputs": [
    {
     "name": "stdout",
     "output_type": "stream",
     "text": [
      "Wednesday\n"
     ]
    }
   ],
   "source": [
    "#Solution:\n",
    "import datetime\n",
    "import calendar\n",
    "seperate_date=datetime.datetime.strptime(\"30 10 1996\",\"%d %m %Y\").weekday()\n",
    "print(calendar.day_name[seperate_date])"
   ]
  },
  {
   "cell_type": "markdown",
   "id": "c7e59da1",
   "metadata": {},
   "source": [
    "9. When will you be (or when were you) 10,000 days old?"
   ]
  },
  {
   "cell_type": "code",
   "execution_count": 87,
   "id": "130f745e",
   "metadata": {},
   "outputs": [
    {
     "name": "stdout",
     "output_type": "stream",
     "text": [
      "2024-03-17\n"
     ]
    }
   ],
   "source": [
    "#Solution:\n",
    "\n",
    "import datetime\n",
    "\n",
    "born_date = datetime.datetime(year=1996, month=10, day=30)\n",
    "\n",
    "end_date = born_date + datetime.timedelta(days=10000)\n",
    "\n",
    "print(end_date.date())\n"
   ]
  },
  {
   "cell_type": "code",
   "execution_count": null,
   "id": "f83bdd21",
   "metadata": {},
   "outputs": [],
   "source": []
  }
 ],
 "metadata": {
  "kernelspec": {
   "display_name": "Python 3 (ipykernel)",
   "language": "python",
   "name": "python3"
  },
  "language_info": {
   "codemirror_mode": {
    "name": "ipython",
    "version": 3
   },
   "file_extension": ".py",
   "mimetype": "text/x-python",
   "name": "python",
   "nbconvert_exporter": "python",
   "pygments_lexer": "ipython3",
   "version": "3.9.7"
  }
 },
 "nbformat": 4,
 "nbformat_minor": 5
}
