{
 "cells": [
  {
   "cell_type": "code",
   "execution_count": 1,
   "id": "82f2b9fe",
   "metadata": {},
   "outputs": [
    {
     "name": "stdout",
     "output_type": "stream",
     "text": [
      "Hello Python\n"
     ]
    }
   ],
   "source": [
    "#Q1.Write a Python program to print\"Hello Python\"?\n",
    "\n",
    "a=\"Hello Python\"\n",
    "print(a)\n"
   ]
  },
  {
   "cell_type": "code",
   "execution_count": 3,
   "id": "92ad41cf",
   "metadata": {},
   "outputs": [
    {
     "name": "stdout",
     "output_type": "stream",
     "text": [
      "addition of two integer:- 30\n",
      "division of two integer:- 0.5\n"
     ]
    }
   ],
   "source": [
    "#Q2.Write a Python program to do arithmetical operations addition and division.?\n",
    "\n",
    "int_1=10\n",
    "int_2=20\n",
    "add=int_1+int_2\n",
    "print(\"addition of two integer:-\",add)\n",
    "divi=int_1/int_2\n",
    "print(\"division of two integer:-\",divi)"
   ]
  },
  {
   "cell_type": "code",
   "execution_count": 21,
   "id": "1fec3723",
   "metadata": {},
   "outputs": [
    {
     "name": "stdout",
     "output_type": "stream",
     "text": [
      "The area of given triangle is:14.696938456699069\n"
     ]
    }
   ],
   "source": [
    "#Q3. Write a Python program to find the area of a triangle?\n",
    "fs=5\n",
    "ss=6\n",
    "ts=7\n",
    "s=(fs+ss+ts)/2\n",
    "area=float((s*(s-a)*(s-b)*(s-c))**0.5)\n",
    "print(\"The area of given triangle is:{}\".format(area))"
   ]
  },
  {
   "cell_type": "code",
   "execution_count": 24,
   "id": "89589928",
   "metadata": {},
   "outputs": [
    {
     "name": "stdout",
     "output_type": "stream",
     "text": [
      "two variable are swaped a=4 and b=5\n"
     ]
    }
   ],
   "source": [
    "#Q4. Write a Python program to swap two variables?\n",
    "a=5\n",
    "b=4\n",
    "c=a\n",
    "a=b\n",
    "b=c\n",
    "print(\"two variable are swaped a={} and b={}\".format(a,b))\n"
   ]
  },
  {
   "cell_type": "code",
   "execution_count": 1,
   "id": "d9d70083",
   "metadata": {},
   "outputs": [
    {
     "data": {
      "text/plain": [
       "16"
      ]
     },
     "execution_count": 1,
     "metadata": {},
     "output_type": "execute_result"
    }
   ],
   "source": [
    "#Q5. Write a Python program to generate a random number?\n",
    "import random\n",
    "random.randint(0,100)"
   ]
  },
  {
   "cell_type": "code",
   "execution_count": null,
   "id": "3a76a543",
   "metadata": {},
   "outputs": [],
   "source": []
  },
  {
   "cell_type": "code",
   "execution_count": null,
   "id": "4565962d",
   "metadata": {},
   "outputs": [],
   "source": []
  }
 ],
 "metadata": {
  "kernelspec": {
   "display_name": "Python 3 (ipykernel)",
   "language": "python",
   "name": "python3"
  },
  "language_info": {
   "codemirror_mode": {
    "name": "ipython",
    "version": 3
   },
   "file_extension": ".py",
   "mimetype": "text/x-python",
   "name": "python",
   "nbconvert_exporter": "python",
   "pygments_lexer": "ipython3",
   "version": "3.9.7"
  }
 },
 "nbformat": 4,
 "nbformat_minor": 5
}
