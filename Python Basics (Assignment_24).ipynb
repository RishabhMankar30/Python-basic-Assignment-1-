{
 "cells": [
  {
   "cell_type": "markdown",
   "id": "76e0a883",
   "metadata": {},
   "source": [
    "# 1. What is the relationship between def statements and lambda expressions ?"
   ]
  },
  {
   "cell_type": "markdown",
   "id": "7161ea9a",
   "metadata": {},
   "source": [
    "#Solution\n",
    "\n",
    "- def means define a function, it simply create a function with def followed by name of the function.\n",
    " \n",
    "- eg def addition():\n",
    "         c=a+b\n",
    "         return c\n",
    "- lambda is also known as anonymous function, where we do not need to name the function, just write a lambda and you can use that function\n",
    "\n",
    "- eg. sq.root= lambda x: x**2\n",
    "       "
   ]
  },
  {
   "cell_type": "markdown",
   "id": "ce545517",
   "metadata": {},
   "source": [
    "# 2. What is the benefit of lambda?"
   ]
  },
  {
   "cell_type": "markdown",
   "id": "7eada730",
   "metadata": {},
   "source": [
    "- Lambda function is a simple function and there is no need to use name of the function, just write lambda and your task is done.\n",
    "- As the lambda function is a small in nature so it saves time while programming\n",
    "- Execution time require for lambda function is less."
   ]
  },
  {
   "cell_type": "markdown",
   "id": "0ab2e117",
   "metadata": {},
   "source": [
    "# 3. Compare and contrast map, filter, and reduce."
   ]
  },
  {
   "cell_type": "markdown",
   "id": "9949f9fd",
   "metadata": {},
   "source": [
    "- map(), filter(), reduce() these are the inbuilt function in the python, which are very useful.\n",
    "\n",
    "1) map():  \n",
    "- The map() function is a higher-order function. This function accepts another function and a sequence of ‘iterables’ as parameters and provides output after applying the function to each iterable in the sequence.\n",
    "\n",
    "- Example of map() function\n"
   ]
  },
  {
   "cell_type": "code",
   "execution_count": 5,
   "id": "1a41c2db",
   "metadata": {},
   "outputs": [
    {
     "name": "stdout",
     "output_type": "stream",
     "text": [
      "[1, 4, 9, 16, 25]\n"
     ]
    }
   ],
   "source": [
    "l=[1,2,3,4,5]\n",
    "new_list=list(map(lambda x:x**2,l))\n",
    "print(new_list)\n",
    "        "
   ]
  },
  {
   "cell_type": "markdown",
   "id": "0a97e473",
   "metadata": {},
   "source": [
    "2) filter() :\n",
    "\n",
    "- The filter() function filters the given sequence with the help of a function that tests each element in the sequence to be true or not.\n",
    "- it also accept the function as a argument and iterables as an argument.\n",
    "- Example of filter(), function is shown below\n"
   ]
  },
  {
   "cell_type": "code",
   "execution_count": 15,
   "id": "49ea0a71",
   "metadata": {},
   "outputs": [
    {
     "name": "stdout",
     "output_type": "stream",
     "text": [
      "4\n",
      "5\n",
      "6\n",
      "4\n",
      "6\n",
      "7\n",
      "5\n",
      "78\n",
      "[]\n"
     ]
    }
   ],
   "source": [
    "def func(x):\n",
    "    if x>3:\n",
    "        print(x)\n",
    "l=[1,2,3,4,5,6,4,6,7,5,78]\n",
    "\n",
    "ans=filter(func,l)\n",
    "\n",
    "print(list(ans))\n",
    "    "
   ]
  },
  {
   "cell_type": "code",
   "execution_count": 14,
   "id": "b620fa99",
   "metadata": {},
   "outputs": [
    {
     "name": "stdout",
     "output_type": "stream",
     "text": [
      "[4, 5, 6, 4, 6, 7, 5, 78]\n"
     ]
    }
   ],
   "source": [
    "l=[1,2,3,4,5,6,4,6,7,5,78]\n",
    "\n",
    "y=filter(lambda x:x>3,l)\n",
    "print(list(y))"
   ]
  },
  {
   "cell_type": "markdown",
   "id": "1b2427a0",
   "metadata": {},
   "source": [
    "- reduce():\n",
    "\n",
    "- The reduce() function applies a provided function to ‘iterables’ and returns a single value, as the name implies.\n",
    "\n",
    "- It syntax is also same as map and filter, it takes function and iterables as a argument.\n",
    "\n",
    "- It work according to following steps\n",
    "1) At first step, first two elements of sequence are picked and the result is obtained.\n",
    "\n",
    "2) Next step is to apply the same function to the previously attained result and the number just succeeding the second element and the result is again stored.\n",
    "\n",
    "3) This process continues till no more elements are left in the container.\n",
    "\n",
    "4) The final returned result is returned and printed on console."
   ]
  },
  {
   "cell_type": "code",
   "execution_count": 21,
   "id": "0d930e20",
   "metadata": {},
   "outputs": [],
   "source": [
    "from functools import reduce"
   ]
  },
  {
   "cell_type": "code",
   "execution_count": 22,
   "id": "41a7a3a1",
   "metadata": {},
   "outputs": [
    {
     "name": "stdout",
     "output_type": "stream",
     "text": [
      "36\n"
     ]
    }
   ],
   "source": [
    "l=[1,2,3,4,5,6,7,8]\n",
    "\n",
    "y=reduce(lambda a,b:a+b,l)\n",
    "print(y)"
   ]
  },
  {
   "cell_type": "markdown",
   "id": "2cf8a845",
   "metadata": {},
   "source": [
    "# 4. What are function annotations, and how are they used?"
   ]
  },
  {
   "cell_type": "markdown",
   "id": "dd926695",
   "metadata": {},
   "source": [
    "- Function annotation is the standard way to access the metadata with the arguments and the return value of the function.\n",
    "- These are nothing but some random and optional Python expressions that get allied to different parts of the function.\n",
    "- They get evaluated only during the compile-time and have no significance during the run-time of the code.\n",
    "- They do not have any significance or meaning associated with them until accessed by some third-party libraries.\n",
    "- They are used to type check the functions by declaring the type of the parameters and the return value for the functions.\n",
    "- Examples"
   ]
  },
  {
   "cell_type": "code",
   "execution_count": 23,
   "id": "669021a1",
   "metadata": {},
   "outputs": [],
   "source": [
    "def func(a:\"int\"):\n",
    "    return a\n",
    "\n",
    "#Here we have define a function func, with argument a and the function anotation as a \"int\"\n",
    "# In the similar way we can do for return as well."
   ]
  },
  {
   "cell_type": "markdown",
   "id": "f7009f1c",
   "metadata": {},
   "source": [
    "# 5. What are recursive functions, and how are they used?"
   ]
  },
  {
   "cell_type": "markdown",
   "id": "b4925c19",
   "metadata": {},
   "source": [
    "- Recursion is the process of defining something in terms of itself.\n",
    "\n",
    "- A physical world example would be to place two parallel mirrors facing each other. Any object in between them would be reflected recursively.\n",
    "\n",
    "- In python we know that one function can call other function,Even it is possible that one function can call itself. This is known as recursive function.\n",
    "- Eg."
   ]
  },
  {
   "cell_type": "code",
   "execution_count": 24,
   "id": "ae5fa891",
   "metadata": {},
   "outputs": [
    {
     "name": "stdout",
     "output_type": "stream",
     "text": [
      "The factorial of 3 is 6\n"
     ]
    }
   ],
   "source": [
    "def factorial(x):\n",
    "    if x == 1:\n",
    "        return 1\n",
    "    else:\n",
    "        return (x * factorial(x-1))\n",
    "\n",
    "\n",
    "num = 3\n",
    "print(\"The factorial of\", num, \"is\", factorial(num))\n",
    "\n",
    "#Here in step no. 5 we are calling the function again and again to get factorial."
   ]
  },
  {
   "cell_type": "markdown",
   "id": "181a1e83",
   "metadata": {},
   "source": [
    "# 6. What are some general design guidelines for coding functions?\n"
   ]
  },
  {
   "cell_type": "markdown",
   "id": "be61ada5",
   "metadata": {},
   "source": [
    "1) function begins with def function_name and paranthesis ().\n",
    "\n",
    "2) Any  arguments should be placed within these parentheses. You can also define parameters \n",
    "   inside these parentheses.\n",
    "\n",
    "3) Provide the doc string for the function we are defining.\n",
    "\n",
    "4) The code block of every function starts with a colon (:) and is indented.\n",
    "\n",
    "5) once the code done, provide the return statement at the end of the function."
   ]
  },
  {
   "cell_type": "code",
   "execution_count": null,
   "id": "730a7271",
   "metadata": {},
   "outputs": [],
   "source": [
    "#syntax for defining a function\n",
    "def functionname( parameters ):\n",
    "   \"function_docstring\"\n",
    "   function_suite\n",
    "   return [expression]"
   ]
  },
  {
   "cell_type": "code",
   "execution_count": 25,
   "id": "effe5c11",
   "metadata": {},
   "outputs": [],
   "source": [
    "#eg:\n",
    "def addition(a,b):\n",
    "    \"\"\"this function provides the addition of two number a and b and return final solution\"\"\"\n",
    "    c=a+b\n",
    "    return c"
   ]
  },
  {
   "cell_type": "markdown",
   "id": "8ddb1285",
   "metadata": {},
   "source": [
    "# 7. Name three or more ways that functions can communicate results to a caller."
   ]
  },
  {
   "cell_type": "markdown",
   "id": "7c748ce7",
   "metadata": {},
   "source": [
    "1) by directly calling the function"
   ]
  },
  {
   "cell_type": "code",
   "execution_count": 34,
   "id": "09ff56f9",
   "metadata": {},
   "outputs": [
    {
     "name": "stdout",
     "output_type": "stream",
     "text": [
      "This is a test\n"
     ]
    }
   ],
   "source": [
    "\n",
    "\n",
    "def test():\n",
    "    print(\"This is a test\")\n",
    "test()\n"
   ]
  },
  {
   "cell_type": "markdown",
   "id": "e9973dc9",
   "metadata": {},
   "source": [
    "2) Use partial() Function:\n",
    "\n",
    "In the built-in library of functools, there is a partial method dedicated to generating partial functions.\n",
    "    "
   ]
  },
  {
   "cell_type": "code",
   "execution_count": 29,
   "id": "e4fd3008",
   "metadata": {},
   "outputs": [
    {
     "data": {
      "text/plain": [
       "9"
      ]
     },
     "execution_count": 29,
     "metadata": {},
     "output_type": "execute_result"
    }
   ],
   "source": [
    "#Eg:\n",
    "def power(x, n):\n",
    "    s = 1\n",
    "    while n > 0:\n",
    "        n = n - 1\n",
    "        s = s * x\n",
    "    return s\n",
    "\n",
    "from functools import partial\n",
    "\n",
    "power_2 = partial(power, n=2)\n",
    "power_2(3)"
   ]
  },
  {
   "cell_type": "markdown",
   "id": "fcc390ee",
   "metadata": {},
   "source": [
    "3) Use eval()\n",
    "\n",
    "If you need to execute the function dynamically, you can use eval + string to execute the function."
   ]
  },
  {
   "cell_type": "markdown",
   "id": "af1a2653",
   "metadata": {},
   "source": [
    "4) Use getattr()\n",
    "\n",
    "If you put all the functions in the class and define them as static methods, you can use getattr() to get and call them."
   ]
  },
  {
   "cell_type": "code",
   "execution_count": 36,
   "id": "0d1afca3",
   "metadata": {},
   "outputs": [],
   "source": [
    "#5) Use __dict__()"
   ]
  },
  {
   "cell_type": "markdown",
   "id": "f92d631b",
   "metadata": {},
   "source": [
    "6)Use global()"
   ]
  },
  {
   "cell_type": "markdown",
   "id": "dbb87444",
   "metadata": {},
   "source": [
    "7) Use attrgetter()"
   ]
  },
  {
   "cell_type": "code",
   "execution_count": null,
   "id": "adb82941",
   "metadata": {},
   "outputs": [],
   "source": []
  }
 ],
 "metadata": {
  "kernelspec": {
   "display_name": "Python 3 (ipykernel)",
   "language": "python",
   "name": "python3"
  },
  "language_info": {
   "codemirror_mode": {
    "name": "ipython",
    "version": 3
   },
   "file_extension": ".py",
   "mimetype": "text/x-python",
   "name": "python",
   "nbconvert_exporter": "python",
   "pygments_lexer": "ipython3",
   "version": "3.9.7"
  }
 },
 "nbformat": 4,
 "nbformat_minor": 5
}
