{
 "cells": [
  {
   "cell_type": "code",
   "execution_count": 1,
   "id": "2c0e64e8",
   "metadata": {},
   "outputs": [],
   "source": [
    "import numpy as np"
   ]
  },
  {
   "cell_type": "code",
   "execution_count": 14,
   "id": "e9d1d4e7",
   "metadata": {},
   "outputs": [
    {
     "name": "stdout",
     "output_type": "stream",
     "text": [
      "The array is: [[8 5 4 5]\n",
      " [3 3 4 5]\n",
      " [4 7 3 6]]\n",
      "the sum:- 57\n"
     ]
    }
   ],
   "source": [
    "1. Write a Python Program to find sum of array?\n",
    "a=np.random.randint(1,10,(3,4))\n",
    "print(\"The array is:\",a)\n",
    "sum=0\n",
    "for i in a:\n",
    "    for j in i:\n",
    "        sum= sum+j\n",
    "print(\"the sum:-\",sum)\n",
    "         \n",
    "\n"
   ]
  },
  {
   "cell_type": "code",
   "execution_count": 20,
   "id": "83c50611",
   "metadata": {},
   "outputs": [
    {
     "name": "stdout",
     "output_type": "stream",
     "text": [
      "The array is: [[8 6 8 7]\n",
      " [2 2 2 7]\n",
      " [6 8 8 4]]\n"
     ]
    },
    {
     "data": {
      "text/plain": [
       "8"
      ]
     },
     "execution_count": 20,
     "metadata": {},
     "output_type": "execute_result"
    }
   ],
   "source": [
    "#2. Write a Python Program to find largest element in an array?\n",
    "ar=np.random.randint(1,10,(3,4))\n",
    "print(\"The array is:\",ar)\n",
    "ar.max()"
   ]
  },
  {
   "cell_type": "code",
   "execution_count": 23,
   "id": "452bf3bd",
   "metadata": {},
   "outputs": [
    {
     "name": "stdout",
     "output_type": "stream",
     "text": [
      "[[20  8 42 12]\n",
      " [ 6 13 11 33]\n",
      " [33 13 32 22]]\n"
     ]
    },
    {
     "data": {
      "text/plain": [
       "array([[20,  6, 33],\n",
       "       [ 8, 13, 13],\n",
       "       [42, 11, 32],\n",
       "       [12, 33, 22]])"
      ]
     },
     "execution_count": 23,
     "metadata": {},
     "output_type": "execute_result"
    }
   ],
   "source": [
    "#3. Write a Python Program for array rotation?\n",
    "ar=np.random.randint(1,50,(3,4))\n",
    "print(ar)\n",
    "ar.T\n",
    "\n",
    " \n"
   ]
  },
  {
   "cell_type": "code",
   "execution_count": 10,
   "id": "68bea714",
   "metadata": {},
   "outputs": [],
   "source": [
    "# 4.Write a Python Program to Split the array and add the first part to the end?\n",
    "def splitArray(a, n, k): \n",
    "    for i in range(0, k): \n",
    "        x = a[0]\n",
    "        for j in range(0, n-1):\n",
    "            a[j] = a[j + 1]\n",
    "          \n",
    "        a[n-1] = x"
   ]
  },
  {
   "cell_type": "code",
   "execution_count": 15,
   "id": "7d4e0d7d",
   "metadata": {},
   "outputs": [
    {
     "name": "stdout",
     "output_type": "stream",
     "text": [
      "4 5 22 3 2 12 2 32 "
     ]
    }
   ],
   "source": [
    "a=[2,32,4,5,22,3,2,12]\n",
    "n=len(a)\n",
    "k=2\n",
    "splitArray(a,n,k)\n",
    "\n",
    "for i in range(0,n):\n",
    "    print(a[i],end=\" \")"
   ]
  },
  {
   "cell_type": "code",
   "execution_count": 16,
   "id": "3048ebe4",
   "metadata": {},
   "outputs": [],
   "source": [
    "#5. Write a Python Program to check if given array is Monotonic?\n",
    "\n",
    "def check_Monotonic(arr):\n",
    "  \n",
    "    return (all(arr[i] <= arr[i + 1] for i in range(len(arr) - 1)) or\n",
    "            all(arr[i] >= arr[i + 1] for i in range(len(arr) - 1)))"
   ]
  },
  {
   "cell_type": "code",
   "execution_count": 18,
   "id": "0bf99510",
   "metadata": {},
   "outputs": [
    {
     "data": {
      "text/plain": [
       "True"
      ]
     },
     "execution_count": 18,
     "metadata": {},
     "output_type": "execute_result"
    }
   ],
   "source": [
    "arr=[6,7,8,9]\n",
    "check_Monotonic(arr)"
   ]
  },
  {
   "cell_type": "code",
   "execution_count": null,
   "id": "48060510",
   "metadata": {},
   "outputs": [],
   "source": []
  }
 ],
 "metadata": {
  "kernelspec": {
   "display_name": "Python 3 (ipykernel)",
   "language": "python",
   "name": "python3"
  },
  "language_info": {
   "codemirror_mode": {
    "name": "ipython",
    "version": 3
   },
   "file_extension": ".py",
   "mimetype": "text/x-python",
   "name": "python",
   "nbconvert_exporter": "python",
   "pygments_lexer": "ipython3",
   "version": "3.9.7"
  }
 },
 "nbformat": 4,
 "nbformat_minor": 5
}
