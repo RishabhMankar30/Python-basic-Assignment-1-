{
 "cells": [
  {
   "cell_type": "markdown",
   "id": "4996dacb",
   "metadata": {},
   "source": [
    "1. Make a class called Thing with no contents and print it. Then, create an object called example\n",
    "from this class and also print it. Are the printed values the same or different?\n"
   ]
  },
  {
   "cell_type": "code",
   "execution_count": 6,
   "id": "ca527007",
   "metadata": {},
   "outputs": [
    {
     "name": "stdout",
     "output_type": "stream",
     "text": [
      "<__main__.Things object at 0x0000022F6DA380A0>\n"
     ]
    }
   ],
   "source": [
    "#Solution:\n",
    "\n",
    "class Things:\n",
    "    pass\n",
    "\n",
    "print(Things())\n",
    "   \n",
    "\n",
    "    "
   ]
  },
  {
   "cell_type": "code",
   "execution_count": 7,
   "id": "f70ba37c",
   "metadata": {},
   "outputs": [
    {
     "name": "stdout",
     "output_type": "stream",
     "text": [
      "<__main__.Things object at 0x0000022F6DA38250>\n"
     ]
    }
   ],
   "source": [
    "class Things:\n",
    "    pass\n",
    "\n",
    "example=Things()\n",
    "print(example)\n",
    "    "
   ]
  },
  {
   "cell_type": "markdown",
   "id": "cfefc443",
   "metadata": {},
   "source": [
    "Printed values in both the cases are different."
   ]
  },
  {
   "cell_type": "markdown",
   "id": "6870f103",
   "metadata": {},
   "source": [
    "2. Create a new class called Thing2 and add the value 'abc' to the letters class attribute. Letters\n",
    "should be printed."
   ]
  },
  {
   "cell_type": "code",
   "execution_count": 8,
   "id": "275314aa",
   "metadata": {},
   "outputs": [
    {
     "name": "stdout",
     "output_type": "stream",
     "text": [
      "abc\n"
     ]
    }
   ],
   "source": [
    "#Solution:\n",
    "\n",
    "class Thing2:\n",
    "    letters=\"abc\"\n",
    "    \n",
    "t=Thing2()\n",
    "print(t.letters)"
   ]
  },
  {
   "cell_type": "markdown",
   "id": "a6d502c3",
   "metadata": {},
   "source": [
    "3. Make yet another class called, of course, Thing3. This time, assign the value 'xyz' to an instance\n",
    "(object) attribute called letters. Print letters. Do you need to make an object from the class to do\n",
    "this?\n"
   ]
  },
  {
   "cell_type": "code",
   "execution_count": 9,
   "id": "2ebba32e",
   "metadata": {},
   "outputs": [
    {
     "name": "stdout",
     "output_type": "stream",
     "text": [
      "xyz\n"
     ]
    }
   ],
   "source": [
    "#Solution:\n",
    "\n",
    "class Thing3:\n",
    "    letters=\"xyz\"\n",
    "    \n",
    "print(Thing3.letters)\n"
   ]
  },
  {
   "cell_type": "code",
   "execution_count": 10,
   "id": "f80e0da1",
   "metadata": {},
   "outputs": [
    {
     "name": "stdout",
     "output_type": "stream",
     "text": [
      "xyz\n"
     ]
    }
   ],
   "source": [
    "class Thing3:\n",
    "    letters=\"xyz\"\n",
    "o=Thing3()\n",
    "print(o.letters)"
   ]
  },
  {
   "cell_type": "markdown",
   "id": "7840f727",
   "metadata": {},
   "source": [
    "- To call the variable present inside the class, it is not necessary to creat a object of a class.\n",
    "- we can directly call the varible inside the class, directly by calling the class and that varible \n",
    "- both the examples are shown above.\n"
   ]
  },
  {
   "cell_type": "markdown",
   "id": "a1802b43",
   "metadata": {},
   "source": [
    "4. Create an Element class with the instance attributes name, symbol, and number. Create a class\n",
    "object with the values 'Hydrogen,' 'H,' and 1"
   ]
  },
  {
   "cell_type": "code",
   "execution_count": 20,
   "id": "c04897c2",
   "metadata": {},
   "outputs": [
    {
     "name": "stdout",
     "output_type": "stream",
     "text": [
      "name=Hydrogen, symbol=H, number=1\n"
     ]
    }
   ],
   "source": [
    "#Solution:\n",
    "#NOTE: Class attributes are the variables defined directly in the class that are shared by all objects of the class. \n",
    "\n",
    "class Element:\n",
    "    def __init__(self,name,symbol,number):\n",
    "        self.name=name\n",
    "        self.symbol=symbol\n",
    "        self.number=number\n",
    "    \n",
    "    def __str__(self):\n",
    "        return \"name={}, symbol={}, number={}\".format(self.name,self.symbol,self.number)\n",
    "        \n",
    "    \n",
    "ele=Element(\"Hydrogen\",\"H\",1)\n",
    "\n",
    "print(ele)\n",
    "    \n",
    "\n",
    "    \n",
    "    "
   ]
  },
  {
   "cell_type": "markdown",
   "id": "b3ed2418",
   "metadata": {},
   "source": [
    "5. Make a dictionary with these keys and values: 'name': 'Hydrogen', 'symbol': 'H', 'number': 1. Then,\n",
    "create an object called hydrogen from class Element using this dictionary.\n"
   ]
  },
  {
   "cell_type": "code",
   "execution_count": 30,
   "id": "efe08e90",
   "metadata": {},
   "outputs": [
    {
     "name": "stdout",
     "output_type": "stream",
     "text": [
      "name=name, symbol=symbol, number=number\n"
     ]
    }
   ],
   "source": [
    "#Solution:\n",
    "\n",
    "ele={\"name\":\"Hydrogen\",\"symbol\":\"H\",\"number\":1}\n",
    "\n",
    "#class element is calling from Q4\n",
    "\n",
    "hydrogen=Element(*ele)\n",
    "    \n",
    "\n",
    "print(hydrogen)"
   ]
  },
  {
   "cell_type": "markdown",
   "id": "0de22c5c",
   "metadata": {},
   "source": [
    "6. For the Element class, define a method called dump() that prints the values of the object’s\n",
    "attributes (name, symbol, and number). Create the hydrogen object from this new definition and\n",
    "use dump() to print its attributes."
   ]
  },
  {
   "cell_type": "code",
   "execution_count": 33,
   "id": "5edc1057",
   "metadata": {},
   "outputs": [
    {
     "data": {
      "text/plain": [
       "('Hydrogen', 'H', 1)"
      ]
     },
     "execution_count": 33,
     "metadata": {},
     "output_type": "execute_result"
    }
   ],
   "source": [
    "#Solution:\n",
    "\n",
    "class Element:\n",
    "    def __init__(self,name,symbol,number):\n",
    "        self.name=name\n",
    "        self.symbol=symbol\n",
    "        self.number=number\n",
    "        \n",
    "    def dump(self):\n",
    "        return self.name,self.symbol,self.number\n",
    "    \n",
    "hydrogen=Element(\"Hydrogen\",\"H\",1)\n",
    "hydrogen.dump()\n",
    "       \n",
    "    "
   ]
  },
  {
   "cell_type": "markdown",
   "id": "de1d932e",
   "metadata": {},
   "source": [
    "7. Call print(hydrogen). In the definition of Element, change the name of method dump to __str__,\n",
    "create a new hydrogen object, and call print(hydrogen) again."
   ]
  },
  {
   "cell_type": "code",
   "execution_count": 42,
   "id": "286fe261",
   "metadata": {},
   "outputs": [
    {
     "name": "stdout",
     "output_type": "stream",
     "text": [
      "name=Hydrogen,symbol=H,number=1\n"
     ]
    }
   ],
   "source": [
    "#solution:\n",
    "\n",
    "class Element:\n",
    "    def __init__(self,name,symbol,number):\n",
    "        self.name=name\n",
    "        self.symbol=symbol\n",
    "        self.number=number\n",
    "    \n",
    "    \n",
    "    def __str__(self):\n",
    "        return \"name={},symbol={},number={}\".format(self.name,self.symbol,self.number)\n",
    "\n",
    "    \n",
    "hydrogen=Element(\"Hydrogen\",\"H\",1)\n",
    "print(hydrogen)"
   ]
  },
  {
   "cell_type": "markdown",
   "id": "acef392c",
   "metadata": {},
   "source": [
    "8. Modify Element to make the attributes name, symbol, and number private. Define a getter\n",
    "property for each to return its value."
   ]
  },
  {
   "cell_type": "code",
   "execution_count": 52,
   "id": "f5349c90",
   "metadata": {},
   "outputs": [
    {
     "name": "stdout",
     "output_type": "stream",
     "text": [
      "Hydrogen\n",
      "H\n",
      "1\n"
     ]
    }
   ],
   "source": [
    "class Element:\n",
    "    def __init__(self,name,symbol,number):\n",
    "        self.__name=name\n",
    "        self.__symbol=symbol\n",
    "        self.__number=number\n",
    "        \n",
    "    def name(self):\n",
    "        return self.__name\n",
    "    def symbol(self):\n",
    "        return self.__symbol\n",
    "    def number(self):\n",
    "        return self.__number\n",
    "        \n",
    "h=Element(\"Hydrogen\",\"H\",1)\n",
    "\n",
    "print(h.name())\n",
    "print(h.symbol())\n",
    "print(h.number())"
   ]
  },
  {
   "cell_type": "markdown",
   "id": "a0714000",
   "metadata": {},
   "source": [
    "9. Define three classes: Bear, Rabbit, and Octothorpe. For each, define only one method: eats(). This\n",
    "should return 'berries' (Bear), 'clover' (Rabbit), or 'campers' (Octothorpe). Create one object from\n",
    "each and print what it eats.\n"
   ]
  },
  {
   "cell_type": "code",
   "execution_count": 62,
   "id": "7ca92247",
   "metadata": {},
   "outputs": [
    {
     "name": "stdout",
     "output_type": "stream",
     "text": [
      "berries\n",
      "clover\n",
      "campers\n"
     ]
    }
   ],
   "source": [
    "#Solution:\n",
    "\n",
    "class Bear():\n",
    "    def eats(self):\n",
    "        return 'berries'\n",
    "\n",
    "class Rabbit():\n",
    "    def eats(self):\n",
    "        return 'clover'\n",
    "    \n",
    "class Octothorpe():\n",
    "    def eats(self):\n",
    "        return 'campers'\n",
    "\n",
    "bear = Bear()\n",
    "print(bear.eats())\n",
    "rabbit = Rabbit()\n",
    "print(rabbit.eats())\n",
    "octothorpe = Octothorpe()\n",
    "print(octothorpe.eats())\n",
    " \n",
    "    "
   ]
  },
  {
   "cell_type": "markdown",
   "id": "7e1d0f39",
   "metadata": {},
   "source": [
    "10. Define these classes: Laser, Claw, and SmartPhone. Each has only one method: does(). This\n",
    "returns 'disintegrate' (Laser), 'crush' (Claw), or 'ring' (SmartPhone). Then, define the class Robot that\n",
    "has one instance (object) of each of these. Define a does() method for the Robot that prints what its\n",
    "component objects do."
   ]
  },
  {
   "cell_type": "code",
   "execution_count": 67,
   "id": "642f9b82",
   "metadata": {},
   "outputs": [
    {
     "name": "stdout",
     "output_type": "stream",
     "text": [
      "disintegrate crush ring\n"
     ]
    }
   ],
   "source": [
    "class Laser():\n",
    "    def does(self):\n",
    "        return 'disintegrate'\n",
    "    \n",
    "class Claw():\n",
    "    def does(self):\n",
    "        return 'crush'\n",
    "    \n",
    "class SmartPhone():\n",
    "    def does(self):\n",
    "        return 'ring'\n",
    "    \n",
    "class Robot():\n",
    "    def __init__(self, laser, claw, smartphone):\n",
    "        self.laser = laser\n",
    "        self.claw = claw\n",
    "        self.smartphone = smartphone\n",
    "        \n",
    "    def does(self):\n",
    "        print(self.laser.does(), self.claw.does(), self.smartphone.does())\n",
    "        \n",
    "laser = Laser()\n",
    "claw = Claw()\n",
    "smartphone = SmartPhone()\n",
    "robot = Robot(laser, claw, smartphone)\n",
    "robot.does()"
   ]
  },
  {
   "cell_type": "code",
   "execution_count": null,
   "id": "85d3dc0e",
   "metadata": {},
   "outputs": [],
   "source": []
  }
 ],
 "metadata": {
  "kernelspec": {
   "display_name": "Python 3 (ipykernel)",
   "language": "python",
   "name": "python3"
  },
  "language_info": {
   "codemirror_mode": {
    "name": "ipython",
    "version": 3
   },
   "file_extension": ".py",
   "mimetype": "text/x-python",
   "name": "python",
   "nbconvert_exporter": "python",
   "pygments_lexer": "ipython3",
   "version": "3.9.7"
  }
 },
 "nbformat": 4,
 "nbformat_minor": 5
}
