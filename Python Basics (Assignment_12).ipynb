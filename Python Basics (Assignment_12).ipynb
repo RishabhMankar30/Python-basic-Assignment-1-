{
 "cells": [
  {
   "cell_type": "markdown",
   "id": "4cd1bbc8",
   "metadata": {},
   "source": [
    "Q1. In what modes should the PdfFileReader() and PdfFileWriter() File objects will be opened? \n"
   ]
  },
  {
   "cell_type": "markdown",
   "id": "434ca047",
   "metadata": {},
   "source": [
    "Solution:\n",
    "    These file will be open in binary mode, read binary (rb) for PdfFileReader() and write binary (wb) PdfFileWriter()\n",
    "    \n",
    "    But for this we need to install python pdf packge"
   ]
  },
  {
   "cell_type": "code",
   "execution_count": 3,
   "id": "dd410db3",
   "metadata": {},
   "outputs": [
    {
     "name": "stdout",
     "output_type": "stream",
     "text": [
      "Requirement already satisfied: PyPDF2 in c:\\programdata\\anaconda3\\lib\\site-packages (2.10.2)\n",
      "Requirement already satisfied: typing-extensions in c:\\programdata\\anaconda3\\lib\\site-packages (from PyPDF2) (3.10.0.2)\n"
     ]
    }
   ],
   "source": [
    "!pip install PyPDF2"
   ]
  },
  {
   "cell_type": "markdown",
   "id": "2f03ac77",
   "metadata": {},
   "source": [
    "Q2. From a PdfFileReader object, how do you get a Page object for page 5? "
   ]
  },
  {
   "cell_type": "markdown",
   "id": "09cc476b",
   "metadata": {},
   "source": [
    "Solution:\n",
    "    By calling getPage(4) will return a Page object for page 5 bacause page 0 is the first page."
   ]
  },
  {
   "cell_type": "markdown",
   "id": "bab2328c",
   "metadata": {},
   "source": [
    "Q3. What PdfFileReader variable stores the number of pages in the PDF document?"
   ]
  },
  {
   "cell_type": "code",
   "execution_count": 8,
   "id": "1285af23",
   "metadata": {},
   "outputs": [
    {
     "data": {
      "text/plain": [
       "1"
      ]
     },
     "execution_count": 8,
     "metadata": {},
     "output_type": "execute_result"
    }
   ],
   "source": [
    "import PyPDF2 as pdf\n",
    "pdfFileObj = open(r\"C:\\Users\\Dell\\Downloads\\sample-pdf-file.pdf\",'rb')\n",
    "pdfReader = pdf.PdfFileReader(pdfFileObj)\n",
    "pdfReader.numPages"
   ]
  },
  {
   "cell_type": "markdown",
   "id": "2ad7a6af",
   "metadata": {},
   "source": [
    "Q4. If a PdfFileReader object’s PDF is encrypted with the password swordfish, what must you do\n",
    "before you can obtain Page objects from it?"
   ]
  },
  {
   "cell_type": "markdown",
   "id": "c9cbf7fa",
   "metadata": {},
   "source": [
    "Solution:\n",
    "    \n",
    "    We must first decrypt that pdf file by calling decrypt('swordfish')"
   ]
  },
  {
   "cell_type": "markdown",
   "id": "5974ae71",
   "metadata": {},
   "source": [
    "Q5. What methods do you use to rotate a page?"
   ]
  },
  {
   "cell_type": "markdown",
   "id": "e91a780d",
   "metadata": {},
   "source": [
    "Solution:\n",
    "    \n",
    "pageObj.rotateClockwise(180)\n",
    "\n",
    "The 2 methods are:\n",
    "1) rotateClockwise() and \n",
    "2)rotateCounterClockwise() \n",
    "The degrees to rotate is passed as an integer argument"
   ]
  },
  {
   "cell_type": "markdown",
   "id": "f7c67ac6",
   "metadata": {},
   "source": [
    "Q6. What is the difference between a Run object and a Paragraph object?"
   ]
  },
  {
   "cell_type": "markdown",
   "id": "69733469",
   "metadata": {},
   "source": [
    "Solution:\n",
    "    \n",
    "-Paragraph Object : A document contains multiple paragraphs. A paragraph begins on a new line and contains multiple runs. The Document object contains a list of Paragraph objects for the paragraphs in the document. (A new paragraph begins whenever the user presses ENTER or RETURN while typing in a Word document.)\n",
    "\n",
    "-Run Objects : Runs are contiguous groups of characters within a paragraph with the same style"
   ]
  },
  {
   "cell_type": "markdown",
   "id": "66a9e9a5",
   "metadata": {},
   "source": [
    "Q7. How do you obtain a list of Paragraph objects for a Document object that’s stored in a variable\n",
    "named doc?"
   ]
  },
  {
   "cell_type": "markdown",
   "id": "efae8a7b",
   "metadata": {},
   "source": [
    "#!pip install python-docx\n",
    "\n",
    "import docx\n",
    "\n",
    "doc = docx.Document('abc.docx')\n",
    "\n",
    "doc.paragraphs\n",
    "\n",
    "#By using doc.paragraphs"
   ]
  },
  {
   "cell_type": "markdown",
   "id": "c1a11254",
   "metadata": {},
   "source": [
    "Q8. What type of object has bold, underline, italic, strike, and outline variables?\n"
   ]
  },
  {
   "cell_type": "markdown",
   "id": "3f8208f2",
   "metadata": {},
   "source": [
    "Solution:\n",
    "    \n",
    "   The Run object has bold, underline,italic,strike and outline variables."
   ]
  },
  {
   "cell_type": "markdown",
   "id": "848e4ce5",
   "metadata": {},
   "source": [
    "Q9. What is the difference between False, True, and None for the bold variable?\n"
   ]
  },
  {
   "cell_type": "markdown",
   "id": "36915d3b",
   "metadata": {},
   "source": [
    "Solution:\n",
    "\n",
    "Runs can be further styled using text attributes. Each attribute can be set to one of three values:\n",
    "True (the attribute is always enabled, no matter what other styles are applied to the run),\n",
    "False (the attribute is always disabled),\n",
    "None (defaults to whatever the run’s style is set to)\n",
    "\n",
    "True always makes the Run object bolded and False makes it always not bolded, no matter what the style’s bold setting is. None will make the Run object just use the style’s bold setting"
   ]
  },
  {
   "cell_type": "markdown",
   "id": "eff81d51",
   "metadata": {},
   "source": [
    "Q10. How do you create a Document object for a new Word document?"
   ]
  },
  {
   "cell_type": "markdown",
   "id": "0287b8e7",
   "metadata": {},
   "source": [
    "Solution:\n",
    "\n",
    "It can be created by using the method:\n",
    "    docx.Document() "
   ]
  },
  {
   "cell_type": "markdown",
   "id": "5c0ea9e3",
   "metadata": {},
   "source": [
    "Q11. How do you add a paragraph with the text 'Hello, there!' to a Document object stored in a\n",
    "variable named doc?"
   ]
  },
  {
   "cell_type": "markdown",
   "id": "1c68b7ab",
   "metadata": {},
   "source": [
    "Solution:\n",
    "    \n",
    "import docx\n",
    "\n",
    "doc = docx.Document()\n",
    "\n",
    "doc.add_paragraph('Well come to ineuron')\n",
    "\n",
    "doc.save('ineuron.docx')"
   ]
  },
  {
   "cell_type": "markdown",
   "id": "71e82080",
   "metadata": {},
   "source": [
    "Q12. What integers represent the levels of headings available in Word documents"
   ]
  },
  {
   "cell_type": "markdown",
   "id": "2fc75b78",
   "metadata": {},
   "source": [
    "Solution:\n",
    "    \n",
    " - integer from 0 to 4\n",
    " \n",
    "- The arguments to add_heading() are a string of the heading text and an integer from 0 to 4. The integer 0 makes the heading the Title style, which is used for the top of the document. Integers 1 to 4 are for various heading levels, with 1 being the main heading and 4 the lowest subheading"
   ]
  },
  {
   "cell_type": "code",
   "execution_count": null,
   "id": "39f58142",
   "metadata": {},
   "outputs": [],
   "source": []
  }
 ],
 "metadata": {
  "kernelspec": {
   "display_name": "Python 3 (ipykernel)",
   "language": "python",
   "name": "python3"
  },
  "language_info": {
   "codemirror_mode": {
    "name": "ipython",
    "version": 3
   },
   "file_extension": ".py",
   "mimetype": "text/x-python",
   "name": "python",
   "nbconvert_exporter": "python",
   "pygments_lexer": "ipython3",
   "version": "3.9.7"
  }
 },
 "nbformat": 4,
 "nbformat_minor": 5
}
