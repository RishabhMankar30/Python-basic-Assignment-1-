{
 "cells": [
  {
   "cell_type": "markdown",
   "id": "2f45d902",
   "metadata": {},
   "source": [
    "# 1. What is the name of the feature responsible for generating Regex objects?"
   ]
  },
  {
   "cell_type": "markdown",
   "id": "9116b824",
   "metadata": {},
   "source": [
    "Solution: re.compile() is responsible for generation regex objects."
   ]
  },
  {
   "cell_type": "markdown",
   "id": "0d112ed6",
   "metadata": {},
   "source": [
    "# 2. Why do raw strings often appear in Regex objects?"
   ]
  },
  {
   "cell_type": "markdown",
   "id": "4a1f1489",
   "metadata": {},
   "source": [
    "Solution:Raw strings are used so that backslashes do not have to be escaped."
   ]
  },
  {
   "cell_type": "markdown",
   "id": "59b2a64c",
   "metadata": {},
   "source": [
    "# 3. What is the return value of the search() method?\n"
   ]
  },
  {
   "cell_type": "markdown",
   "id": "8c738433",
   "metadata": {},
   "source": [
    "Solution:The search() method returns Match objects."
   ]
  },
  {
   "cell_type": "markdown",
   "id": "3b844338",
   "metadata": {},
   "source": [
    "# 4. From a Match item, how do you get the actual strings that match the pattern?"
   ]
  },
  {
   "cell_type": "markdown",
   "id": "18fa5dee",
   "metadata": {},
   "source": [
    "Solution: The group() method returns strings of the matched text."
   ]
  },
  {
   "cell_type": "markdown",
   "id": "d66f489b",
   "metadata": {},
   "source": [
    "# 5. In the regex which created from the r'(\\d\\d\\d)-(\\d\\d\\d-\\d\\d\\d\\d)', what does group zero cover?Group 2? Group 1?"
   ]
  },
  {
   "cell_type": "markdown",
   "id": "56f21c47",
   "metadata": {},
   "source": [
    "Solution: \n",
    "- Group 0 is gives the complete match we are searching for, \n",
    "- group 1 gives the output based on the first set of parentheses, \n",
    "- and group 2 gives the output based on the second set of parentheses."
   ]
  },
  {
   "cell_type": "markdown",
   "id": "4be245fa",
   "metadata": {},
   "source": [
    "# 6. In standard expression syntax, parentheses and intervals have distinct meanings. How can you tell a regex that you want it to fit real parentheses and periods?\n"
   ]
  },
  {
   "cell_type": "markdown",
   "id": "96fb45de",
   "metadata": {},
   "source": [
    "Solution: In order to tell the regex to search for real parentheses and periods we will need to add    \n",
    "backslash before them \\\\. and \\\\( )"
   ]
  },
  {
   "cell_type": "markdown",
   "id": "daf00bc9",
   "metadata": {},
   "source": [
    "# 7. The findall() method returns a string list or a list of string tuples. What causes it to return one of the two options?"
   ]
  },
  {
   "cell_type": "markdown",
   "id": "9cefbbec",
   "metadata": {},
   "source": [
    "Solution: \n",
    "- if the regex query has a no groups, if it consist simple query- it will return a list of the string we search for.\n",
    "\n",
    "- if regex query has a queries in a group format, it will return a list of string tuples."
   ]
  },
  {
   "cell_type": "markdown",
   "id": "2fc56a73",
   "metadata": {},
   "source": [
    "# 8. In standard expressions, what does the | character mean?"
   ]
  },
  {
   "cell_type": "markdown",
   "id": "5d96aee3",
   "metadata": {},
   "source": [
    "Solution: It represents \"or\" operator"
   ]
  },
  {
   "cell_type": "markdown",
   "id": "2cf2ae13",
   "metadata": {},
   "source": [
    "# 9. In regular expressions, what does the character ? stand for?\n"
   ]
  },
  {
   "cell_type": "markdown",
   "id": "c2add07f",
   "metadata": {},
   "source": [
    "Solution: ? mean it matches either zero or one in a query"
   ]
  },
  {
   "cell_type": "markdown",
   "id": "22eeaf12",
   "metadata": {},
   "source": [
    "# 10.In regular expressions, what is the difference between the + and * characters?"
   ]
  },
  {
   "cell_type": "markdown",
   "id": "fa7ad55c",
   "metadata": {},
   "source": [
    "Solution: \n",
    "  1) + matches one or more\n",
    "   2) * matches zero or more"
   ]
  },
  {
   "cell_type": "markdown",
   "id": "e25146c6",
   "metadata": {},
   "source": [
    "# 11. What is the difference between {4} and {4,5} in regular expression?"
   ]
  },
  {
   "cell_type": "markdown",
   "id": "d7f97bb6",
   "metadata": {},
   "source": [
    "Solution: \n",
    "    \n",
    "    {4} matches exactly 4 instance of preceding query\n",
    "    {4,5} matches between 4 to 5  instance of preceding query"
   ]
  },
  {
   "cell_type": "markdown",
   "id": "1965df72",
   "metadata": {},
   "source": [
    "# 12. What do you mean by the \\d, \\w, and \\s shorthand character classes signify in regular expressions?"
   ]
  },
  {
   "cell_type": "markdown",
   "id": "0632e254",
   "metadata": {},
   "source": [
    "Solution: \n",
    "The \\\\d, \\\\w, and \\\\s shorthand character classes match a single digit,  match a digit 0-9 and char capital or small [0-9a-zA-Z], and match a one white space character, respectively."
   ]
  },
  {
   "cell_type": "markdown",
   "id": "4133ae48",
   "metadata": {},
   "source": [
    "# 13. What do means by \\D, \\W, and \\S shorthand character classes signify in regular expressions?"
   ]
  },
  {
   "cell_type": "markdown",
   "id": "c12fadaa",
   "metadata": {},
   "source": [
    "Solution: \n",
    "\n",
    "\\\\D matches non digit\n",
    "\n",
    "\\\\W matches one word character only\n",
    "\n",
    "\\\\S matches non white spaces\n",
    "\n",
    "    "
   ]
  },
  {
   "cell_type": "markdown",
   "id": "52ff3a72",
   "metadata": {},
   "source": [
    "# 14. What is the difference between .*? and .*?\n"
   ]
  },
  {
   "cell_type": "markdown",
   "id": "28fa78a1",
   "metadata": {},
   "source": [
    "Solution: \n",
    "    \n",
    "1) * matches zero or more of a particular pattern\n",
    "\n",
    "2) * ?  matches  zero or 1 occurance of the pattern"
   ]
  },
  {
   "cell_type": "markdown",
   "id": "92d9cec7",
   "metadata": {},
   "source": [
    "# 15. What is the syntax for matching both numbers and lowercase letters with a character class?\n"
   ]
  },
  {
   "cell_type": "markdown",
   "id": "c592107c",
   "metadata": {},
   "source": [
    "Solution:\n",
    "    \n",
    "[0-9a-z] or [a-z0-9]"
   ]
  },
  {
   "cell_type": "markdown",
   "id": "b1ad74d5",
   "metadata": {},
   "source": [
    "# 16. What is the procedure for making a normal expression in regax case insensitive?"
   ]
  },
  {
   "cell_type": "markdown",
   "id": "b76355e0",
   "metadata": {},
   "source": [
    "Solution:\n",
    "Passing  re.IGNORECASE as the second argument to re.compile() will make the matching case insensitive."
   ]
  },
  {
   "cell_type": "markdown",
   "id": "dbd997f8",
   "metadata": {},
   "source": [
    "# 17. What does the . character normally match? What does it match if re.DOTALL is passed as 2nd argument in re.compile()?"
   ]
  },
  {
   "cell_type": "markdown",
   "id": "170e7d9e",
   "metadata": {},
   "source": [
    "Solution: The . character matches any character except the newline character. If re.DOTALL is passed as the second argument to re.compile(), then the dot .  will also match newline characters."
   ]
  },
  {
   "cell_type": "markdown",
   "id": "006351f8",
   "metadata": {},
   "source": [
    "# 18. If numReg = re.compile(r'\\d+'), what will numRegex.sub('X', '11 drummers, 10 pipers, five rings, 4 hen') return?"
   ]
  },
  {
   "cell_type": "markdown",
   "id": "3c83aa35",
   "metadata": {},
   "source": [
    "Solution: \n",
    " \n",
    "X drummers, X pipers, five rings, X hens\n"
   ]
  },
  {
   "cell_type": "markdown",
   "id": "380cf227",
   "metadata": {},
   "source": [
    "# 19. What does passing re.VERBOSE as the 2nd argument to re.compile() allow to do?"
   ]
  },
  {
   "cell_type": "markdown",
   "id": "3ec56350",
   "metadata": {},
   "source": [
    "Solution: \n",
    "       \n",
    "       The re.VERBOSE argument allows you to add whitespace and comments to the string passed to        re.compile()."
   ]
  },
  {
   "cell_type": "markdown",
   "id": "4827db2c",
   "metadata": {},
   "source": [
    "# 20. How would you write a regex that match a number with comma for every three digits? It must\n",
    "match the given following:\n",
    "'42'\n",
    "'1,234'\n",
    "'6,368,745'\n",
    "but not the following:\n",
    "'12,34,567' (which has only two digits between the commas)\n",
    "'1234' (which lacks commas)\n"
   ]
  },
  {
   "cell_type": "markdown",
   "id": "2b04df8b",
   "metadata": {},
   "source": [
    "Solution:\n",
    "\n",
    "    re.compile(r'^\\d{1,3}(,\\d{3})*$')\n"
   ]
  },
  {
   "cell_type": "markdown",
   "id": "01c01b92",
   "metadata": {},
   "source": [
    "# 21. How would you write a regex that matches the full name of someone whose last name is\n",
    "Watanabe? You can assume that the first name that comes before it will always be one word that\n",
    "begins with a capital letter. The regex must match the following:\n",
    "'Haruto Watanabe'\n",
    "'Alice Watanabe'\n",
    "'RoboCop Watanabe'\n",
    "but not the following:\n",
    "'haruto Watanabe' (where the first name is not capitalized)\n",
    "'Mr. Watanabe' (where the preceding word has a nonletter character)\n",
    "'Watanabe' (which has no first name)\n",
    "'Haruto watanabe' (where Watanabe is not capitalized)"
   ]
  },
  {
   "cell_type": "markdown",
   "id": "6584d916",
   "metadata": {},
   "source": [
    "Solution: \n",
    "\n",
    "      re.compile(r'[A-Z][a-z]*\\sWatanabe')\n"
   ]
  },
  {
   "cell_type": "markdown",
   "id": "dec70647",
   "metadata": {},
   "source": [
    "# 22. How would you write a regex that matches a sentence where the first word is either Alice, Bob,\n",
    "or Carol; the second word is either eats, pets, or throws; the third word is apples, cats, or baseballs;\n",
    "and the sentence ends with a period? This regex should be case-insensitive. It must match the\n",
    "following:\n",
    "'Alice eats apples.'\n",
    "'Bob pets cats.'\n",
    "'Carol throws baseballs.'\n",
    "'Alice throws Apples.'\n",
    "'BOB EATS CATS.'\n",
    "but not the following:\n",
    "'RoboCop eats apples.'\n",
    "'ALICE THROWS FOOTBALLS.'\n",
    "'Carol eats 7 cats."
   ]
  },
  {
   "cell_type": "markdown",
   "id": "a5518e81",
   "metadata": {},
   "source": [
    "Solution:\n",
    "    \n",
    "    re.compile(r'(Alice|Bob|Carol)\\s(eats|pets|throws)\\s(apples|cats|baseballs)\\.', re.IGNORECASE)"
   ]
  },
  {
   "cell_type": "code",
   "execution_count": null,
   "id": "58023d6d",
   "metadata": {},
   "outputs": [],
   "source": []
  }
 ],
 "metadata": {
  "kernelspec": {
   "display_name": "Python 3 (ipykernel)",
   "language": "python",
   "name": "python3"
  },
  "language_info": {
   "codemirror_mode": {
    "name": "ipython",
    "version": 3
   },
   "file_extension": ".py",
   "mimetype": "text/x-python",
   "name": "python",
   "nbconvert_exporter": "python",
   "pygments_lexer": "ipython3",
   "version": "3.9.7"
  }
 },
 "nbformat": 4,
 "nbformat_minor": 5
}
