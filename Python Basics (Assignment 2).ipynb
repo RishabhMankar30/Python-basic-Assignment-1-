{
 "cells": [
  {
   "cell_type": "markdown",
   "id": "12ded52f",
   "metadata": {},
   "source": [
    "Q1.What are the two values of the Boolean data type? How do you write them?\n",
    "\n",
    "Solution Q1: True and False are the 2 values of the boolen data type."
   ]
  },
  {
   "cell_type": "code",
   "execution_count": 6,
   "id": "f016544d",
   "metadata": {},
   "outputs": [
    {
     "name": "stdout",
     "output_type": "stream",
     "text": [
      "False\n"
     ]
    }
   ],
   "source": [
    "# example for Q1\n",
    "print(3>4)"
   ]
  },
  {
   "cell_type": "code",
   "execution_count": 7,
   "id": "d8eb382c",
   "metadata": {},
   "outputs": [
    {
     "name": "stdout",
     "output_type": "stream",
     "text": [
      "True\n"
     ]
    }
   ],
   "source": [
    "#example for Q1\n",
    "print(3<4)"
   ]
  },
  {
   "cell_type": "markdown",
   "id": "f539a477",
   "metadata": {},
   "source": [
    "2. What are the three different types of Boolean operators?\n",
    "\n",
    "Solution Q2: and, or, not are the 3 boolen operators.\n",
    " \n",
    " "
   ]
  },
  {
   "cell_type": "markdown",
   "id": "90c9316b",
   "metadata": {},
   "source": [
    " Q3. Make a list of each Boolean operator's truth tables (i.e. every possible combination of Boolean\n",
    "    values for the operator and what it evaluate ).\n",
    " \n",
    "    Solution Q3: \n",
    "    \n",
    "    1)and operator: This operator taken 2 input and gives True if both the operators                                  are True otherwise False\n",
    "                  Truth Table: (A,B) are the inputs.\n",
    "                           A     B       Output(A and B)\n",
    "                           T     T         T\n",
    "                           T     F         F\n",
    "                           F     T         F\n",
    "                           F     F         F\n",
    "    2) or operator: This operator is also take 2 inputs and gives false only when                                     both the inputs are False.  \n",
    "                   Truth Table: (A,B) are the inputs.\n",
    "                           A     B       Output(A or B)\n",
    "                           T     T         T\n",
    "                           T     F         T\n",
    "                           F     T         T\n",
    "                           F     F         F  \n",
    "    3) not operator: This is the only operator which takes only single input and return exactly                        opposite of that input. i.e True for False and False for True.\n",
    "                    Truth Table: A is the inputs.\n",
    "                           A      Output(not A)\n",
    "                           T         F\n",
    "                           F         T\n",
    "                                    \n",
    "                                      \n"
   ]
  },
  {
   "cell_type": "markdown",
   "id": "9175fc50",
   "metadata": {},
   "source": [
    "    Q4. What are the values of the following expressions?\n",
    "\n",
    "    Solution Q4:\n",
    "    *(5 > 4) and (3 == 5) = False\n",
    "    *not (5 > 4) = False\n",
    "    *(5 > 4) or (3 == 5) = True\n",
    "    *not ((5 > 4) or (3 == 5))= False\n",
    "    *(True and True) and (True == False) = False\n",
    "    * (not False) or (not True) = True\n",
    "\n",
    "\n"
   ]
  },
  {
   "cell_type": "markdown",
   "id": "34120bff",
   "metadata": {},
   "source": [
    "    Q5. What are the six comparison operators?\n",
    "    \n",
    "    Solution Q5:\n",
    "     The 6 comparison operators are\n",
    "     1) \"==\" equal to operator: a==b Gives True if value of a is equal to b, otherwise False.\n",
    "     2) \"!=\" not equal to operator: a!=b gives True if value of a is not equal to b,otherwise                                         False.\n",
    "     3) \"<\" less than operator: a<b gives True if value of a is less than b, otherwise False.\n",
    "     4) \">\" greater than operator : a>b gives True if value of a is greater than b,otherwise                                         False.\n",
    "     5)\"<=\" less than equal to: a<=b gives if value of a is less than or equal to b, otherwise                                       False.\n",
    "     6)\">=\" greater than equal to: a>=b gives True is value of a is greater than or equal to b,                                      otherwise False."
   ]
  },
  {
   "cell_type": "markdown",
   "id": "1706140f",
   "metadata": {},
   "source": [
    "    Q6. How do you tell the difference between the equal to and assignment operators?Describe a\n",
    "    condition and when you would use one.\n",
    "    Solution Q6:\n",
    "* euqual to operator denoted by \"==\" and assingment operator is denoted by \"=\".\n",
    "* equal to operator is use to check wheather value to the left hand side of the operator is equal to the value to the Right hand side of operator. Equal to operator is generally use while using condition to check , are these value same or not.\n",
    "*Assignment operator is denoted by \"=\", it is use to assign value to the variable which is left hand side of operator.\n",
    "*Assignment operator is use when we need to provide value of any data type to a variable and later on we need to use this value"
   ]
  },
  {
   "cell_type": "code",
   "execution_count": 9,
   "id": "2ff3b894",
   "metadata": {},
   "outputs": [
    {
     "name": "stdout",
     "output_type": "stream",
     "text": [
      "got the digit 3\n"
     ]
    }
   ],
   "source": [
    "#q6 example for equal to operator\n",
    "for i in range(5):\n",
    "    if i==3:\n",
    "        print(\"got the digit\",i)"
   ]
  },
  {
   "cell_type": "code",
   "execution_count": 11,
   "id": "1c116fba",
   "metadata": {},
   "outputs": [
    {
     "name": "stdout",
     "output_type": "stream",
     "text": [
      "4\n"
     ]
    }
   ],
   "source": [
    "#q6 example for assignment operator\n",
    "a=1\n",
    "b=3\n",
    "c=a+b\n",
    "print(c)"
   ]
  },
  {
   "cell_type": "markdown",
   "id": "5e6de92f",
   "metadata": {},
   "source": [
    "    Q7. Identify the three blocks in this code:\n",
    "    spam = 0\n",
    "    if spam == 10:\n",
    "    print('eggs')\n",
    "    if spam > 5:\n",
    "    print('bacon')\n",
    "    else:\n",
    "    print('ham')\n",
    "    print('spam')\n",
    "    print('spam')\n",
    "    \n",
    "    Solution Q7:\n",
    "     \n",
    "    1st block: if spam == 10:\n",
    "               print('eggs')\n",
    "         \n",
    "     2nd block: if spam > 5:\n",
    "                print('bacon')\n",
    "             \n",
    "     3rd block: else:\n",
    "                print('ham')\n",
    "                print('spam')\n",
    "                print('spam')"
   ]
  },
  {
   "cell_type": "code",
   "execution_count": 31,
   "id": "3ac172d5",
   "metadata": {},
   "outputs": [
    {
     "name": "stdout",
     "output_type": "stream",
     "text": [
      "Hello\n",
      "Howdy\n",
      "Greetings!\n"
     ]
    }
   ],
   "source": [
    "#Q8. Write code that prints Hello if 1 is stored in spam, prints Howdy if 2 is stored in spam, and prints\n",
    "     #Greetings! if anything else is stored in spam.\n",
    "    \n",
    "#Solution:\n",
    "   \n",
    "for spam in range(1,4):\n",
    "    if spam==1:\n",
    "        print(\"Hello\")\n",
    "    elif spam==2:\n",
    "        print(\"Howdy\")\n",
    "    else:\n",
    "        print(\"Greetings!\")\n",
    "\n"
   ]
  },
  {
   "cell_type": "code",
   "execution_count": 35,
   "id": "3693b958",
   "metadata": {},
   "outputs": [
    {
     "name": "stdout",
     "output_type": "stream",
     "text": [
      "hello\n",
      "howdy\n",
      "greetings!\n"
     ]
    }
   ],
   "source": [
    "#Q8. Write code that prints Hello if 1 is stored in spam, prints Howdy if 2 is stored in spam, and prints\n",
    "     #Greetings! if anything else is stored in spam.\n",
    "# solution using while loop.\n",
    "i=1\n",
    "while i<=3:\n",
    "    if i==1:\n",
    "        print(\"hello\")\n",
    "    elif i==2:\n",
    "        print(\"howdy\")\n",
    "    else:\n",
    "        print(\"greetings!\")\n",
    "    i=i+1"
   ]
  },
  {
   "cell_type": "markdown",
   "id": "f4352c1f",
   "metadata": {},
   "source": [
    "    Q9.If your programme is stuck in an endless loop, what keys you’ll press?\n",
    "\n",
    "    Solution: \n",
    "    *If the programme is stuck in an endless loop, then we can press \"I+I\"(press two times I), it      means interrupt the kernel.\n",
    "    *This interupts the programe execution and program stops executing further.\n",
    "    * Kernal is a runtime environment that provide support to programming language to connect           with jupyter notebook."
   ]
  },
  {
   "cell_type": "markdown",
   "id": "b6be28b8",
   "metadata": {},
   "source": [
    "    10. How can you tell the difference between break and continue?\n",
    "    \n",
    "    Solution  Q10:\n",
    "     break: \n",
    "     *Loops are use in python programming language to automate the loop or repeat the task.\n",
    "     *But there may arise the condition when you want to stops the loop, stops iteration, stops         the repetation of the task that time break(loop control statements) comes into picture.\n",
    "     *break statement is used to break the loop (or come out of the loop). once break statement         executed control get out of the loop(i.e. loop will not execute further).\n",
    "     *but programe afer the break statement, \"which is not part of the loop will execute normally.\"\n",
    "     \n",
    "     continue:\n",
    "     *continue is also loop control statement, which is use to control the loop.\n",
    "     *once continue statement is executed, then control get back to loop again for futher               iteration while skipping the next code of the loop after the continue statement.\n",
    "     *In other word, when continue statement in a loop executed, The code in the loop after the         continue statement is get skipped for current iteration and next loop iteration starts            immediately. "
   ]
  },
  {
   "cell_type": "code",
   "execution_count": 3,
   "id": "ce02e9c9",
   "metadata": {},
   "outputs": [
    {
     "name": "stdout",
     "output_type": "stream",
     "text": [
      "0\n",
      "1\n",
      "2\n",
      "3\n",
      "4\n",
      "loop get break at 5\n"
     ]
    }
   ],
   "source": [
    " # Q10 examaple(break):\n",
    "for i in range(10):\n",
    "    if i==5:\n",
    "        break\n",
    "    print(i)   \n",
    "print(\"loop get break at 5\") \n"
   ]
  },
  {
   "cell_type": "code",
   "execution_count": 11,
   "id": "02ced91f",
   "metadata": {},
   "outputs": [
    {
     "name": "stdout",
     "output_type": "stream",
     "text": [
      "0\n",
      "1\n",
      "2\n",
      "3\n",
      "4\n",
      "6\n",
      "7\n",
      "8\n",
      "9\n",
      "here 5 did not get print bcz after if i=5, continue statement executed and print(i) after continue wont executed and control will get transffer to while loop again for further iteration \n"
     ]
    }
   ],
   "source": [
    "#Q10 example (continue)\n",
    "for i in range(10):\n",
    "    if i==5:\n",
    "        continue\n",
    "    print(i)\n",
    "print(\"here 5 did not get print bcz after if i=5, continue statement executed and print(i) after continue wont executed and control will get transffer to while loop again for further iteration \")\n"
   ]
  },
  {
   "cell_type": "markdown",
   "id": "54189d76",
   "metadata": {},
   "source": [
    "    Q11. In a for loop, what is the difference between range(10), range(0, 10), and                        range(0,10,1)?\n",
    "     Solution Q11: All three operations gives same result with for loop.\n",
    "                   all operations give same series of no. \n",
    "                   0,1,2,3,4,5,6,7,8,9\n",
    "      \n",
    "     "
   ]
  },
  {
   "cell_type": "code",
   "execution_count": 18,
   "id": "97892fbf",
   "metadata": {},
   "outputs": [
    {
     "name": "stdout",
     "output_type": "stream",
     "text": [
      "1\n",
      "2\n",
      "3\n",
      "4\n",
      "5\n",
      "6\n",
      "7\n",
      "8\n",
      "9\n",
      "10\n"
     ]
    }
   ],
   "source": [
    " # Q12. Write a short program that prints the numbers 1 to 10 using a for loop. Then write an equivalent\n",
    " # program that prints the numbers 1 to 10 using a while loop.\n",
    "\n",
    "#Soluion Q12 : using for loop.\n",
    "for i in range(1,11):\n",
    "    print(i)\n"
   ]
  },
  {
   "cell_type": "code",
   "execution_count": 17,
   "id": "aa504a49",
   "metadata": {},
   "outputs": [
    {
     "name": "stdout",
     "output_type": "stream",
     "text": [
      "1\n",
      "2\n",
      "3\n",
      "4\n",
      "5\n",
      "6\n",
      "7\n",
      "8\n",
      "9\n",
      "10\n"
     ]
    }
   ],
   "source": [
    "#Soluion Q12 : using while loop.\n",
    "i=1\n",
    "while i<=10:\n",
    "    print(i)\n",
    "    i=i+1"
   ]
  },
  {
   "cell_type": "markdown",
   "id": "4617e7b6",
   "metadata": {},
   "source": [
    "    Q13. If you had a function named bacon() inside a module named spam, how would you call it            after importing spam?\n",
    "    \n",
    "    Solution Q13: \n",
    "     \n",
    "     import spam\n",
    "     spam.bacon()\n",
    "     \n"
   ]
  },
  {
   "cell_type": "code",
   "execution_count": null,
   "id": "6e3c155a",
   "metadata": {},
   "outputs": [],
   "source": []
  }
 ],
 "metadata": {
  "kernelspec": {
   "display_name": "Python 3 (ipykernel)",
   "language": "python",
   "name": "python3"
  },
  "language_info": {
   "codemirror_mode": {
    "name": "ipython",
    "version": 3
   },
   "file_extension": ".py",
   "mimetype": "text/x-python",
   "name": "python",
   "nbconvert_exporter": "python",
   "pygments_lexer": "ipython3",
   "version": "3.9.7"
  }
 },
 "nbformat": 4,
 "nbformat_minor": 5
}
