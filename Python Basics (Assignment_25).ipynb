{
 "cells": [
  {
   "cell_type": "markdown",
   "id": "1a989ff3",
   "metadata": {},
   "source": [
    "# 1) What is the difference between enclosing a list comprehension in square brackets and parentheses?"
   ]
  },
  {
   "cell_type": "markdown",
   "id": "7b7690aa",
   "metadata": {},
   "source": [
    "- List comprehension with square bracket return the result in the form of list\n",
    "- list comprehension with parenthesis return the result in the for of generator"
   ]
  },
  {
   "cell_type": "code",
   "execution_count": 6,
   "id": "24b2acfe",
   "metadata": {},
   "outputs": [
    {
     "name": "stdout",
     "output_type": "stream",
     "text": [
      "[0, 2, 4, 6, 8]\n"
     ]
    }
   ],
   "source": [
    "#eg:list comprehension with square bracket.\n",
    "l=[i for i in range(10) if i%2==0]\n",
    "print(l)"
   ]
  },
  {
   "cell_type": "code",
   "execution_count": 8,
   "id": "348ed52e",
   "metadata": {},
   "outputs": [
    {
     "name": "stdout",
     "output_type": "stream",
     "text": [
      "<generator object <genexpr> at 0x00000248378534A0>\n"
     ]
    }
   ],
   "source": [
    "#eg:list comprehension with Paranthesis.\n",
    "l=(i for i in range(10) if i%2==0)\n",
    "print(l)"
   ]
  },
  {
   "cell_type": "markdown",
   "id": "96d31086",
   "metadata": {},
   "source": [
    "# 2) What is the relationship between generators and iterators?"
   ]
  },
  {
   "cell_type": "markdown",
   "id": "67d36efe",
   "metadata": {},
   "source": [
    "1)Iterators:\n",
    "\n",
    "- An iterator is an object which contains a countable number(n number of values) of values and it is used to iterate over iterable objects like list, tuples, sets, etc.\n",
    "\n",
    "- Iterators iterate over the iterables and gives the result\n",
    "\n",
    "- It is lazy execution, as evaluation of the expression is hold on and item stored in memory untill next item is called.  \n",
    "\n",
    "- It is requires only one memory space to execute and store the data set. Hence there is memory efficient\n",
    "- Iterarors are bit slow in execution as it  take only one memory for complete execution.\n",
    "- Iterators are created using i)inter() and ii) next() function"
   ]
  },
  {
   "cell_type": "markdown",
   "id": "0baceddf",
   "metadata": {},
   "source": [
    "2) Generators:\n",
    "\n",
    "- Generator is the another way of creating iterators.\n",
    "\n",
    "- generators are created using the functions and we use yield keyword instead of return keyword.\n",
    "\n",
    "- Generators are bit faster than iterators because it do not store the whole sequence in a one memory\n",
    "\n",
    "- generator return the result in the generator for, where to print the data we need to apply a loop to iterate over generator.\n",
    "\n",
    "    \n",
    "    "
   ]
  },
  {
   "cell_type": "code",
   "execution_count": 14,
   "id": "81828835",
   "metadata": {},
   "outputs": [
    {
     "name": "stdout",
     "output_type": "stream",
     "text": [
      "0\n",
      "1\n",
      "2\n",
      "3\n",
      "4\n",
      "5\n",
      "6\n",
      "7\n",
      "8\n",
      "9\n",
      "10\n",
      "11\n",
      "12\n",
      "13\n",
      "14\n",
      "15\n",
      "16\n",
      "17\n",
      "18\n",
      "19\n",
      "20\n",
      "21\n",
      "22\n",
      "23\n",
      "24\n",
      "25\n",
      "26\n",
      "27\n",
      "28\n",
      "29\n",
      "30\n",
      "31\n",
      "32\n",
      "33\n",
      "34\n",
      "35\n",
      "36\n",
      "37\n",
      "38\n",
      "39\n",
      "40\n",
      "41\n",
      "42\n",
      "43\n",
      "44\n",
      "45\n",
      "46\n",
      "47\n",
      "48\n",
      "49\n",
      "50\n",
      "51\n",
      "52\n",
      "53\n",
      "54\n",
      "55\n",
      "56\n",
      "57\n",
      "58\n",
      "59\n",
      "60\n",
      "61\n",
      "62\n",
      "63\n",
      "64\n",
      "65\n",
      "66\n",
      "67\n",
      "68\n",
      "69\n",
      "70\n",
      "71\n",
      "72\n",
      "73\n",
      "74\n",
      "75\n",
      "76\n",
      "77\n",
      "78\n",
      "79\n",
      "80\n",
      "81\n",
      "82\n",
      "83\n",
      "84\n",
      "85\n",
      "86\n",
      "87\n",
      "88\n",
      "89\n",
      "90\n",
      "91\n",
      "92\n",
      "93\n",
      "94\n",
      "95\n",
      "96\n",
      "97\n",
      "98\n",
      "99\n"
     ]
    }
   ],
   "source": [
    "#Eg: Iterator\n",
    "l=[]\n",
    "for i in range(100):\n",
    "    print(i)\n",
    "   \n",
    "\n",
    "    \n"
   ]
  },
  {
   "cell_type": "code",
   "execution_count": 15,
   "id": "1fac2ef6",
   "metadata": {},
   "outputs": [
    {
     "data": {
      "text/plain": [
       "<generator object numbers at 0x0000024838D8EE40>"
      ]
     },
     "execution_count": 15,
     "metadata": {},
     "output_type": "execute_result"
    }
   ],
   "source": [
    "def numbers():\n",
    "    for i in range(100):\n",
    "        yield i\n",
    "numbers()"
   ]
  },
  {
   "cell_type": "code",
   "execution_count": 16,
   "id": "afa00d18",
   "metadata": {},
   "outputs": [
    {
     "name": "stdout",
     "output_type": "stream",
     "text": [
      "0\n",
      "1\n",
      "2\n",
      "3\n",
      "4\n",
      "5\n",
      "6\n",
      "7\n",
      "8\n",
      "9\n",
      "10\n",
      "11\n",
      "12\n",
      "13\n",
      "14\n",
      "15\n",
      "16\n",
      "17\n",
      "18\n",
      "19\n",
      "20\n",
      "21\n",
      "22\n",
      "23\n",
      "24\n",
      "25\n",
      "26\n",
      "27\n",
      "28\n",
      "29\n",
      "30\n",
      "31\n",
      "32\n",
      "33\n",
      "34\n",
      "35\n",
      "36\n",
      "37\n",
      "38\n",
      "39\n",
      "40\n",
      "41\n",
      "42\n",
      "43\n",
      "44\n",
      "45\n",
      "46\n",
      "47\n",
      "48\n",
      "49\n",
      "50\n",
      "51\n",
      "52\n",
      "53\n",
      "54\n",
      "55\n",
      "56\n",
      "57\n",
      "58\n",
      "59\n",
      "60\n",
      "61\n",
      "62\n",
      "63\n",
      "64\n",
      "65\n",
      "66\n",
      "67\n",
      "68\n",
      "69\n",
      "70\n",
      "71\n",
      "72\n",
      "73\n",
      "74\n",
      "75\n",
      "76\n",
      "77\n",
      "78\n",
      "79\n",
      "80\n",
      "81\n",
      "82\n",
      "83\n",
      "84\n",
      "85\n",
      "86\n",
      "87\n",
      "88\n",
      "89\n",
      "90\n",
      "91\n",
      "92\n",
      "93\n",
      "94\n",
      "95\n",
      "96\n",
      "97\n",
      "98\n",
      "99\n"
     ]
    }
   ],
   "source": [
    "for j in numbers():\n",
    "    print(j)"
   ]
  },
  {
   "cell_type": "markdown",
   "id": "317d1466",
   "metadata": {},
   "source": [
    "# 3) What are the signs that a function is a generator function?"
   ]
  },
  {
   "cell_type": "markdown",
   "id": "d9b839f6",
   "metadata": {},
   "source": [
    "- First generator are created using function and there will be yield keyword instead of return keyword.\n",
    "- second the output of that function will be generator object."
   ]
  },
  {
   "cell_type": "markdown",
   "id": "b1efc04c",
   "metadata": {},
   "source": [
    "# 4) What is the purpose of a yield statement?"
   ]
  },
  {
   "cell_type": "markdown",
   "id": "16f11d4b",
   "metadata": {},
   "source": [
    "- yield is a replacement for return keyword.\n",
    "- yield keyword is use when we need to produce generator object.\n",
    "- yield is memory efficient because it executed the function and pause at each yeild statement. Thus using memory more efficiently.\n",
    "- yield working: The loop will executed untill program reaches to yield statement, then it pause and again start where it  lay's off before and this continues.\n",
    "- yield gives the generator object, so to use this generator we need to apply loop to that generator object."
   ]
  },
  {
   "cell_type": "markdown",
   "id": "588638e8",
   "metadata": {},
   "source": [
    "# 5) What is the relationship between map calls and list comprehensions? Make a comparison and contrast between the two"
   ]
  },
  {
   "cell_type": "markdown",
   "id": "0a09480f",
   "metadata": {},
   "source": [
    "- list comprehension is the more consize and easy to read as compared to map()\n",
    "\n",
    "- list comprehension return the result in the form of list, where map() function do not return the result in list form but it return rthe result in the map bject form.\n",
    "\n",
    "- List comprehension is faster than map when we need to evaluate expressions that are too long or complicated to express\n",
    "\n",
    "- Map is faster in case of calling an already defined function (as no lambda is required)."
   ]
  },
  {
   "cell_type": "code",
   "execution_count": 17,
   "id": "1e8661bf",
   "metadata": {},
   "outputs": [
    {
     "name": "stdout",
     "output_type": "stream",
     "text": [
      "[0, 2, 4, 6, 8]\n"
     ]
    }
   ],
   "source": [
    "#eg: list comprehension\n",
    "\n",
    "a=[i for i in range(10) if i%2==0]\n",
    "print(a)"
   ]
  },
  {
   "cell_type": "code",
   "execution_count": 18,
   "id": "1c648ad9",
   "metadata": {},
   "outputs": [
    {
     "name": "stdout",
     "output_type": "stream",
     "text": [
      "<map object at 0x000002483904ADC0>\n"
     ]
    }
   ],
   "source": [
    "#eg: map()\n",
    "l=[1,2,3,4,5,6,7,8,9,10]\n",
    "b=map(lambda x:x%2==0,l)\n",
    "print(b)\n",
    "\n"
   ]
  },
  {
   "cell_type": "code",
   "execution_count": null,
   "id": "600175b3",
   "metadata": {},
   "outputs": [],
   "source": []
  }
 ],
 "metadata": {
  "kernelspec": {
   "display_name": "Python 3 (ipykernel)",
   "language": "python",
   "name": "python3"
  },
  "language_info": {
   "codemirror_mode": {
    "name": "ipython",
    "version": 3
   },
   "file_extension": ".py",
   "mimetype": "text/x-python",
   "name": "python",
   "nbconvert_exporter": "python",
   "pygments_lexer": "ipython3",
   "version": "3.9.7"
  }
 },
 "nbformat": 4,
 "nbformat_minor": 5
}
