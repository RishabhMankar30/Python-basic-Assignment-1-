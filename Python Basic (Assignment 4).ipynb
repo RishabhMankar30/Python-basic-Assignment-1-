{
 "cells": [
  {
   "cell_type": "markdown",
   "id": "4ae2b6bc",
   "metadata": {},
   "source": [
    "Q1. What exactly is []?\n",
    "\n",
    "SolutionQ1: These square bracket known as index bracket or List paranthesis. It is use to define the list in the python.\n",
    "\n",
    "-------------------------------------------------------------------------------------------------"
   ]
  },
  {
   "cell_type": "markdown",
   "id": "8694bdfa",
   "metadata": {},
   "source": [
    "Q2. In a list of values stored in a variable called spam, how would you assign the value    'hello'  as the\n",
    "third value? (Assume [2, 4, 6, 8, 10] are in spam.)\n",
    "\n",
    "Solution Q2: "
   ]
  },
  {
   "cell_type": "code",
   "execution_count": 2,
   "id": "4a21d741",
   "metadata": {},
   "outputs": [
    {
     "name": "stdout",
     "output_type": "stream",
     "text": [
      "[2, 4, 'hello', 6, 8, 10]\n"
     ]
    }
   ],
   "source": [
    "spam=[2,4,6,8,10]\n",
    "spam.insert(2,\"hello\")\n",
    "print(spam)\n"
   ]
  },
  {
   "cell_type": "markdown",
   "id": "97e6d683",
   "metadata": {},
   "source": [
    "Let's pretend the spam includes the list ['a', 'b', 'c', 'd'] for the next three queries\n",
    "\n",
    "Q3. What is the value of spam[int(int('3' * 2) / 11)]?\n",
    "\n",
    "Solution Q3: It gives the list value \"d\" at third index."
   ]
  },
  {
   "cell_type": "code",
   "execution_count": 10,
   "id": "408c50f5",
   "metadata": {},
   "outputs": [
    {
     "data": {
      "text/plain": [
       "'d'"
      ]
     },
     "execution_count": 10,
     "metadata": {},
     "output_type": "execute_result"
    }
   ],
   "source": [
    "spam=[\"a\",\"b\",\"c\",\"d\"]\n",
    "spam[int(int(\"3\"*2)/11)]\n",
    "#-------------------------------------------------------------------------------------------------"
   ]
  },
  {
   "cell_type": "markdown",
   "id": "9d3e35a7",
   "metadata": {},
   "source": [
    "Q4. What is the value of spam[-1]?\n",
    "\n",
    "Solution Q4: it will give list value \"d\".\n",
    "\n",
    "-------------------------------------------------------------------------------------------------\n"
   ]
  },
  {
   "cell_type": "markdown",
   "id": "08d51928",
   "metadata": {},
   "source": [
    "Q5. What is the value of spam[:2]?\n",
    "\n",
    "Solution Q5: It will give list values \"a\" & \"b\"\n",
    "\n",
    "-------------------------------------------------------------------------------------------------"
   ]
  },
  {
   "cell_type": "markdown",
   "id": "4647741c",
   "metadata": {},
   "source": [
    "Let's pretend bacon has the list [3.14, 'cat,' 11, 'cat,' True] for the next three questions.\n",
    "\n",
    "Q6. What is the value of bacon.index('cat')?\n",
    "\n",
    "Solution Q6: It return very first index 1 of the given value\"cat\" \n",
    "\n",
    "-------------------------------------------------------------------------------------------------"
   ]
  },
  {
   "cell_type": "markdown",
   "id": "d61982c4",
   "metadata": {},
   "source": [
    "Q7. How does bacon.append(99) change the look of the list value in bacon?\n",
    "\n",
    "Solution Q7: bacon= [3.14, 'cat', 11, 'cat', True, 99]\n",
    "\n",
    "-------------------------------------------------------------------------------------------------"
   ]
  },
  {
   "cell_type": "markdown",
   "id": "ef542209",
   "metadata": {},
   "source": [
    "Q8. How does bacon.remove('cat') change the look of the list in bacon?\n",
    "\n",
    "solution Q8:It remove the very first index of the  value.\n",
    "            \n",
    "            bacon=[3.14, 11, 'cat', True]\n",
    "-------------------------------------------------------------------------------------------------"
   ]
  },
  {
   "cell_type": "markdown",
   "id": "f33e91aa",
   "metadata": {},
   "source": [
    "    Q9. What are the list concatenation and list replication operators?\n",
    "\n",
    "    Solution Q9: \n",
    "    List Concatenation and replication operator:  \n",
    "                                     1) \"+\" operator:\n",
    "                                     eg: l1=[1,2,3] l2=[3,4,5]\n",
    "                                         l1+l2\n",
    "                                    result: [1,2,3,3,4,5]\n",
    "                                    \n",
    "                                    2) \"*\" operator:\n",
    "                                    eg: l1=[1,2,3] l2=[4,5,6]\n",
    "                                         [*l1,*l2]\n",
    "                                  result [1,2,3,4,5,6]\n",
    "-------------------------------------------------------------------------------------------------                                  "
   ]
  },
  {
   "cell_type": "markdown",
   "id": "97c0b7fe",
   "metadata": {},
   "source": [
    "Q10. What is difference between the list methods append() and insert()?\n",
    "\n",
    "Solution Q10:\n",
    "    \n",
    "- append() function takes only one argument(i.e. object) and insert that value at the end of the list.\n",
    "- Whereas insert() function takes 2 argument, 1st is index and 2nd is object.\n",
    "- By using insert() function we can insert a data in a existing list at any index we want. But in the case of append() we can insert data at the end of list only.\n",
    "\n",
    "-------------------------------------------------------------------------------------------------"
   ]
  },
  {
   "cell_type": "markdown",
   "id": "8e5a03b6",
   "metadata": {},
   "source": [
    "Q11. What are the two methods for removing items from a list?\n",
    "\n",
    "Solution Q11: There are 3 methods that helps to remove the element in list\n",
    "- pop() , remove() and del statement\n",
    "- pop(): This function takes argument as a index and remove the element present at that perticular index.\n",
    "- remove(): This function takes argument as a value and remove the very first occurance of this element.\n",
    "- del keyword is also helps to remove the element from list.\n"
   ]
  },
  {
   "cell_type": "markdown",
   "id": "00e37b04",
   "metadata": {},
   "source": [
    "Q12. Describe how list values and string values are identical.\n",
    "\n",
    "Solution Q12: \n",
    "\n",
    "- String and list both are the sequence collection of data or values.\n",
    "- The elements of string and list are stored in memory based on indexes.\n",
    "- In string and list, In order to access the element(values) we need to use indexing operations.\n",
    "- Both list and string can be passed in len() to know the size of it.\n",
    "- Slicing operation is possible in both of them.\n",
    "- Both can be used in for loops, be concatenated or replicated, and be used with the in and not in operators.\n",
    "\n",
    "-------------------------------------------------------------------------------------------------\n"
   ]
  },
  {
   "cell_type": "markdown",
   "id": "038a7177",
   "metadata": {},
   "source": [
    "Q13. What's the difference between tuples and lists?\n",
    "\n",
    "SolutionQ13: List and Tuple both are the sequence collecion of data set.\n",
    "\n",
    "- list uses square bracket [], tuple uses paranthesis ().\n",
    "- list is mutable but tuple is immutable data set.\n",
    "- tuple is more faster than list in terms of iterations.\n",
    "- list consume more meory, whereas tuple consume less memory.\n",
    "- List have various built in methods, but tuples have only 2 built in methods.\n",
    "- In list errors are more likely to occur, but in tuple it is hard to occure unexpected errors.\n",
    "\n",
    "-------------------------------------------------------------------------------------------------"
   ]
  },
  {
   "cell_type": "markdown",
   "id": "e41b77da",
   "metadata": {},
   "source": [
    "Q14. How do you type a tuple value that only contains the integer 42?\n",
    "\n",
    "Solution Q14: t=(42,)\n",
    " - If we have to define a tuple with a single element then this trailing comma is mandatory in tuple. then and then only it will be treated as tuple otherwisw not.\n",
    " - eg  t=(42)  type(t) result:  int\n",
    " - t=(\"rish)   type(t) result: str\n",
    " - t=(3.14)    type(t) result: float\n",
    " - t=(42,)     type(t) result: tuple\n",
    "\n",
    "-------------------------------------------------------------------------------------------------"
   ]
  },
  {
   "cell_type": "markdown",
   "id": "f7944711",
   "metadata": {},
   "source": [
    "Q15. How do you get a list value's tuple form? How do you get a tuple value's list form?\n",
    "\n",
    "Solution Q15:\n",
    "\n",
    "- To get the list values in tuple form we will have to use function \"tuple()\"\n",
    "- To get the tuple values in list form we will have to use function \"list()\""
   ]
  },
  {
   "cell_type": "code",
   "execution_count": 10,
   "id": "9bf5249e",
   "metadata": {},
   "outputs": [
    {
     "name": "stdout",
     "output_type": "stream",
     "text": [
      "(1, 2, 3, 4, 5) <class 'tuple'>\n",
      "[6, 7, 8, 9, 'ineuron'] <class 'list'>\n"
     ]
    }
   ],
   "source": [
    "#Solution Q15: #list to tuple\n",
    "l=[1,2,3,4,5]\n",
    "t=tuple(l)\n",
    "print(t, type(t))\n",
    "\n",
    "#tuple to list\n",
    "t=(6,7,8,9,\"ineuron\")\n",
    "l1=list(t)\n",
    "print(l1,type(l1))\n",
    "\n",
    "#------------------------------------------------------------------------------------------------"
   ]
  },
  {
   "cell_type": "markdown",
   "id": "e2fdc0d7",
   "metadata": {},
   "source": [
    "Q16. Variables that \"contain\" list values are not necessarily lists themselves. Instead, what do they\n",
    "contain?\n",
    "\n",
    "Solution Q16: They must contains reference to these list values.\n",
    "\n",
    "-------------------------------------------------------------------------------------------------"
   ]
  },
  {
   "cell_type": "markdown",
   "id": "52f6f6ed",
   "metadata": {},
   "source": [
    "Q17. How do you distinguish between copy.copy() and copy.deepcopy()?\n",
    "\n",
    "Solution q17: These both are the function of copy module\n",
    "\n",
    "1) copy.copy(): This function will do a shallow copy of the list.\n",
    "\n",
    "2) copy.deepcopy(): This function will do deep copy of list i.e only this function will copy list inside the list.\n",
    "\n"
   ]
  },
  {
   "cell_type": "markdown",
   "id": "3d353f72",
   "metadata": {},
   "source": [
    "- Shallow copy: Shallow copy create a new object which contains a reference of origional element\n",
    "- So, a shallow copy doesn't create a copy of nested objects, instead it just copies the reference of nested objects. This means, a copy process does not create copies of nested objects itself."
   ]
  },
  {
   "cell_type": "code",
   "execution_count": 26,
   "id": "df76c576",
   "metadata": {},
   "outputs": [
    {
     "name": "stdout",
     "output_type": "stream",
     "text": [
      "[[1, 2, 3], [4, 5, 6], [7, 8, 9]]\n",
      "[[1, 2, 3], [4, 5, 6], [7, 8, 9]]\n"
     ]
    }
   ],
   "source": [
    "#eg: \n",
    "old_list = [[1, 2, 3], [4, 5, 6], [7, 8, 9]]\n",
    "new_list = copy.copy(old_list)\n",
    "print(old_list)\n",
    "print(new_list)\n",
    "\n",
    "#In above program, we created a nested list and then shallow copy it using copy() method.\n",
    "#This means it will create new and independent object with same content.\n",
    "#this new list is showiing copy of old list but it is actually a reference of old list."
   ]
  },
  {
   "cell_type": "markdown",
   "id": "e8bb689f",
   "metadata": {},
   "source": [
    "#To confirm that new_list is different from old_list, we try to add new nested object to original and check it."
   ]
  },
  {
   "cell_type": "code",
   "execution_count": 27,
   "id": "c4b41926",
   "metadata": {},
   "outputs": [
    {
     "name": "stdout",
     "output_type": "stream",
     "text": [
      "Old list: [[1, 1, 1], [2, 2, 2], [3, 3, 3], [4, 4, 4]]\n",
      "New list: [[1, 1, 1], [2, 2, 2], [3, 3, 3]]\n"
     ]
    }
   ],
   "source": [
    "import copy\n",
    "\n",
    "old_list = [[1, 1, 1], [2, 2, 2], [3, 3, 3]]\n",
    "new_list = copy.copy(old_list)\n",
    "\n",
    "old_list.append([4, 4, 4])\n",
    "\n",
    "print(\"Old list:\", old_list)\n",
    "print(\"New list:\", new_list)"
   ]
  },
  {
   "cell_type": "markdown",
   "id": "aaf5f73f",
   "metadata": {},
   "source": [
    "Here above we have added a nested list in the old list, but it did not appear in new list.\n",
    "- But, when you change any nested objects in old_list, the changes appear in new_list.\n",
    "- check below code:"
   ]
  },
  {
   "cell_type": "code",
   "execution_count": 28,
   "id": "6289aafc",
   "metadata": {},
   "outputs": [
    {
     "name": "stdout",
     "output_type": "stream",
     "text": [
      "Old list: [[1, 1, 1], [2, 'AA', 2], [3, 3, 3]]\n",
      "New list: [[1, 1, 1], [2, 'AA', 2], [3, 3, 3]]\n"
     ]
    }
   ],
   "source": [
    "import copy\n",
    "\n",
    "old_list = [[1, 1, 1], [2, 2, 2], [3, 3, 3]]\n",
    "new_list = copy.copy(old_list)\n",
    "\n",
    "old_list[1][1] = 'AA'\n",
    "\n",
    "print(\"Old list:\", old_list)\n",
    "print(\"New list:\", new_list)"
   ]
  },
  {
   "cell_type": "markdown",
   "id": "b3f4ea6c",
   "metadata": {},
   "source": [
    "In the above program, we made changes to old_list i.e old_list[1][1] = 'AA'. Both sublists of old_list and new_list at index [1][1] were modified. This is because, both lists share the reference of same nested objects."
   ]
  },
  {
   "cell_type": "code",
   "execution_count": 35,
   "id": "fa4503ba",
   "metadata": {},
   "outputs": [],
   "source": [
    "l1=[1,2,3]\n",
    "l2=[4,5,6,[1,2,3,4],[\"ineuron\",\"fsds\",7]]"
   ]
  },
  {
   "cell_type": "code",
   "execution_count": 25,
   "id": "9b167e80",
   "metadata": {},
   "outputs": [
    {
     "name": "stdout",
     "output_type": "stream",
     "text": [
      "[1, 2, 3, [3, 'a', 5], [6, 7, 8]]\n",
      "[1, 2, 3, [3, 'a', 5], [6, 7, 8]]\n"
     ]
    }
   ],
   "source": [
    "import copy\n",
    "old_list=[1,2,3,[3,4,5],[6,7,8]]\n",
    "new_list=copy.copy(old_list)\n",
    "old_list[3][1]=\"a\"\n",
    "print(old_list)\n",
    "print(new_list)\n",
    "\n"
   ]
  },
  {
   "cell_type": "markdown",
   "id": "1b53e1b2",
   "metadata": {},
   "source": [
    "- Deep copy: Deep copy create a new object that contains a all the elements and nested elements of old objects."
   ]
  },
  {
   "cell_type": "code",
   "execution_count": 29,
   "id": "9e149592",
   "metadata": {},
   "outputs": [
    {
     "name": "stdout",
     "output_type": "stream",
     "text": [
      "Old list: [[1, 1, 1], [2, 2, 2], [3, 3, 3]]\n",
      "New list: [[1, 1, 1], [2, 2, 2], [3, 3, 3]]\n"
     ]
    }
   ],
   "source": [
    "#eg:\n",
    "import copy\n",
    "\n",
    "old_list = [[1, 1, 1], [2, 2, 2], [3, 3, 3]]\n",
    "new_list = copy.deepcopy(old_list)\n",
    "\n",
    "print(\"Old list:\", old_list)\n",
    "print(\"New list:\", new_list)"
   ]
  },
  {
   "cell_type": "markdown",
   "id": "e616f2c5",
   "metadata": {},
   "source": [
    "In the above program, we use deepcopy() function to create copy which looks similar.\n",
    "\n",
    "However, if you make changes to any nested objects in original object old_list, you’ll see no changes to the copy new_list.\n",
    "\n"
   ]
  },
  {
   "cell_type": "code",
   "execution_count": 30,
   "id": "1f9d17c7",
   "metadata": {},
   "outputs": [
    {
     "name": "stdout",
     "output_type": "stream",
     "text": [
      "Old list: [[1, 1, 1], ['BB', 2, 2], [3, 3, 3]]\n",
      "New list: [[1, 1, 1], [2, 2, 2], [3, 3, 3]]\n"
     ]
    }
   ],
   "source": [
    "#eg\n",
    "import copy\n",
    "\n",
    "old_list = [[1, 1, 1], [2, 2, 2], [3, 3, 3]]\n",
    "new_list = copy.deepcopy(old_list)\n",
    "\n",
    "old_list[1][0] = 'BB'\n",
    "\n",
    "print(\"Old list:\", old_list)\n",
    "print(\"New list:\", new_list)"
   ]
  },
  {
   "cell_type": "markdown",
   "id": "7667ca83",
   "metadata": {},
   "source": [
    "In the above program, when we assign a new value to old_list, we can see only the old_list is modified. This means, both the old_list and the new_list are independent. This is because the old_list was copied, which is true for all its nested objects."
   ]
  },
  {
   "cell_type": "markdown",
   "id": "8fbe1e07",
   "metadata": {},
   "source": [
    "Hence if we are making changes in old_list is not appearing in the new_list, because new_list is totally independent(i.e copy of old-list) from old_list."
   ]
  },
  {
   "cell_type": "code",
   "execution_count": null,
   "id": "94cda681",
   "metadata": {},
   "outputs": [],
   "source": []
  }
 ],
 "metadata": {
  "kernelspec": {
   "display_name": "Python 3 (ipykernel)",
   "language": "python",
   "name": "python3"
  },
  "language_info": {
   "codemirror_mode": {
    "name": "ipython",
    "version": 3
   },
   "file_extension": ".py",
   "mimetype": "text/x-python",
   "name": "python",
   "nbconvert_exporter": "python",
   "pygments_lexer": "ipython3",
   "version": "3.9.7"
  }
 },
 "nbformat": 4,
 "nbformat_minor": 5
}
