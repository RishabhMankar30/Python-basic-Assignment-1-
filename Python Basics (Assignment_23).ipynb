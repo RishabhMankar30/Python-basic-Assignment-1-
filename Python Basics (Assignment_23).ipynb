{
 "cells": [
  {
   "cell_type": "markdown",
   "id": "5ac1892e",
   "metadata": {},
   "source": [
    "# 1. What is the result of the code, and why?"
   ]
  },
  {
   "cell_type": "code",
   "execution_count": 1,
   "id": "8e2af2a7",
   "metadata": {},
   "outputs": [
    {
     "name": "stdout",
     "output_type": "stream",
     "text": [
      "1 2 8\n"
     ]
    }
   ],
   "source": [
    "def func(a, b=6, c=8):\n",
    "    print(a,b,c)\n",
    "    \n",
    "func(1,2)"
   ]
  },
  {
   "cell_type": "markdown",
   "id": "7efb2791",
   "metadata": {},
   "source": [
    "- Here while defining the function we have passes the argument a,b,c inside the function and assigned the values for b,c not for a inside the function itself.\n",
    "- while calling the function we define the values to the variable, this function will assign the values in the sequence, the way the argument passed inside the function.\n",
    "- So while calling the function func(1,2), function will define the values to the argument in the sequence\n",
    "- So we get a=1, b value get replace from b=6 to b=2 and c=8 which is defined while defining the function.\n",
    "- Hence we get the output 1 2 8"
   ]
  },
  {
   "cell_type": "markdown",
   "id": "b11498f5",
   "metadata": {},
   "source": [
    "# 2. What is the result of this code, and why?"
   ]
  },
  {
   "cell_type": "code",
   "execution_count": 2,
   "id": "37671f07",
   "metadata": {},
   "outputs": [
    {
     "name": "stdout",
     "output_type": "stream",
     "text": [
      "1 2 3\n"
     ]
    }
   ],
   "source": [
    "def func(a,b,c=5):\n",
    "    print(a,b,c)\n",
    "\n",
    "func(1, c=3, b=2)\n",
    "\n",
    "    "
   ]
  },
  {
   "cell_type": "markdown",
   "id": "8c835e48",
   "metadata": {},
   "source": [
    "- Here we are defining the function with the arguments a,b,c along with the assigned value to the c,\n",
    "c=5 and printing a,b,c\n",
    "- But while defining the function we are passing the new values to the argument inside the function.\n",
    "-  here while defining the values we are defining the values along with the variable name. \n",
    "- while calling the function  func(1,c=3,b=3)\n",
    "- Here function will take a=1, b=2 and c value will be replace from c=5 to c=3\n",
    "- And it will print the values in the sequence, the sequence argument passed(i.e a,b,c)\n",
    "- hence it will give 1,2,3\n"
   ]
  },
  {
   "cell_type": "markdown",
   "id": "a0687ba1",
   "metadata": {},
   "source": [
    "# 3. How about this code: what is its result, and why?\n"
   ]
  },
  {
   "cell_type": "code",
   "execution_count": 6,
   "id": "22769522",
   "metadata": {},
   "outputs": [
    {
     "name": "stdout",
     "output_type": "stream",
     "text": [
      "1 (2, 3)\n"
     ]
    }
   ],
   "source": [
    " def func(a, *pargs):\n",
    "        print(a,pargs)\n",
    "    \n",
    "func(1, 2,3)\n",
    "\n"
   ]
  },
  {
   "cell_type": "markdown",
   "id": "339dcb76",
   "metadata": {},
   "source": [
    "- here while defining the function we have passed two argument a,*pargs\n",
    "- the variable a will take only one value but \" **pargs\" takes n number of values.( **forwarded by any variable takes n values)\n",
    "- so wile calling the function function(1,2,3)\n",
    "-  The a will take a=1 and all the rest values will be taken by variable pargs in the tuple form  pargs=(2,3)\n",
    "- hence we are getting output 1 (2,3)"
   ]
  },
  {
   "cell_type": "markdown",
   "id": "c75faa4d",
   "metadata": {},
   "source": [
    "# 4. What does this code print, and why?\n"
   ]
  },
  {
   "cell_type": "code",
   "execution_count": 11,
   "id": "8494def1",
   "metadata": {},
   "outputs": [
    {
     "name": "stdout",
     "output_type": "stream",
     "text": [
      "1 {'c': 3, 'b': 2}\n"
     ]
    }
   ],
   "source": [
    "def func(a,**kargs):\n",
    "    print(a,kargs)\n",
    " \n",
    "func(a=1, c=3, b=2)\n",
    "\n"
   ]
  },
  {
   "cell_type": "markdown",
   "id": "b3f64f1f",
   "metadata": {},
   "source": [
    "- here while defining the function we have passed two argument a,**kargs\n",
    "- the variable a will take only one value but \" ****kargs\" takes n number of values but in the dictionary format.(  ******forwarded by any variable takes n values in the dictionary format)\n",
    "- so while calling the function function(a=1,c=3,b=2)\n",
    "-  The a will take a=1 and all the rest values will be converted into dictionary format.\n",
    "- hence we are getting output 1 {'c': 3, 'b': 2}"
   ]
  },
  {
   "cell_type": "markdown",
   "id": "3cc1baf7",
   "metadata": {},
   "source": [
    "# 5. What gets printed by this, and explain?\n"
   ]
  },
  {
   "cell_type": "code",
   "execution_count": 16,
   "id": "de9e2ef3",
   "metadata": {},
   "outputs": [
    {
     "name": "stdout",
     "output_type": "stream",
     "text": [
      "1 5 6 5\n"
     ]
    }
   ],
   "source": [
    "def func(a, b, c=8, d=5):\n",
    "    print(a, b, c, d)\n",
    "\n",
    "func(1, *(5, 6))\n"
   ]
  },
  {
   "cell_type": "markdown",
   "id": "233965d0",
   "metadata": {},
   "source": [
    "- While defining the function we have passed the argument along with their values a,b,c=8,d=5\n",
    "- While calling  the  function we are providing the values in the format shown above.\n",
    "- but there is no use of providing the asterisk symbol while providing the values to the function argument.\n",
    "- without proving the asterisk symbol also variable takes the values in the same format.\n",
    "- a=1, b=5, c will be replace  from c=8 to c=6 and d=5.\n",
    "-  If we try to provide more than 3 values inside the tuple followed by asterisk, it will give error shown below."
   ]
  },
  {
   "cell_type": "code",
   "execution_count": 23,
   "id": "fb1e8c2b",
   "metadata": {},
   "outputs": [
    {
     "ename": "TypeError",
     "evalue": "func() takes from 2 to 4 positional arguments but 5 were given",
     "output_type": "error",
     "traceback": [
      "\u001b[1;31m---------------------------------------------------------------------------\u001b[0m",
      "\u001b[1;31mTypeError\u001b[0m                                 Traceback (most recent call last)",
      "\u001b[1;32m~\\AppData\\Local\\Temp/ipykernel_5072/3461601330.py\u001b[0m in \u001b[0;36m<module>\u001b[1;34m\u001b[0m\n\u001b[0;32m      2\u001b[0m     \u001b[0mprint\u001b[0m\u001b[1;33m(\u001b[0m\u001b[0ma\u001b[0m\u001b[1;33m,\u001b[0m \u001b[0mb\u001b[0m\u001b[1;33m,\u001b[0m \u001b[0mc\u001b[0m\u001b[1;33m,\u001b[0m \u001b[0md\u001b[0m\u001b[1;33m)\u001b[0m\u001b[1;33m\u001b[0m\u001b[1;33m\u001b[0m\u001b[0m\n\u001b[0;32m      3\u001b[0m \u001b[1;33m\u001b[0m\u001b[0m\n\u001b[1;32m----> 4\u001b[1;33m \u001b[0mfunc\u001b[0m\u001b[1;33m(\u001b[0m\u001b[1;36m1\u001b[0m\u001b[1;33m,\u001b[0m \u001b[1;33m*\u001b[0m\u001b[1;33m(\u001b[0m\u001b[1;36m5\u001b[0m\u001b[1;33m,\u001b[0m \u001b[1;36m6\u001b[0m\u001b[1;33m,\u001b[0m\u001b[1;36m7\u001b[0m\u001b[1;33m,\u001b[0m\u001b[1;36m8\u001b[0m\u001b[1;33m)\u001b[0m\u001b[1;33m)\u001b[0m\u001b[1;33m\u001b[0m\u001b[1;33m\u001b[0m\u001b[0m\n\u001b[0m",
      "\u001b[1;31mTypeError\u001b[0m: func() takes from 2 to 4 positional arguments but 5 were given"
     ]
    }
   ],
   "source": [
    "def func(a, b, c=8, d=5):\n",
    "    print(a, b, c, d)\n",
    "\n",
    "func(1, *(5, 6,7,8))\n"
   ]
  },
  {
   "cell_type": "markdown",
   "id": "b9487e5f",
   "metadata": {},
   "source": [
    "# 6. what is the result of this, and explain"
   ]
  },
  {
   "cell_type": "code",
   "execution_count": 29,
   "id": "9e6cd9c8",
   "metadata": {},
   "outputs": [
    {
     "data": {
      "text/plain": [
       "(1, ['x'], {'a': 'y'})"
      ]
     },
     "execution_count": 29,
     "metadata": {},
     "output_type": "execute_result"
    }
   ],
   "source": [
    "def func(a, b, c):\n",
    "    a = 2\n",
    "    b[0] = 'x'\n",
    "    c['a'] = 'y'\n",
    "\n",
    "l=1 \n",
    "m=[1]\n",
    "n={'a':0}\n",
    "func(l, m, n)\n",
    "l, m, n"
   ]
  },
  {
   "cell_type": "markdown",
   "id": "408e2ac8",
   "metadata": {},
   "source": [
    "- here we are defining the function with arguments a,b,c and we are giving some values\n",
    "- a=2, value of a will be 2\n",
    "- b[0]=\"x\": here b will be treated as a list and its zeroth index will be \"x\"\n",
    "- c[\"a\"]=\"y\" : here c will be treated as dictionary bcz we have passed string argument inside list which in the case of dictionary only\n",
    "- Hence \"a\" will be treated as key and \"y\" will be as its value.\n",
    "\n",
    "\n",
    "- Now When we are calling the function, we are passing argument value l,m,n\n",
    "- mens a=l, b=m,c=n\n",
    "- hence a=1, b=[\"x\"] , c={\"a\":\"y\"}\n",
    "\n"
   ]
  },
  {
   "cell_type": "code",
   "execution_count": null,
   "id": "1a0d2323",
   "metadata": {},
   "outputs": [],
   "source": []
  },
  {
   "cell_type": "code",
   "execution_count": null,
   "id": "6e4994cf",
   "metadata": {},
   "outputs": [],
   "source": []
  }
 ],
 "metadata": {
  "kernelspec": {
   "display_name": "Python 3 (ipykernel)",
   "language": "python",
   "name": "python3"
  },
  "language_info": {
   "codemirror_mode": {
    "name": "ipython",
    "version": 3
   },
   "file_extension": ".py",
   "mimetype": "text/x-python",
   "name": "python",
   "nbconvert_exporter": "python",
   "pygments_lexer": "ipython3",
   "version": "3.9.7"
  }
 },
 "nbformat": 4,
 "nbformat_minor": 5
}
