{
 "cells": [
  {
   "cell_type": "markdown",
   "id": "28800266",
   "metadata": {},
   "source": [
    "Q1. Create an assert statement that throws an AssertionError if the variable spam is a negative\n",
    "   integer."
   ]
  },
  {
   "cell_type": "code",
   "execution_count": 22,
   "id": "b584f322",
   "metadata": {},
   "outputs": [
    {
     "ename": "AssertionError",
     "evalue": "spam is a negative integer!",
     "output_type": "error",
     "traceback": [
      "\u001b[1;31m---------------------------------------------------------------------------\u001b[0m",
      "\u001b[1;31mAssertionError\u001b[0m                            Traceback (most recent call last)",
      "\u001b[1;32m~\\AppData\\Local\\Temp/ipykernel_4832/4150093079.py\u001b[0m in \u001b[0;36m<module>\u001b[1;34m\u001b[0m\n\u001b[0;32m      5\u001b[0m     \u001b[1;32mreturn\u001b[0m \u001b[1;33m(\u001b[0m\u001b[0mspam\u001b[0m\u001b[1;33m+\u001b[0m\u001b[1;36m32\u001b[0m\u001b[1;33m)\u001b[0m\u001b[1;33m\u001b[0m\u001b[1;33m\u001b[0m\u001b[0m\n\u001b[0;32m      6\u001b[0m \u001b[1;33m\u001b[0m\u001b[0m\n\u001b[1;32m----> 7\u001b[1;33m \u001b[0mprint\u001b[0m \u001b[1;33m(\u001b[0m\u001b[0massertion_error\u001b[0m\u001b[1;33m(\u001b[0m\u001b[1;36m273\u001b[0m\u001b[1;33m)\u001b[0m\u001b[1;33m)\u001b[0m\u001b[1;33m\u001b[0m\u001b[1;33m\u001b[0m\u001b[0m\n\u001b[0m\u001b[0;32m      8\u001b[0m \u001b[0mprint\u001b[0m \u001b[1;33m(\u001b[0m\u001b[0massertion_error\u001b[0m\u001b[1;33m(\u001b[0m\u001b[1;33m-\u001b[0m\u001b[1;36m5\u001b[0m\u001b[1;33m)\u001b[0m\u001b[1;33m)\u001b[0m\u001b[1;33m\u001b[0m\u001b[1;33m\u001b[0m\u001b[0m\n",
      "\u001b[1;32m~\\AppData\\Local\\Temp/ipykernel_4832/4150093079.py\u001b[0m in \u001b[0;36massertion_error\u001b[1;34m(spam)\u001b[0m\n\u001b[0;32m      2\u001b[0m \u001b[1;33m\u001b[0m\u001b[0m\n\u001b[0;32m      3\u001b[0m \u001b[1;32mdef\u001b[0m \u001b[0massertion_error\u001b[0m\u001b[1;33m(\u001b[0m\u001b[0mspam\u001b[0m\u001b[1;33m)\u001b[0m\u001b[1;33m:\u001b[0m\u001b[1;33m\u001b[0m\u001b[1;33m\u001b[0m\u001b[0m\n\u001b[1;32m----> 4\u001b[1;33m     \u001b[1;32massert\u001b[0m \u001b[1;33m(\u001b[0m\u001b[0mspam\u001b[0m\u001b[1;33m<\u001b[0m \u001b[1;36m0\u001b[0m\u001b[1;33m)\u001b[0m\u001b[1;33m,\u001b[0m\u001b[1;34m\"spam is a negative integer!\"\u001b[0m\u001b[1;33m\u001b[0m\u001b[1;33m\u001b[0m\u001b[0m\n\u001b[0m\u001b[0;32m      5\u001b[0m     \u001b[1;32mreturn\u001b[0m \u001b[1;33m(\u001b[0m\u001b[0mspam\u001b[0m\u001b[1;33m+\u001b[0m\u001b[1;36m32\u001b[0m\u001b[1;33m)\u001b[0m\u001b[1;33m\u001b[0m\u001b[1;33m\u001b[0m\u001b[0m\n\u001b[0;32m      6\u001b[0m \u001b[1;33m\u001b[0m\u001b[0m\n",
      "\u001b[1;31mAssertionError\u001b[0m: spam is a negative integer!"
     ]
    }
   ],
   "source": [
    "#Solution:\n",
    "\n",
    "def assertion_error(spam):\n",
    "    assert (spam< 0),\"spam is a negative integer!\"\n",
    "    return (spam+32)\n",
    "\n",
    "print (assertion_error(273))\n",
    "print (assertion_error(-5))"
   ]
  },
  {
   "cell_type": "markdown",
   "id": "cd2d654a",
   "metadata": {},
   "source": [
    "Q2:Write an assert statement that triggers an AssertionError if the variables eggs and bacon contain strings that are the same as each other, even if their cases are different (that is, 'hello' and 'hello' are considered the same, and 'goodbye' and 'GOODbye' are also considered the same)."
   ]
  },
  {
   "cell_type": "code",
   "execution_count": 29,
   "id": "98e2307e",
   "metadata": {},
   "outputs": [
    {
     "ename": "AssertionError",
     "evalue": "The eggs and bacon varioable are same here",
     "output_type": "error",
     "traceback": [
      "\u001b[1;31m---------------------------------------------------------------------------\u001b[0m",
      "\u001b[1;31mAssertionError\u001b[0m                            Traceback (most recent call last)",
      "\u001b[1;32m~\\AppData\\Local\\Temp/ipykernel_4832/1833762035.py\u001b[0m in \u001b[0;36m<module>\u001b[1;34m\u001b[0m\n\u001b[0;32m      5\u001b[0m     \u001b[1;32mreturn\u001b[0m \u001b[0meggs\u001b[0m\u001b[1;33m,\u001b[0m\u001b[0mbacon\u001b[0m\u001b[1;33m\u001b[0m\u001b[1;33m\u001b[0m\u001b[0m\n\u001b[0;32m      6\u001b[0m \u001b[1;33m\u001b[0m\u001b[0m\n\u001b[1;32m----> 7\u001b[1;33m \u001b[0mprint\u001b[0m\u001b[1;33m(\u001b[0m\u001b[0merror\u001b[0m\u001b[1;33m(\u001b[0m\u001b[1;34m\"hi\"\u001b[0m\u001b[1;33m,\u001b[0m\u001b[1;34m\"jay\"\u001b[0m\u001b[1;33m)\u001b[0m\u001b[1;33m)\u001b[0m\u001b[1;33m\u001b[0m\u001b[1;33m\u001b[0m\u001b[0m\n\u001b[0m\u001b[0;32m      8\u001b[0m \u001b[0mprint\u001b[0m\u001b[1;33m(\u001b[0m\u001b[0merror\u001b[0m\u001b[1;33m(\u001b[0m\u001b[1;34m\"jay\"\u001b[0m\u001b[1;33m,\u001b[0m\u001b[1;34m\"jay\"\u001b[0m\u001b[1;33m)\u001b[0m\u001b[1;33m)\u001b[0m\u001b[1;33m\u001b[0m\u001b[1;33m\u001b[0m\u001b[0m\n",
      "\u001b[1;32m~\\AppData\\Local\\Temp/ipykernel_4832/1833762035.py\u001b[0m in \u001b[0;36merror\u001b[1;34m(a1, a2)\u001b[0m\n\u001b[0;32m      2\u001b[0m     \u001b[0meggs\u001b[0m\u001b[1;33m=\u001b[0m\u001b[0ma1\u001b[0m\u001b[1;33m\u001b[0m\u001b[1;33m\u001b[0m\u001b[0m\n\u001b[0;32m      3\u001b[0m     \u001b[0mbacon\u001b[0m\u001b[1;33m=\u001b[0m\u001b[0ma2\u001b[0m\u001b[1;33m\u001b[0m\u001b[1;33m\u001b[0m\u001b[0m\n\u001b[1;32m----> 4\u001b[1;33m     \u001b[1;32massert\u001b[0m\u001b[1;33m(\u001b[0m\u001b[0meggs\u001b[0m\u001b[1;33m.\u001b[0m\u001b[0mlower\u001b[0m\u001b[1;33m(\u001b[0m\u001b[1;33m)\u001b[0m\u001b[1;33m==\u001b[0m\u001b[0mbacon\u001b[0m\u001b[1;33m.\u001b[0m\u001b[0mlower\u001b[0m\u001b[1;33m(\u001b[0m\u001b[1;33m)\u001b[0m\u001b[1;33m)\u001b[0m\u001b[1;33m,\u001b[0m\u001b[1;34m\"The eggs and bacon varioable are same here\"\u001b[0m\u001b[1;33m\u001b[0m\u001b[1;33m\u001b[0m\u001b[0m\n\u001b[0m\u001b[0;32m      5\u001b[0m     \u001b[1;32mreturn\u001b[0m \u001b[0meggs\u001b[0m\u001b[1;33m,\u001b[0m\u001b[0mbacon\u001b[0m\u001b[1;33m\u001b[0m\u001b[1;33m\u001b[0m\u001b[0m\n\u001b[0;32m      6\u001b[0m \u001b[1;33m\u001b[0m\u001b[0m\n",
      "\u001b[1;31mAssertionError\u001b[0m: The eggs and bacon varioable are same here"
     ]
    }
   ],
   "source": [
    "def error(a1,a2):\n",
    "    eggs=a1\n",
    "    bacon=a2\n",
    "    assert(eggs.lower()==bacon.lower()),\"The eggs and bacon varioable are same here\"\n",
    "    return eggs,bacon\n",
    "\n",
    "print(error(\"hi\",\"jay\"))\n",
    "print(error(\"jay\",\"jay\"))"
   ]
  },
  {
   "cell_type": "markdown",
   "id": "477b8e11",
   "metadata": {},
   "source": [
    "Q3. Create an assert statement that throws an AssertionError every time.\n",
    "\n",
    "Solution: assert False, this statement always create an assertion error"
   ]
  },
  {
   "cell_type": "code",
   "execution_count": 34,
   "id": "ef6dd7f3",
   "metadata": {},
   "outputs": [
    {
     "ename": "AssertionError",
     "evalue": "The eggs and bacon varioable are same here",
     "output_type": "error",
     "traceback": [
      "\u001b[1;31m---------------------------------------------------------------------------\u001b[0m",
      "\u001b[1;31mAssertionError\u001b[0m                            Traceback (most recent call last)",
      "\u001b[1;32m~\\AppData\\Local\\Temp/ipykernel_4832/3183138467.py\u001b[0m in \u001b[0;36m<module>\u001b[1;34m\u001b[0m\n\u001b[0;32m      5\u001b[0m     \u001b[1;32mreturn\u001b[0m \u001b[0meggs\u001b[0m\u001b[1;33m,\u001b[0m\u001b[0mbacon\u001b[0m\u001b[1;33m\u001b[0m\u001b[1;33m\u001b[0m\u001b[0m\n\u001b[0;32m      6\u001b[0m \u001b[1;33m\u001b[0m\u001b[0m\n\u001b[1;32m----> 7\u001b[1;33m \u001b[0mprint\u001b[0m\u001b[1;33m(\u001b[0m\u001b[0merror\u001b[0m\u001b[1;33m(\u001b[0m\u001b[1;34m\"hi\"\u001b[0m\u001b[1;33m,\u001b[0m\u001b[1;34m\"jay\"\u001b[0m\u001b[1;33m)\u001b[0m\u001b[1;33m)\u001b[0m\u001b[1;33m\u001b[0m\u001b[1;33m\u001b[0m\u001b[0m\n\u001b[0m",
      "\u001b[1;32m~\\AppData\\Local\\Temp/ipykernel_4832/3183138467.py\u001b[0m in \u001b[0;36merror\u001b[1;34m(a1, a2)\u001b[0m\n\u001b[0;32m      2\u001b[0m     \u001b[0meggs\u001b[0m\u001b[1;33m=\u001b[0m\u001b[0ma1\u001b[0m\u001b[1;33m\u001b[0m\u001b[1;33m\u001b[0m\u001b[0m\n\u001b[0;32m      3\u001b[0m     \u001b[0mbacon\u001b[0m\u001b[1;33m=\u001b[0m\u001b[0ma2\u001b[0m\u001b[1;33m\u001b[0m\u001b[1;33m\u001b[0m\u001b[0m\n\u001b[1;32m----> 4\u001b[1;33m     \u001b[1;32massert\u001b[0m \u001b[1;32mFalse\u001b[0m\u001b[1;33m,\u001b[0m\u001b[1;34m\"The eggs and bacon varioable are same here\"\u001b[0m\u001b[1;33m\u001b[0m\u001b[1;33m\u001b[0m\u001b[0m\n\u001b[0m\u001b[0;32m      5\u001b[0m     \u001b[1;32mreturn\u001b[0m \u001b[0meggs\u001b[0m\u001b[1;33m,\u001b[0m\u001b[0mbacon\u001b[0m\u001b[1;33m\u001b[0m\u001b[1;33m\u001b[0m\u001b[0m\n\u001b[0;32m      6\u001b[0m \u001b[1;33m\u001b[0m\u001b[0m\n",
      "\u001b[1;31mAssertionError\u001b[0m: The eggs and bacon varioable are same here"
     ]
    }
   ],
   "source": [
    "def error(a1,a2):\n",
    "    eggs=a1\n",
    "    bacon=a2\n",
    "    assert False,\"The eggs and bacon varioable are same here\"\n",
    "    return eggs,bacon\n",
    "\n",
    "print(error(\"hi\",\"jay\"))\n"
   ]
  },
  {
   "cell_type": "code",
   "execution_count": 35,
   "id": "4e88cf82",
   "metadata": {},
   "outputs": [
    {
     "ename": "AssertionError",
     "evalue": "The eggs and bacon varioable are same here",
     "output_type": "error",
     "traceback": [
      "\u001b[1;31m---------------------------------------------------------------------------\u001b[0m",
      "\u001b[1;31mAssertionError\u001b[0m                            Traceback (most recent call last)",
      "\u001b[1;32m~\\AppData\\Local\\Temp/ipykernel_4832/3642369083.py\u001b[0m in \u001b[0;36m<module>\u001b[1;34m\u001b[0m\n\u001b[0;32m      5\u001b[0m     \u001b[1;32mreturn\u001b[0m \u001b[0meggs\u001b[0m\u001b[1;33m,\u001b[0m\u001b[0mbacon\u001b[0m\u001b[1;33m\u001b[0m\u001b[1;33m\u001b[0m\u001b[0m\n\u001b[0;32m      6\u001b[0m \u001b[1;33m\u001b[0m\u001b[0m\n\u001b[1;32m----> 7\u001b[1;33m \u001b[0mprint\u001b[0m\u001b[1;33m(\u001b[0m\u001b[0merror\u001b[0m\u001b[1;33m(\u001b[0m\u001b[1;34m\"hi\"\u001b[0m\u001b[1;33m,\u001b[0m\u001b[1;34m\"hi\"\u001b[0m\u001b[1;33m)\u001b[0m\u001b[1;33m)\u001b[0m\u001b[1;33m\u001b[0m\u001b[1;33m\u001b[0m\u001b[0m\n\u001b[0m",
      "\u001b[1;32m~\\AppData\\Local\\Temp/ipykernel_4832/3642369083.py\u001b[0m in \u001b[0;36merror\u001b[1;34m(a1, a2)\u001b[0m\n\u001b[0;32m      2\u001b[0m     \u001b[0meggs\u001b[0m\u001b[1;33m=\u001b[0m\u001b[0ma1\u001b[0m\u001b[1;33m\u001b[0m\u001b[1;33m\u001b[0m\u001b[0m\n\u001b[0;32m      3\u001b[0m     \u001b[0mbacon\u001b[0m\u001b[1;33m=\u001b[0m\u001b[0ma2\u001b[0m\u001b[1;33m\u001b[0m\u001b[1;33m\u001b[0m\u001b[0m\n\u001b[1;32m----> 4\u001b[1;33m     \u001b[1;32massert\u001b[0m \u001b[1;32mFalse\u001b[0m\u001b[1;33m,\u001b[0m\u001b[1;34m\"The eggs and bacon varioable are same here\"\u001b[0m\u001b[1;33m\u001b[0m\u001b[1;33m\u001b[0m\u001b[0m\n\u001b[0m\u001b[0;32m      5\u001b[0m     \u001b[1;32mreturn\u001b[0m \u001b[0meggs\u001b[0m\u001b[1;33m,\u001b[0m\u001b[0mbacon\u001b[0m\u001b[1;33m\u001b[0m\u001b[1;33m\u001b[0m\u001b[0m\n\u001b[0;32m      6\u001b[0m \u001b[1;33m\u001b[0m\u001b[0m\n",
      "\u001b[1;31mAssertionError\u001b[0m: The eggs and bacon varioable are same here"
     ]
    }
   ],
   "source": [
    "def error(a1,a2):\n",
    "    eggs=a1\n",
    "    bacon=a2\n",
    "    assert False,\"The eggs and bacon varioable are same here\"\n",
    "    return eggs,bacon\n",
    "\n",
    "print(error(\"hi\",\"hi\"))\n"
   ]
  },
  {
   "cell_type": "markdown",
   "id": "b8446989",
   "metadata": {},
   "source": [
    "Q4. What are the two lines that must be present in your software in order to call logging.debug()?\n",
    "\n",
    "Solution: \n",
    "          \n",
    "import logging          \n",
    "logging.basicConfig(filename=\"logging_file\",level=logging.DEBUG,format=\"%(asctime)s %(levelname)s %(message)s\")"
   ]
  },
  {
   "cell_type": "markdown",
   "id": "482aaeb9",
   "metadata": {},
   "source": [
    "Q5. What are the two lines that your program must have in order to have logging.debug() send a\n",
    "logging message to a file named programLog.txt?"
   ]
  },
  {
   "cell_type": "markdown",
   "id": "f9e3bf82",
   "metadata": {},
   "source": [
    "Solution:\n",
    " \n",
    "import logging\n",
    "\n",
    "logging.basicConfig(filename=\"programLog\",level=logging.DEBUG,format=\"%(asctime)s %(levelname)s %(message)s\")\n",
    " "
   ]
  },
  {
   "cell_type": "markdown",
   "id": "99b3538a",
   "metadata": {},
   "source": [
    "Q6. What are the five levels of logging?"
   ]
  },
  {
   "cell_type": "markdown",
   "id": "4096416d",
   "metadata": {},
   "source": [
    "Solution:\n",
    "        The 5 level of logging and their order are likewise:\n",
    " \n",
    " 1)DEBUG\n",
    " \n",
    " 2)INFO\n",
    " \n",
    " 3)WARNING\n",
    " \n",
    " 4)ERROR\n",
    " \n",
    " 5)CRITICAL"
   ]
  },
  {
   "cell_type": "markdown",
   "id": "4b4eb258",
   "metadata": {},
   "source": [
    "Q7. What line of code would you add to your software to disable all logging messages?"
   ]
  },
  {
   "cell_type": "markdown",
   "id": "1d89e005",
   "metadata": {},
   "source": [
    "Solution:\n",
    "    \n",
    "    logging.disable(logging.CRITICAL)"
   ]
  },
  {
   "cell_type": "markdown",
   "id": "7e68acbe",
   "metadata": {},
   "source": [
    "Q8.Why is using logging messages better than using print() to display the same message?"
   ]
  },
  {
   "cell_type": "markdown",
   "id": "3b3759e8",
   "metadata": {},
   "source": [
    "Solution:\n",
    "\n",
    "logging is more better than print because:\n",
    "\n",
    "1) Logging has different levels of severity that allows you to display log messages according to the level you want. A print statement does not give you that flexibility.\n",
    "\n",
    "2) Logging allows you to direct the log messages to separate files that can then be used for post analysis while the same is not easily available with print statement\n",
    "\n",
    "3) You can set different log levels at individual code file level as well - some files may have INFO level while some may have DEBUG level.\n",
    "\n",
    "print() function is useful only when we have to display the message to user during runtime."
   ]
  },
  {
   "cell_type": "markdown",
   "id": "dbca8367",
   "metadata": {},
   "source": [
    "Q9. What are the differences between the Step Over, Step In, and Step Out buttons in the debugger?"
   ]
  },
  {
   "cell_type": "markdown",
   "id": "ee484974",
   "metadata": {},
   "source": [
    "Solution:\n",
    "    \n",
    "1) Step Over:\n",
    "\n",
    "- This command lets the application execute the next action. If the action involves a call to an operation, it does not step into its implementation (it steps over it instead).\n",
    "\n",
    "2) Step In:\n",
    "\n",
    "- This command lets the application execute the next action. If the action involves a call to an operation, it steps into its implementation and breaks the execution on the first action of that implementation.\n",
    "\n",
    "3) Step Out:\n",
    "\n",
    "- This command lets the application execute until the currently executed operation implementation is returned."
   ]
  },
  {
   "cell_type": "markdown",
   "id": "3229078e",
   "metadata": {},
   "source": [
    "Q10.After you click Continue, when will the debugger stop ?"
   ]
  },
  {
   "cell_type": "markdown",
   "id": "b434a38b",
   "metadata": {},
   "source": [
    "Solution:\n",
    "    \n",
    "    No the debugger will stop only when it reach at end of the code or end line with breakpoint."
   ]
  },
  {
   "cell_type": "markdown",
   "id": "1682e5ef",
   "metadata": {},
   "source": [
    "Q11. What is the concept of a breakpoint?"
   ]
  },
  {
   "cell_type": "markdown",
   "id": "5ef45745",
   "metadata": {},
   "source": [
    "Solution:\n",
    "    \n",
    "- breakpoint is the function in the program,Which is applied at the line of the code.\n",
    "- It stops the debugger to when program execution reaches at that line of code where we have use breakpoint()"
   ]
  },
  {
   "cell_type": "code",
   "execution_count": null,
   "id": "9fb9f937",
   "metadata": {},
   "outputs": [],
   "source": []
  }
 ],
 "metadata": {
  "kernelspec": {
   "display_name": "Python 3 (ipykernel)",
   "language": "python",
   "name": "python3"
  },
  "language_info": {
   "codemirror_mode": {
    "name": "ipython",
    "version": 3
   },
   "file_extension": ".py",
   "mimetype": "text/x-python",
   "name": "python",
   "nbconvert_exporter": "python",
   "pygments_lexer": "ipython3",
   "version": "3.9.7"
  }
 },
 "nbformat": 4,
 "nbformat_minor": 5
}
