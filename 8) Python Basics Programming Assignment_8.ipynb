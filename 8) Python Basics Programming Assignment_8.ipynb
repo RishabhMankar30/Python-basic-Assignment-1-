{
 "cells": [
  {
   "cell_type": "code",
   "execution_count": 15,
   "id": "528d7906",
   "metadata": {},
   "outputs": [],
   "source": [
    "import numpy as np"
   ]
  },
  {
   "cell_type": "code",
   "execution_count": 8,
   "id": "9e700854",
   "metadata": {},
   "outputs": [
    {
     "name": "stdout",
     "output_type": "stream",
     "text": [
      "[[5 6 8]\n",
      " [8 6 7]\n",
      " [7 6 8]]\n",
      "[[14 13  9]\n",
      " [13  3  5]\n",
      " [ 6  1  5]]\n",
      "Addition of matrix is=\n",
      "[[19 19 17]\n",
      " [21  9 12]\n",
      " [13  7 13]]\n"
     ]
    }
   ],
   "source": [
    "#1. Write a Python Program to Add Two Matrices?\n",
    "\n",
    "m1=np.random.randint(5,9,(3,3))\n",
    "m2=np.random.randint(1,15,(3,3))\n",
    "print(m1)\n",
    "print(m2)\n",
    "add=m1+m2\n",
    "print(\"Addition of matrix is=\")\n",
    "print(add)"
   ]
  },
  {
   "cell_type": "code",
   "execution_count": 20,
   "id": "3b40fec6",
   "metadata": {},
   "outputs": [
    {
     "name": "stdout",
     "output_type": "stream",
     "text": [
      "The multiplicartion of 2 matrix:\n",
      "[[ 71  92  88  82  91]\n",
      " [106 115 115 108 126]\n",
      " [ 73  60  60  66  77]\n",
      " [ 89  92  98  84 105]]\n"
     ]
    }
   ],
   "source": [
    "#2. Write a Python Program to Multiply Two Matrices?\n",
    "\n",
    "m1=np.random.randint(1,10,(4,3))\n",
    "m2=np.random.randint(5,9,(3,5))\n",
    "\n",
    "multi=m1@m2\n",
    "print(\"The multiplicartion of 2 matrix:\")\n",
    "print(multi)"
   ]
  },
  {
   "cell_type": "code",
   "execution_count": 26,
   "id": "c5443cba",
   "metadata": {},
   "outputs": [
    {
     "name": "stdout",
     "output_type": "stream",
     "text": [
      "The origional Matrix:\n",
      "[[7 4 9]\n",
      " [6 6 6]\n",
      " [8 3 8]\n",
      " [7 7 7]]\n",
      "The Transpose of matrix:\n",
      "[[7 6 8 7]\n",
      " [4 6 3 7]\n",
      " [9 6 8 7]]\n"
     ]
    }
   ],
   "source": [
    "#3. Write a Python Program to Transpose a Matrix?\n",
    "\n",
    "matrix=np.random.randint(3,10,(4,3))\n",
    "print(\"The origional Matrix:\")\n",
    "print(matrix)\n",
    "\n",
    "trans=matrix.T\n",
    "print(\"The Transpose of matrix:\")\n",
    "print(trans)"
   ]
  },
  {
   "cell_type": "code",
   "execution_count": 40,
   "id": "29a6b2a0",
   "metadata": {},
   "outputs": [
    {
     "name": "stdout",
     "output_type": "stream",
     "text": [
      "Origional string= we love ineuron fsds course\n",
      "The new sorted string= course fsds ineuron love we\n"
     ]
    }
   ],
   "source": [
    "#4. Write a Python Program to Sort Words in Alphabetic Order?\n",
    "string= \"we love ineuron fsds course\"\n",
    "print(\"Origional string=\",string)\n",
    "l=string.split(\" \")\n",
    "l.sort()\n",
    "s=\" \".join(l)\n",
    "print(\"The new sorted string=\",s)\n",
    "    \n",
    "    "
   ]
  },
  {
   "cell_type": "code",
   "execution_count": 43,
   "id": "3fabf755",
   "metadata": {},
   "outputs": [
    {
     "name": "stdout",
     "output_type": "stream",
     "text": [
      "Hello I neuron is the best\n"
     ]
    }
   ],
   "source": [
    "#5. Write a Python Program to Remove Punctuation From a String?\n",
    "\n",
    "s=\"Hello!!!, I neuron ---is the best.\"\n",
    "punc=\"''!()-[]{};:\\,<>./?@#$%^&*_~''\"\n",
    "no_punc=\"\"\n",
    "for i in s:\n",
    "    if i not in punc:\n",
    "        no_punc=no_punc+i\n",
    "print(no_punc)\n",
    "        \n",
    "   \n",
    "        \n",
    "        \n",
    "\n",
    "\n"
   ]
  },
  {
   "cell_type": "code",
   "execution_count": null,
   "id": "d5dc3a94",
   "metadata": {},
   "outputs": [],
   "source": []
  }
 ],
 "metadata": {
  "kernelspec": {
   "display_name": "Python 3 (ipykernel)",
   "language": "python",
   "name": "python3"
  },
  "language_info": {
   "codemirror_mode": {
    "name": "ipython",
    "version": 3
   },
   "file_extension": ".py",
   "mimetype": "text/x-python",
   "name": "python",
   "nbconvert_exporter": "python",
   "pygments_lexer": "ipython3",
   "version": "3.9.7"
  }
 },
 "nbformat": 4,
 "nbformat_minor": 5
}
